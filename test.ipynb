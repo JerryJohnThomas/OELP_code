{
 "cells": [
  {
   "cell_type": "code",
   "execution_count": 1,
   "metadata": {},
   "outputs": [],
   "source": [
    "x=5"
   ]
  },
  {
   "cell_type": "code",
   "execution_count": 2,
   "metadata": {},
   "outputs": [
    {
     "name": "stderr",
     "output_type": "stream",
     "text": [
      "Best score: 0: 100%|██████████| 20/20 [00:02<00:00,  8.00it/s]"
     ]
    },
    {
     "name": "stdout",
     "output_type": "stream",
     "text": [
      "Optimal value of parameters: {'x': 0} and objective: 0\n"
     ]
    },
    {
     "name": "stderr",
     "output_type": "stream",
     "text": [
      "\n"
     ]
    }
   ],
   "source": [
    "from mango import scheduler, Tuner\n",
    "\n",
    "# Search space\n",
    "param_space = dict(x=range(-10,10))\n",
    "\n",
    "# Quadratic objective Function\n",
    "@scheduler.serial\n",
    "def objective(x):\n",
    "    return x * x\n",
    "\n",
    "# Initialize and run Tuner\n",
    "tuner = Tuner(param_space, objective)\n",
    "results = tuner.minimize()\n",
    "\n",
    "print(f'Optimal value of parameters: {results[\"best_params\"]} and objective: {results[\"best_objective\"]}')\n",
    "# => Optimal value of parameters: {'x': 0}  and objective: 0"
   ]
  },
  {
   "cell_type": "code",
   "execution_count": null,
   "metadata": {},
   "outputs": [],
   "source": []
  }
 ],
 "metadata": {
  "interpreter": {
   "hash": "be203ce0b3afc4f5c37fbac412025d7ed1d67cabe9dd00b1fc8774c6d6d19d70"
  },
  "kernelspec": {
   "display_name": "pytorch",
   "language": "python",
   "name": "pytorch"
  },
  "language_info": {
   "codemirror_mode": {
    "name": "ipython",
    "version": 3
   },
   "file_extension": ".py",
   "mimetype": "text/x-python",
   "name": "python",
   "nbconvert_exporter": "python",
   "pygments_lexer": "ipython3",
   "version": "3.8.8"
  }
 },
 "nbformat": 4,
 "nbformat_minor": 2
}
