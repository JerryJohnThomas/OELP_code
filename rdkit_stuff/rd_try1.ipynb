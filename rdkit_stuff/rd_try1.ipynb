{
 "cells": [
  {
   "cell_type": "code",
   "execution_count": 1,
   "metadata": {},
   "outputs": [],
   "source": [
    "x=2"
   ]
  },
  {
   "cell_type": "code",
   "execution_count": 2,
   "metadata": {},
   "outputs": [],
   "source": [
    "import rdkit"
   ]
  },
  {
   "cell_type": "code",
   "execution_count": 1,
   "metadata": {},
   "outputs": [
    {
     "ename": "NameError",
     "evalue": "name 'x' is not defined",
     "output_type": "error",
     "traceback": [
      "\u001b[1;31m---------------------------------------------------------------------------\u001b[0m",
      "\u001b[1;31mNameError\u001b[0m                                 Traceback (most recent call last)",
      "\u001b[1;32md:\\code\\OELP_bigger\\rdkit_stuff\\rd_try1.ipynb Cell 3'\u001b[0m in \u001b[0;36m<cell line: 1>\u001b[1;34m()\u001b[0m\n\u001b[1;32m----> <a href='vscode-notebook-cell:/d%3A/code/OELP_bigger/rdkit_stuff/rd_try1.ipynb#ch0000002?line=0'>1</a>\u001b[0m \u001b[39mprint\u001b[39m(x)\n",
      "\u001b[1;31mNameError\u001b[0m: name 'x' is not defined"
     ]
    }
   ],
   "source": [
    "print(x)"
   ]
  },
  {
   "cell_type": "code",
   "execution_count": 1,
   "metadata": {},
   "outputs": [
    {
     "name": "stderr",
     "output_type": "stream",
     "text": [
      "d:\\Anaconda3\\envs\\my-rdkit-env\\lib\\site-packages\\tqdm\\auto.py:22: TqdmWarning: IProgress not found. Please update jupyter and ipywidgets. See https://ipywidgets.readthedocs.io/en/stable/user_install.html\n",
      "  from .autonotebook import tqdm as notebook_tqdm\n",
      "d:\\Anaconda3\\envs\\my-rdkit-env\\lib\\site-packages\\torch\\_masked\\__init__.py:223: UserWarning: Failed to initialize NumPy: module compiled against API version 0xf but this version of numpy is 0xe (Triggered internally at  ..\\torch\\csrc\\utils\\tensor_numpy.cpp:68.)\n",
      "  example_input = torch.tensor([[-3, -2, -1], [0, 1, 2]])\n"
     ]
    },
    {
     "ename": "FileNotFoundError",
     "evalue": "Could not find module 'D:\\Anaconda3\\envs\\my-rdkit-env\\Lib\\site-packages\\torch_sparse\\_convert_cuda.pyd' (or one of its dependencies). Try using the full path with constructor syntax.",
     "output_type": "error",
     "traceback": [
      "\u001b[1;31m---------------------------------------------------------------------------\u001b[0m",
      "\u001b[1;31mFileNotFoundError\u001b[0m                         Traceback (most recent call last)",
      "\u001b[1;32md:\\code\\OELP_bigger\\rdkit_stuff\\rd_try1.ipynb Cell 4'\u001b[0m in \u001b[0;36m<cell line: 1>\u001b[1;34m()\u001b[0m\n\u001b[1;32m----> <a href='vscode-notebook-cell:/d%3A/code/OELP_bigger/rdkit_stuff/rd_try1.ipynb#ch0000005?line=0'>1</a>\u001b[0m \u001b[39mfrom\u001b[39;00m \u001b[39mdig\u001b[39;00m\u001b[39m.\u001b[39;00m\u001b[39mxgraph\u001b[39;00m\u001b[39m.\u001b[39;00m\u001b[39mmodels\u001b[39;00m \u001b[39mimport\u001b[39;00m \u001b[39m*\u001b[39m\n",
      "File \u001b[1;32md:\\Anaconda3\\envs\\my-rdkit-env\\lib\\site-packages\\dig\\xgraph\\models\\__init__.py:1\u001b[0m, in \u001b[0;36m<module>\u001b[1;34m\u001b[0m\n\u001b[1;32m----> <a href='file:///d%3A/Anaconda3/envs/my-rdkit-env/lib/site-packages/dig/xgraph/models/__init__.py?line=0'>1</a>\u001b[0m \u001b[39mfrom\u001b[39;00m \u001b[39m.\u001b[39;00m\u001b[39mmodels\u001b[39;00m \u001b[39mimport\u001b[39;00m GCNConv, GINConv, GINConv_mask, GCNConv_mask, GCN_2l_mask, GCN_2l, GCN_3l, GIN_2l, GIN_3l, \\\n\u001b[0;32m      <a href='file:///d%3A/Anaconda3/envs/my-rdkit-env/lib/site-packages/dig/xgraph/models/__init__.py?line=1'>2</a>\u001b[0m     GIN_2l_mask, GNNPool, GNNBasic, GlobalMeanPool, GraphSequential, IdenticalPool\n\u001b[0;32m      <a href='file:///d%3A/Anaconda3/envs/my-rdkit-env/lib/site-packages/dig/xgraph/models/__init__.py?line=2'>3</a>\u001b[0m \u001b[39mfrom\u001b[39;00m \u001b[39m.\u001b[39;00m\u001b[39mmodel_manager\u001b[39;00m \u001b[39mimport\u001b[39;00m load_model, config_model\n\u001b[0;32m      <a href='file:///d%3A/Anaconda3/envs/my-rdkit-env/lib/site-packages/dig/xgraph/models/__init__.py?line=3'>4</a>\u001b[0m \u001b[39mfrom\u001b[39;00m \u001b[39m.\u001b[39;00m\u001b[39mutils\u001b[39;00m \u001b[39mimport\u001b[39;00m ReadOut\n",
      "File \u001b[1;32md:\\Anaconda3\\envs\\my-rdkit-env\\lib\\site-packages\\dig\\xgraph\\models\\models.py:11\u001b[0m, in \u001b[0;36m<module>\u001b[1;34m\u001b[0m\n\u001b[0;32m      <a href='file:///d%3A/Anaconda3/envs/my-rdkit-env/lib/site-packages/dig/xgraph/models/models.py?line=8'>9</a>\u001b[0m \u001b[39mimport\u001b[39;00m \u001b[39mtorch\u001b[39;00m\n\u001b[0;32m     <a href='file:///d%3A/Anaconda3/envs/my-rdkit-env/lib/site-packages/dig/xgraph/models/models.py?line=9'>10</a>\u001b[0m \u001b[39mimport\u001b[39;00m \u001b[39mtorch\u001b[39;00m\u001b[39m.\u001b[39;00m\u001b[39mnn\u001b[39;00m \u001b[39mas\u001b[39;00m \u001b[39mnn\u001b[39;00m\n\u001b[1;32m---> <a href='file:///d%3A/Anaconda3/envs/my-rdkit-env/lib/site-packages/dig/xgraph/models/models.py?line=10'>11</a>\u001b[0m \u001b[39mimport\u001b[39;00m \u001b[39mtorch_geometric\u001b[39;00m\u001b[39m.\u001b[39;00m\u001b[39mnn\u001b[39;00m \u001b[39mas\u001b[39;00m \u001b[39mgnn\u001b[39;00m\n\u001b[0;32m     <a href='file:///d%3A/Anaconda3/envs/my-rdkit-env/lib/site-packages/dig/xgraph/models/models.py?line=11'>12</a>\u001b[0m \u001b[39mfrom\u001b[39;00m \u001b[39mtorch_geometric\u001b[39;00m\u001b[39m.\u001b[39;00m\u001b[39mutils\u001b[39;00m\u001b[39m.\u001b[39;00m\u001b[39mloop\u001b[39;00m \u001b[39mimport\u001b[39;00m add_self_loops, remove_self_loops\n\u001b[0;32m     <a href='file:///d%3A/Anaconda3/envs/my-rdkit-env/lib/site-packages/dig/xgraph/models/models.py?line=12'>13</a>\u001b[0m \u001b[39mfrom\u001b[39;00m \u001b[39mtorch_geometric\u001b[39;00m\u001b[39m.\u001b[39;00m\u001b[39mdata\u001b[39;00m\u001b[39m.\u001b[39;00m\u001b[39mbatch\u001b[39;00m \u001b[39mimport\u001b[39;00m Batch\n",
      "File \u001b[1;32md:\\Anaconda3\\envs\\my-rdkit-env\\lib\\site-packages\\torch_geometric\\__init__.py:4\u001b[0m, in \u001b[0;36m<module>\u001b[1;34m\u001b[0m\n\u001b[0;32m      <a href='file:///d%3A/Anaconda3/envs/my-rdkit-env/lib/site-packages/torch_geometric/__init__.py?line=0'>1</a>\u001b[0m \u001b[39mfrom\u001b[39;00m \u001b[39mtypes\u001b[39;00m \u001b[39mimport\u001b[39;00m ModuleType\n\u001b[0;32m      <a href='file:///d%3A/Anaconda3/envs/my-rdkit-env/lib/site-packages/torch_geometric/__init__.py?line=1'>2</a>\u001b[0m \u001b[39mfrom\u001b[39;00m \u001b[39mimportlib\u001b[39;00m \u001b[39mimport\u001b[39;00m import_module\n\u001b[1;32m----> <a href='file:///d%3A/Anaconda3/envs/my-rdkit-env/lib/site-packages/torch_geometric/__init__.py?line=3'>4</a>\u001b[0m \u001b[39mimport\u001b[39;00m \u001b[39mtorch_geometric\u001b[39;00m\u001b[39m.\u001b[39;00m\u001b[39mdata\u001b[39;00m\n\u001b[0;32m      <a href='file:///d%3A/Anaconda3/envs/my-rdkit-env/lib/site-packages/torch_geometric/__init__.py?line=4'>5</a>\u001b[0m \u001b[39mimport\u001b[39;00m \u001b[39mtorch_geometric\u001b[39;00m\u001b[39m.\u001b[39;00m\u001b[39mloader\u001b[39;00m\n\u001b[0;32m      <a href='file:///d%3A/Anaconda3/envs/my-rdkit-env/lib/site-packages/torch_geometric/__init__.py?line=5'>6</a>\u001b[0m \u001b[39mimport\u001b[39;00m \u001b[39mtorch_geometric\u001b[39;00m\u001b[39m.\u001b[39;00m\u001b[39mtransforms\u001b[39;00m\n",
      "File \u001b[1;32md:\\Anaconda3\\envs\\my-rdkit-env\\lib\\site-packages\\torch_geometric\\data\\__init__.py:1\u001b[0m, in \u001b[0;36m<module>\u001b[1;34m\u001b[0m\n\u001b[1;32m----> <a href='file:///d%3A/Anaconda3/envs/my-rdkit-env/lib/site-packages/torch_geometric/data/__init__.py?line=0'>1</a>\u001b[0m \u001b[39mfrom\u001b[39;00m \u001b[39m.\u001b[39;00m\u001b[39mdata\u001b[39;00m \u001b[39mimport\u001b[39;00m Data\n\u001b[0;32m      <a href='file:///d%3A/Anaconda3/envs/my-rdkit-env/lib/site-packages/torch_geometric/data/__init__.py?line=1'>2</a>\u001b[0m \u001b[39mfrom\u001b[39;00m \u001b[39m.\u001b[39;00m\u001b[39mhetero_data\u001b[39;00m \u001b[39mimport\u001b[39;00m HeteroData\n\u001b[0;32m      <a href='file:///d%3A/Anaconda3/envs/my-rdkit-env/lib/site-packages/torch_geometric/data/__init__.py?line=2'>3</a>\u001b[0m \u001b[39mfrom\u001b[39;00m \u001b[39m.\u001b[39;00m\u001b[39mtemporal\u001b[39;00m \u001b[39mimport\u001b[39;00m TemporalData\n",
      "File \u001b[1;32md:\\Anaconda3\\envs\\my-rdkit-env\\lib\\site-packages\\torch_geometric\\data\\data.py:9\u001b[0m, in \u001b[0;36m<module>\u001b[1;34m\u001b[0m\n\u001b[0;32m      <a href='file:///d%3A/Anaconda3/envs/my-rdkit-env/lib/site-packages/torch_geometric/data/data.py?line=6'>7</a>\u001b[0m \u001b[39mimport\u001b[39;00m \u001b[39mtorch\u001b[39;00m\n\u001b[0;32m      <a href='file:///d%3A/Anaconda3/envs/my-rdkit-env/lib/site-packages/torch_geometric/data/data.py?line=7'>8</a>\u001b[0m \u001b[39mfrom\u001b[39;00m \u001b[39mtorch\u001b[39;00m \u001b[39mimport\u001b[39;00m Tensor\n\u001b[1;32m----> <a href='file:///d%3A/Anaconda3/envs/my-rdkit-env/lib/site-packages/torch_geometric/data/data.py?line=8'>9</a>\u001b[0m \u001b[39mfrom\u001b[39;00m \u001b[39mtorch_sparse\u001b[39;00m \u001b[39mimport\u001b[39;00m SparseTensor\n\u001b[0;32m     <a href='file:///d%3A/Anaconda3/envs/my-rdkit-env/lib/site-packages/torch_geometric/data/data.py?line=10'>11</a>\u001b[0m \u001b[39mfrom\u001b[39;00m \u001b[39mtorch_geometric\u001b[39;00m\u001b[39m.\u001b[39;00m\u001b[39mdata\u001b[39;00m\u001b[39m.\u001b[39;00m\u001b[39mstorage\u001b[39;00m \u001b[39mimport\u001b[39;00m (BaseStorage, EdgeStorage,\n\u001b[0;32m     <a href='file:///d%3A/Anaconda3/envs/my-rdkit-env/lib/site-packages/torch_geometric/data/data.py?line=11'>12</a>\u001b[0m                                           GlobalStorage, NodeStorage)\n\u001b[0;32m     <a href='file:///d%3A/Anaconda3/envs/my-rdkit-env/lib/site-packages/torch_geometric/data/data.py?line=12'>13</a>\u001b[0m \u001b[39mfrom\u001b[39;00m \u001b[39mtorch_geometric\u001b[39;00m\u001b[39m.\u001b[39;00m\u001b[39mdeprecation\u001b[39;00m \u001b[39mimport\u001b[39;00m deprecated\n",
      "File \u001b[1;32md:\\Anaconda3\\envs\\my-rdkit-env\\lib\\site-packages\\torch_sparse\\__init__.py:19\u001b[0m, in \u001b[0;36m<module>\u001b[1;34m\u001b[0m\n\u001b[0;32m     <a href='file:///d%3A/Anaconda3/envs/my-rdkit-env/lib/site-packages/torch_sparse/__init__.py?line=16'>17</a>\u001b[0m spec \u001b[39m=\u001b[39m cuda_spec \u001b[39mor\u001b[39;00m cpu_spec\n\u001b[0;32m     <a href='file:///d%3A/Anaconda3/envs/my-rdkit-env/lib/site-packages/torch_sparse/__init__.py?line=17'>18</a>\u001b[0m \u001b[39mif\u001b[39;00m spec \u001b[39mis\u001b[39;00m \u001b[39mnot\u001b[39;00m \u001b[39mNone\u001b[39;00m:\n\u001b[1;32m---> <a href='file:///d%3A/Anaconda3/envs/my-rdkit-env/lib/site-packages/torch_sparse/__init__.py?line=18'>19</a>\u001b[0m     torch\u001b[39m.\u001b[39;49mops\u001b[39m.\u001b[39;49mload_library(spec\u001b[39m.\u001b[39;49morigin)\n\u001b[0;32m     <a href='file:///d%3A/Anaconda3/envs/my-rdkit-env/lib/site-packages/torch_sparse/__init__.py?line=19'>20</a>\u001b[0m \u001b[39melse\u001b[39;00m:  \u001b[39m# pragma: no cover\u001b[39;00m\n\u001b[0;32m     <a href='file:///d%3A/Anaconda3/envs/my-rdkit-env/lib/site-packages/torch_sparse/__init__.py?line=20'>21</a>\u001b[0m     \u001b[39mraise\u001b[39;00m \u001b[39mImportError\u001b[39;00m(\u001b[39mf\u001b[39m\u001b[39m\"\u001b[39m\u001b[39mCould not find module \u001b[39m\u001b[39m'\u001b[39m\u001b[39m{\u001b[39;00mlibrary\u001b[39m}\u001b[39;00m\u001b[39m_cpu\u001b[39m\u001b[39m'\u001b[39m\u001b[39m in \u001b[39m\u001b[39m\"\u001b[39m\n\u001b[0;32m     <a href='file:///d%3A/Anaconda3/envs/my-rdkit-env/lib/site-packages/torch_sparse/__init__.py?line=21'>22</a>\u001b[0m                       \u001b[39mf\u001b[39m\u001b[39m\"\u001b[39m\u001b[39m{\u001b[39;00mosp\u001b[39m.\u001b[39mdirname(\u001b[39m__file__\u001b[39m)\u001b[39m}\u001b[39;00m\u001b[39m\"\u001b[39m)\n",
      "File \u001b[1;32md:\\Anaconda3\\envs\\my-rdkit-env\\lib\\site-packages\\torch\\_ops.py:220\u001b[0m, in \u001b[0;36m_Ops.load_library\u001b[1;34m(self, path)\u001b[0m\n\u001b[0;32m    <a href='file:///d%3A/Anaconda3/envs/my-rdkit-env/lib/site-packages/torch/_ops.py?line=214'>215</a>\u001b[0m path \u001b[39m=\u001b[39m torch\u001b[39m.\u001b[39m_utils_internal\u001b[39m.\u001b[39mresolve_library_path(path)\n\u001b[0;32m    <a href='file:///d%3A/Anaconda3/envs/my-rdkit-env/lib/site-packages/torch/_ops.py?line=215'>216</a>\u001b[0m \u001b[39mwith\u001b[39;00m dl_open_guard():\n\u001b[0;32m    <a href='file:///d%3A/Anaconda3/envs/my-rdkit-env/lib/site-packages/torch/_ops.py?line=216'>217</a>\u001b[0m     \u001b[39m# Import the shared library into the process, thus running its\u001b[39;00m\n\u001b[0;32m    <a href='file:///d%3A/Anaconda3/envs/my-rdkit-env/lib/site-packages/torch/_ops.py?line=217'>218</a>\u001b[0m     \u001b[39m# static (global) initialization code in order to register custom\u001b[39;00m\n\u001b[0;32m    <a href='file:///d%3A/Anaconda3/envs/my-rdkit-env/lib/site-packages/torch/_ops.py?line=218'>219</a>\u001b[0m     \u001b[39m# operators with the JIT.\u001b[39;00m\n\u001b[1;32m--> <a href='file:///d%3A/Anaconda3/envs/my-rdkit-env/lib/site-packages/torch/_ops.py?line=219'>220</a>\u001b[0m     ctypes\u001b[39m.\u001b[39;49mCDLL(path)\n\u001b[0;32m    <a href='file:///d%3A/Anaconda3/envs/my-rdkit-env/lib/site-packages/torch/_ops.py?line=220'>221</a>\u001b[0m \u001b[39mself\u001b[39m\u001b[39m.\u001b[39mloaded_libraries\u001b[39m.\u001b[39madd(path)\n",
      "File \u001b[1;32md:\\Anaconda3\\envs\\my-rdkit-env\\lib\\ctypes\\__init__.py:374\u001b[0m, in \u001b[0;36mCDLL.__init__\u001b[1;34m(self, name, mode, handle, use_errno, use_last_error, winmode)\u001b[0m\n\u001b[0;32m    <a href='file:///d%3A/Anaconda3/envs/my-rdkit-env/lib/ctypes/__init__.py?line=370'>371</a>\u001b[0m \u001b[39mself\u001b[39m\u001b[39m.\u001b[39m_FuncPtr \u001b[39m=\u001b[39m _FuncPtr\n\u001b[0;32m    <a href='file:///d%3A/Anaconda3/envs/my-rdkit-env/lib/ctypes/__init__.py?line=372'>373</a>\u001b[0m \u001b[39mif\u001b[39;00m handle \u001b[39mis\u001b[39;00m \u001b[39mNone\u001b[39;00m:\n\u001b[1;32m--> <a href='file:///d%3A/Anaconda3/envs/my-rdkit-env/lib/ctypes/__init__.py?line=373'>374</a>\u001b[0m     \u001b[39mself\u001b[39m\u001b[39m.\u001b[39m_handle \u001b[39m=\u001b[39m _dlopen(\u001b[39mself\u001b[39;49m\u001b[39m.\u001b[39;49m_name, mode)\n\u001b[0;32m    <a href='file:///d%3A/Anaconda3/envs/my-rdkit-env/lib/ctypes/__init__.py?line=374'>375</a>\u001b[0m \u001b[39melse\u001b[39;00m:\n\u001b[0;32m    <a href='file:///d%3A/Anaconda3/envs/my-rdkit-env/lib/ctypes/__init__.py?line=375'>376</a>\u001b[0m     \u001b[39mself\u001b[39m\u001b[39m.\u001b[39m_handle \u001b[39m=\u001b[39m handle\n",
      "\u001b[1;31mFileNotFoundError\u001b[0m: Could not find module 'D:\\Anaconda3\\envs\\my-rdkit-env\\Lib\\site-packages\\torch_sparse\\_convert_cuda.pyd' (or one of its dependencies). Try using the full path with constructor syntax."
     ]
    }
   ],
   "source": [
    "from dig.xgraph.models import *\n"
   ]
  },
  {
   "cell_type": "code",
   "execution_count": 4,
   "metadata": {},
   "outputs": [
    {
     "ename": "ModuleNotFoundError",
     "evalue": "No module named 'dig'",
     "output_type": "error",
     "traceback": [
      "\u001b[1;31m---------------------------------------------------------------------------\u001b[0m",
      "\u001b[1;31mModuleNotFoundError\u001b[0m                       Traceback (most recent call last)",
      "\u001b[1;32md:\\code\\OELP_bigger\\rdkit_stuff\\rd_try1.ipynb Cell 4'\u001b[0m in \u001b[0;36m<cell line: 1>\u001b[1;34m()\u001b[0m\n\u001b[1;32m----> <a href='vscode-notebook-cell:/d%3A/code/OELP_bigger/rdkit_stuff/rd_try1.ipynb#ch0000003?line=0'>1</a>\u001b[0m \u001b[39mfrom\u001b[39;00m \u001b[39mdig\u001b[39;00m\u001b[39m.\u001b[39;00m\u001b[39mxgraph\u001b[39;00m\u001b[39m.\u001b[39;00m\u001b[39mdataset\u001b[39;00m \u001b[39mimport\u001b[39;00m SynGraphDataset\n\u001b[0;32m      <a href='vscode-notebook-cell:/d%3A/code/OELP_bigger/rdkit_stuff/rd_try1.ipynb#ch0000003?line=1'>2</a>\u001b[0m \u001b[39mfrom\u001b[39;00m \u001b[39mdig\u001b[39;00m\u001b[39m.\u001b[39;00m\u001b[39mxgraph\u001b[39;00m\u001b[39m.\u001b[39;00m\u001b[39mmodels\u001b[39;00m \u001b[39mimport\u001b[39;00m \u001b[39m*\u001b[39m\n\u001b[0;32m      <a href='vscode-notebook-cell:/d%3A/code/OELP_bigger/rdkit_stuff/rd_try1.ipynb#ch0000003?line=2'>3</a>\u001b[0m \u001b[39mimport\u001b[39;00m \u001b[39mtorch\u001b[39;00m\n",
      "\u001b[1;31mModuleNotFoundError\u001b[0m: No module named 'dig'"
     ]
    }
   ],
   "source": [
    "from dig.xgraph.dataset import SynGraphDataset\n",
    "from dig.xgraph.models import *\n",
    "import torch\n",
    "from torch_geometric.data import DataLoader\n",
    "from torch_geometric.data import Data, InMemoryDataset, download_url, extract_zip\n",
    "import os.path as osp\n",
    "import os\n",
    "\n",
    "device = torch.device('cuda:0' if torch.cuda.is_available() else 'cpu')"
   ]
  },
  {
   "cell_type": "code",
   "execution_count": null,
   "metadata": {},
   "outputs": [],
   "source": []
  }
 ],
 "metadata": {
  "interpreter": {
   "hash": "f550dcdfce352f877e8c7db767d18e58cf61b5e109b4b214d84e59e448ba86af"
  },
  "kernelspec": {
   "display_name": "Python 3.10.4 ('my-rdkit-env')",
   "language": "python",
   "name": "python3"
  },
  "language_info": {
   "codemirror_mode": {
    "name": "ipython",
    "version": 3
   },
   "file_extension": ".py",
   "mimetype": "text/x-python",
   "name": "python",
   "nbconvert_exporter": "python",
   "pygments_lexer": "ipython3",
   "version": "3.10.4"
  },
  "orig_nbformat": 4
 },
 "nbformat": 4,
 "nbformat_minor": 2
}
