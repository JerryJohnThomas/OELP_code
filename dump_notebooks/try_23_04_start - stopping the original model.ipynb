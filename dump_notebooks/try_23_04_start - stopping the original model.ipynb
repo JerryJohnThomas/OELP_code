{
 "cells": [
  {
   "cell_type": "code",
   "execution_count": 1,
   "id": "7321464b",
   "metadata": {},
   "outputs": [],
   "source": [
    "x=3"
   ]
  },
  {
   "cell_type": "code",
   "execution_count": 2,
   "id": "932d5c0d",
   "metadata": {},
   "outputs": [],
   "source": [
    "import torch"
   ]
  },
  {
   "cell_type": "code",
   "execution_count": 3,
   "id": "9a070583",
   "metadata": {},
   "outputs": [],
   "source": [
    "import pandas as pd"
   ]
  },
  {
   "cell_type": "code",
   "execution_count": 4,
   "id": "6647fc7e",
   "metadata": {},
   "outputs": [],
   "source": [
    "import torch_geometric\n",
    "from torch_geometric.data import Dataset, Data\n",
    "import numpy as np \n",
    "import os\n",
    "from tqdm import tqdm"
   ]
  },
  {
   "cell_type": "code",
   "execution_count": 5,
   "id": "f325fd0d",
   "metadata": {},
   "outputs": [],
   "source": [
    "import torch.nn.functional as F \n",
    "from torch.nn import Linear, BatchNorm1d, ModuleList\n",
    "from torch_geometric.nn import TransformerConv, TopKPooling \n",
    "from torch_geometric.nn import global_mean_pool as gap, global_max_pool as gmp\n",
    "# torch.manual_seed(42)"
   ]
  },
  {
   "cell_type": "code",
   "execution_count": 6,
   "id": "6ab461a9",
   "metadata": {},
   "outputs": [],
   "source": [
    "import mlflow.pytorch"
   ]
  },
  {
   "cell_type": "code",
   "execution_count": 7,
   "id": "20d1afae",
   "metadata": {},
   "outputs": [
    {
     "name": "stdout",
     "output_type": "stream",
     "text": [
      "Torch version: 1.11.0\n",
      "Cuda available: True\n",
      "Torch geometric version: 2.0.4\n"
     ]
    }
   ],
   "source": [
    "print(f\"Torch version: {torch.__version__}\")\n",
    "print(f\"Cuda available: {torch.cuda.is_available()}\")\n",
    "print(f\"Torch geometric version: {torch_geometric.__version__}\")"
   ]
  },
  {
   "cell_type": "markdown",
   "id": "f2eb90cb",
   "metadata": {},
   "source": [
    "## Dataset Creation"
   ]
  },
  {
   "cell_type": "markdown",
   "id": "4933b7f1",
   "metadata": {},
   "source": [
    "https://github.com/quarkslab/dataset-call-graph-blogpost-material"
   ]
  },
  {
   "cell_type": "markdown",
   "id": "98cd4213",
   "metadata": {},
   "source": [
    "https://colab.research.google.com/drive/17JFlnMUjcsMmXQYXF8xZ3z169VDAwUls?authuser=1"
   ]
  },
  {
   "cell_type": "markdown",
   "id": "42475076",
   "metadata": {},
   "source": [
    "https://www.youtube.com/watch?v=QLIkOtKS4os&list=PLV8yxwGOxvvoNkzPfCx2i8an--Tkt7O8Z&index=9"
   ]
  },
  {
   "cell_type": "code",
   "execution_count": null,
   "id": "7a0c3a8b",
   "metadata": {},
   "outputs": [],
   "source": [
    "# test_dataset = MoleculeDataset(root=\"data/\", filename=\"HIV_test.csv\", test=True)"
   ]
  },
  {
   "cell_type": "code",
   "execution_count": 8,
   "id": "35bff41a",
   "metadata": {},
   "outputs": [],
   "source": [
    "import pickle\n",
    "path_temp= \"dataset-call-graph-blogpost-material/dataset/\""
   ]
  },
  {
   "cell_type": "code",
   "execution_count": 9,
   "id": "39810b4a",
   "metadata": {},
   "outputs": [],
   "source": [
    "good_data=pickle.load(open(path_temp+\"goodware_graphs.p\",\"rb\"))\n",
    "bad_data=pickle.load(open(path_temp+\"malware_graphs.p\",\"rb\"))"
   ]
  },
  {
   "cell_type": "code",
   "execution_count": 10,
   "id": "374db08d",
   "metadata": {},
   "outputs": [
    {
     "name": "stdout",
     "output_type": "stream",
     "text": [
      "length of array =  546\n",
      "length of 1 item =  2\n",
      "length of first thing in one item =  464\n",
      "length of second thing in one item =  464\n"
     ]
    }
   ],
   "source": [
    "print(\"length of array = \",len(good_data))\n",
    "print(\"length of 1 item = \",len(good_data[0]))\n",
    "print(\"length of first thing in one item = \",len(good_data[0][0]))\n",
    "print(\"length of second thing in one item = \",len(good_data[0][1]))"
   ]
  },
  {
   "cell_type": "code",
   "execution_count": 11,
   "id": "8a1fde57",
   "metadata": {},
   "outputs": [],
   "source": [
    "node_feature_menu=['mov', 'call', 'lea', 'jmp', 'push', 'add', 'xor', 'cmp', 'int3', 'nop', 'pushl', 'dec', 'sub', 'insl', 'inc','jz', 'jnz', 'je', 'jne', 'ja', 'jna', 'js', 'jns', 'jl', 'jnl', 'jg', 'jng']"
   ]
  },
  {
   "cell_type": "code",
   "execution_count": 12,
   "id": "16078f68",
   "metadata": {},
   "outputs": [],
   "source": [
    "\n",
    "class MoleculeDataset(Dataset):\n",
    "    def __init__(self, root, filename,good_data, bad_data, test=False, transform=None, pre_transform=None):\n",
    "        \"\"\"\n",
    "        root = Where the dataset should be stored. This folder is split\n",
    "        into raw_dir (downloaded dataset) and processed_dir (processed data). \n",
    "        \"\"\"\n",
    "        self.test = test\n",
    "        self.filename = filename\n",
    "        self.good_data=good_data\n",
    "        self.bad_data=bad_data\n",
    "        super(MoleculeDataset, self).__init__(root, transform, pre_transform)\n",
    "        self.data_passed=self.good_data+self.bad_data\n",
    "        \n",
    "    @property\n",
    "    def raw_file_names(self):\n",
    "        \"\"\" If this file exists in raw_dir, the download is not triggered.\n",
    "            (The download func. is not implemented here)  \n",
    "        \"\"\"\n",
    "        return [\"goodware_graphs.p\",\"malware_graphs.p\"]\n",
    "\n",
    "    @property\n",
    "    def processed_file_names(self):\n",
    "        \"\"\" If these files are found in raw_dir, processing is skipped\"\"\"\n",
    "#         self.data = self.data_passed\n",
    "        return \"NOt implemented yet\"\n",
    "\n",
    "        # if self.test:\n",
    "        #     return [f'data_test_{i}.pt' for i in list(self.data.index)]\n",
    "        # else:\n",
    "        #     return [f'data_{i}.pt' for i in list(self.data.index)]\n",
    "\n",
    "    def download(self):\n",
    "        pass\n",
    "\n",
    "    def process(self):\n",
    "#         self.data = self.data_passed\n",
    "        print(\"started doing stuff\")\n",
    "        index=0\n",
    "\n",
    "        for mol in (self.good_data):\n",
    "            \n",
    "\n",
    "            feature_data=mol[0]\n",
    "            neighbour_data=mol[1]\n",
    "\n",
    "            # i need to create inst ->index\n",
    "            instr_index=dict()\n",
    "            for a,b in enumerate(feature_data):\n",
    "              instr_index[b]=a \n",
    "\n",
    "            # Get node features\n",
    "            node_feats = self._get_node_features(feature_data,instr_index)\n",
    "            # Get edge features\n",
    "            edge_feats = self._get_edge_features(neighbour_data)\n",
    "#             edge_feats = []\n",
    "            # Get adjacency info\n",
    "            edge_index = self._get_adjacency_info(neighbour_data,instr_index)\n",
    "\n",
    "            # Get labels info\n",
    "            label = 1\n",
    "\n",
    "            # Create data object\n",
    "            data = Data(x=node_feats, \n",
    "                        edge_index=edge_index,\n",
    "                        edge_attr=edge_feats,\n",
    "                        y=label,\n",
    "                        smiles=mol\n",
    "                        ) \n",
    "                        \n",
    "            torch.save(data, \n",
    "                    os.path.join(self.processed_dir, \n",
    "                                 f'data_{index}.pt'))\n",
    "\n",
    "            index+=1\n",
    "        \n",
    "        for mol in (self.bad_data):\n",
    "            \n",
    "\n",
    "            feature_data=mol[0]\n",
    "            neighbour_data=mol[1]\n",
    "\n",
    "            # i need to create inst ->index\n",
    "            instr_index=dict()\n",
    "            for a,b in enumerate(feature_data):\n",
    "              instr_index[b]=a \n",
    "\n",
    "            # Get node features\n",
    "            node_feats = self._get_node_features(feature_data,instr_index)\n",
    "            # Get edge features\n",
    "            edge_feats = self._get_edge_features(neighbour_data)\n",
    "#             edge_feats = []\n",
    "            # Get adjacency info\n",
    "            edge_index = self._get_adjacency_info(neighbour_data,instr_index)\n",
    "\n",
    "            # Get labels info\n",
    "            label = 0\n",
    "\n",
    "            # Create data object\n",
    "            data = Data(x=node_feats, \n",
    "                        edge_index=edge_index,\n",
    "                        edge_attr=edge_feats,\n",
    "                        y=label,\n",
    "                        smiles=mol\n",
    "                        ) \n",
    "                        \n",
    "            torch.save(data, \n",
    "                    os.path.join(self.processed_dir, \n",
    "                                 f'data_{index}.pt'))\n",
    "\n",
    "            index+=1\n",
    "        \n",
    "        \n",
    "\n",
    "    def process_node_features(self,val, node_feature_menu):\n",
    "      # print(\"jj\")\n",
    "      # print(val)\n",
    "      node_out=[]\n",
    "      keys=val.keys()\n",
    "      for name in node_feature_menu : \n",
    "        if(name in keys):\n",
    "          node_out.append(val[name])\n",
    "        else:\n",
    "          node_out.append(0)\n",
    "      return node_out\n",
    "\n",
    "\n",
    "    def _get_node_features(self, node_features,instr_index):\n",
    "        \"\"\" \n",
    "        This will return a matrix / 2d array of the shape\n",
    "        [Number of Nodes, Node Feature size]\n",
    "        \"\"\"\n",
    "        node_feature_menu=['mov', 'call', 'lea', 'jmp', 'push', 'add', 'xor', 'cmp', 'int3', 'nop', 'pushl', 'dec', 'sub', 'insl', 'inc','jz', 'jnz', 'je', 'jne', 'ja', 'jna', 'js', 'jns', 'jl', 'jnl', 'jg', 'jng']\n",
    "\n",
    "        all_node_feats = []\n",
    "\n",
    "        for atom in node_features:\n",
    "            # print(\"atom is\",atom)\n",
    "            \n",
    "            node_feats = []\n",
    "            node_feats = self.process_node_features(node_features[atom],node_feature_menu)\n",
    "            # Append node features to matrix\n",
    "            all_node_feats.append(node_feats)\n",
    "\n",
    "        all_node_feats = np.asarray(all_node_feats)\n",
    "        return torch.tensor(all_node_feats, dtype=torch.float)\n",
    "\n",
    "    def _get_edge_features(self, mol):\n",
    "        \"\"\" \n",
    "        This will return a matrix / 2d array of the shape\n",
    "        [Number of edges, Edge Feature size]\n",
    "        \"\"\"\n",
    "        all_edge_feats = []\n",
    "\n",
    "        # for bond in mol.GetBonds():\n",
    "        #     edge_feats = []\n",
    "        #     # Feature 1: Bond type (as double)\n",
    "        #     edge_feats.append(bond.GetBondTypeAsDouble())\n",
    "        #     # Feature 2: Rings\n",
    "        #     edge_feats.append(bond.IsInRing())\n",
    "        #     # Append node features to matrix (twice, per direction)\n",
    "        #     all_edge_feats += [edge_feats, edge_feats]\n",
    "\n",
    "        all_edge_feats = np.asarray(all_edge_feats)\n",
    "        return torch.tensor(all_edge_feats, dtype=torch.float)\n",
    "\n",
    "    def get_one_instr_adjacency(self,val,instr_index,self_instruction_number):\n",
    "        edge_val=[]\n",
    "        for a in val:\n",
    "            edge_val+=[[instr_index[self_instruction_number],instr_index[a]]]\n",
    "\n",
    "        return edge_val\n",
    "\n",
    "    def _get_adjacency_info(self, mol, instr_index):\n",
    "        \"\"\"\n",
    "        We could also use rdmolops.GetAdjacencyMatrix(mol)\n",
    "        but we want to be sure that the order of the indices\n",
    "        matches the order of the edge features\n",
    "        \"\"\"\n",
    "        edge_indices = []\n",
    "        for bond in mol:\n",
    "            edge_indices += self.get_one_instr_adjacency(mol[bond],instr_index,bond)\n",
    "\n",
    "        edge_indices = torch.tensor(edge_indices)\n",
    "        edge_indices = edge_indices.t().to(torch.long).view(2, -1)\n",
    "        return edge_indices\n",
    "\n",
    "    def _get_labels(self, label):\n",
    "        label = np.asarray([label])\n",
    "        return torch.tensor(label, dtype=torch.int64)\n",
    "\n",
    "    def len(self):\n",
    "#         return self.data_pass.shape[0]\n",
    "        return len(self.data_passed)\n",
    "\n",
    "    def get(self, idx):\n",
    "        \"\"\" - Equivalent to __getitem__ in pytorch\n",
    "            - Is not needed for PyG's InMemoryDataset\n",
    "        \"\"\"\n",
    "        data = torch.load(os.path.join(self.processed_dir, \n",
    "                             f'data_{idx}.pt'))\n",
    "        return data\n",
    "\n",
    "\n",
    "\n"
   ]
  },
  {
   "cell_type": "code",
   "execution_count": 13,
   "id": "9fbe3557",
   "metadata": {},
   "outputs": [
    {
     "name": "stderr",
     "output_type": "stream",
     "text": [
      "Processing...\n"
     ]
    },
    {
     "name": "stdout",
     "output_type": "stream",
     "text": [
      "started doing stuff\n"
     ]
    },
    {
     "name": "stderr",
     "output_type": "stream",
     "text": [
      "Done!\n"
     ]
    }
   ],
   "source": [
    "train_dataset = MoleculeDataset(root=\"data/\", filename=\"goodware_graphs.p\", good_data=good_data, bad_data=bad_data)"
   ]
  },
  {
   "cell_type": "code",
   "execution_count": 14,
   "id": "cac9ec7d",
   "metadata": {},
   "outputs": [
    {
     "name": "stdout",
     "output_type": "stream",
     "text": [
      "Data(x=[1222, 27], edge_index=[2, 3265], edge_attr=[0], y=0, smiles=[2])\n"
     ]
    }
   ],
   "source": [
    "print(train_dataset[600])"
   ]
  },
  {
   "cell_type": "code",
   "execution_count": 15,
   "id": "a02df057",
   "metadata": {},
   "outputs": [
    {
     "name": "stdout",
     "output_type": "stream",
     "text": [
      "tensor([[  1, 437],\n",
      "        [  2,   4],\n",
      "        [  3, 412],\n",
      "        ...,\n",
      "        [491, 142],\n",
      "        [491, 289],\n",
      "        [491, 135]])\n"
     ]
    }
   ],
   "source": [
    "print(train_dataset[1].edge_index.t())"
   ]
  },
  {
   "cell_type": "code",
   "execution_count": 16,
   "id": "f0b7d446",
   "metadata": {},
   "outputs": [
    {
     "name": "stdout",
     "output_type": "stream",
     "text": [
      "tensor([[ 4.,  0.,  0.,  ...,  0.,  0.,  0.],\n",
      "        [ 0.,  0.,  0.,  ...,  0.,  0.,  0.],\n",
      "        [ 0.,  0.,  0.,  ...,  0.,  0.,  0.],\n",
      "        ...,\n",
      "        [11.,  0.,  2.,  ...,  0.,  0.,  0.],\n",
      "        [ 7.,  4.,  2.,  ...,  0.,  0.,  0.],\n",
      "        [26., 10.,  0.,  ...,  0.,  0.,  0.]])\n"
     ]
    }
   ],
   "source": [
    "print(train_dataset[1].x)"
   ]
  },
  {
   "cell_type": "code",
   "execution_count": 17,
   "id": "ba43b84a",
   "metadata": {},
   "outputs": [
    {
     "data": {
      "text/plain": [
       "27"
      ]
     },
     "execution_count": 17,
     "metadata": {},
     "output_type": "execute_result"
    }
   ],
   "source": [
    "len(node_feature_menu)"
   ]
  },
  {
   "cell_type": "markdown",
   "id": "289a1087",
   "metadata": {},
   "source": [
    "## MODEL"
   ]
  },
  {
   "cell_type": "code",
   "execution_count": 18,
   "id": "69ffcaeb",
   "metadata": {},
   "outputs": [],
   "source": [
    "import torch\n",
    "import torch.nn.functional as F \n",
    "from torch.nn import Sequential, Linear, BatchNorm1d, ReLU\n",
    "from torch_geometric.nn import TransformerConv, GATConv, TopKPooling, BatchNorm\n",
    "from torch_geometric.nn import global_mean_pool as gap, global_max_pool as gmp\n",
    "from torch_geometric.nn.conv.x_conv import XConv\n",
    "torch.manual_seed(42)\n",
    "\n",
    "class GNN(torch.nn.Module):\n",
    "    def __init__(self, feature_size):\n",
    "        super(GNN, self).__init__()\n",
    "        num_classes = 2\n",
    "        embedding_size = 27\n",
    "\n",
    "        # GNN layers\n",
    "        self.conv1 = GATConv(feature_size, embedding_size, heads=3, dropout=0.3)\n",
    "        self.head_transform1 = Linear(embedding_size*3, embedding_size)\n",
    "        self.pool1 = TopKPooling(embedding_size, ratio=0.8)\n",
    "        self.conv2 = GATConv(embedding_size, embedding_size, heads=3, dropout=0.3)\n",
    "        self.head_transform2 = Linear(embedding_size*3, embedding_size)\n",
    "        self.pool2 = TopKPooling(embedding_size, ratio=0.5)\n",
    "        self.conv3 = GATConv(embedding_size, embedding_size, heads=3, dropout=0.3)\n",
    "        self.head_transform3 = Linear(embedding_size*3, embedding_size)\n",
    "        self.pool3 = TopKPooling(embedding_size, ratio=0.2)\n",
    "\n",
    "        # Linear layers\n",
    "        self.linear1 = Linear(embedding_size*2, 1024)\n",
    "        self.linear2 = Linear(1024, num_classes)  \n",
    "\n",
    "    def forward(self, x, edge_attr, edge_index, batch_index):\n",
    "        # First block\n",
    "        x = self.conv1(x, edge_index)\n",
    "        x = self.head_transform1(x)\n",
    "\n",
    "        x, edge_index, edge_attr, batch_index, _, _ = self.pool1(x, \n",
    "                                                        edge_index, \n",
    "                                                        None, \n",
    "                                                        batch_index)\n",
    "        x1 = torch.cat([gmp(x, batch_index), gap(x, batch_index)], dim=1)\n",
    "\n",
    "        # Second block\n",
    "        x = self.conv2(x, edge_index)\n",
    "        x = self.head_transform2(x)\n",
    "        x, edge_index, edge_attr, batch_index, _, _ = self.pool2(x, \n",
    "                                                        edge_index, \n",
    "                                                        None, \n",
    "                                                        batch_index)\n",
    "        x2 = torch.cat([gmp(x, batch_index), gap(x, batch_index)], dim=1)\n",
    "\n",
    "        # Third block\n",
    "        x = self.conv3(x, edge_index)\n",
    "        x = self.head_transform3(x)\n",
    "        x, edge_index, edge_attr, batch_index, _, _ = self.pool3(x, \n",
    "                                                        edge_index, \n",
    "                                                        None, \n",
    "                                                        batch_index)\n",
    "        x3 = torch.cat([gmp(x, batch_index), gap(x, batch_index)], dim=1)\n",
    "\n",
    "        # Concat pooled vectors\n",
    "        x = x1 + x2 + x3\n",
    "\n",
    "        # Output block\n",
    "        x = self.linear1(x).relu()\n",
    "        x = F.dropout(x, p=0.5, training=self.training)\n",
    "        x = self.linear2(x)\n",
    "\n",
    "        return x\n"
   ]
  },
  {
   "cell_type": "code",
   "execution_count": 19,
   "id": "ccdbe958",
   "metadata": {},
   "outputs": [],
   "source": [
    "import torch \n",
    "from torch_geometric.data import DataLoader\n",
    "from sklearn.metrics import confusion_matrix, f1_score, \\\n",
    "    accuracy_score, precision_score, recall_score, roc_auc_score\n",
    "import numpy as np\n",
    "from tqdm import tqdm\n",
    "# from dataset_featurizer import MoleculeDataset\n",
    "# from model import GNN\n",
    "import mlflow.pytorch\n",
    "device = torch.device(\"cuda:0\" if torch.cuda.is_available() else \"cpu\")\n",
    "\n",
    "def count_parameters(model):\n",
    "    return sum(p.numel() for p in model.parameters() if p.requires_grad)\n",
    "\n",
    "\n",
    "\n"
   ]
  },
  {
   "cell_type": "code",
   "execution_count": 20,
   "id": "4419e5f2",
   "metadata": {},
   "outputs": [],
   "source": [
    "\n",
    "# BEST_PARAMETERS = {\n",
    "#     \"batch_size\": [128],\n",
    "#     \"learning_rate\": [0.01],\n",
    "#     \"weight_decay\": [0.0001],\n",
    "#     \"sgd_momentum\": [0.8],\n",
    "#     \"scheduler_gamma\": [0.8],\n",
    "#     \"pos_weight\": [1.3],\n",
    "#     \"model_embedding_size\": [64],\n",
    "#     \"model_attention_heads\": [3],\n",
    "#     \"model_layers\": [4],\n",
    "#     \"model_dropout_rate\": [0.2],\n",
    "#     \"model_top_k_ratio\": [0.5],\n",
    "#     \"model_top_k_every_n\": [1],\n",
    "#     \"model_dense_neurons\": [256]\n",
    "# }"
   ]
  },
  {
   "cell_type": "code",
   "execution_count": 21,
   "id": "00a30ec6",
   "metadata": {},
   "outputs": [],
   "source": [
    "# #%% Loss and Optimizer\n",
    "# # new one \n",
    "\n",
    "# # weights = torch.tensor([1, 20], dtype=torch.float32).to(device)\n",
    "# # loss_fn = torch.nn.CrossEntropyLoss(weight=weights)\n",
    "\n",
    "# weight2 = torch.tensor([BEST_PARAMETERS[\"pos_weight\"]], dtype=torch.float32).to(device)\n",
    "# loss_fn = torch.nn.BCEWithLogitsLoss(pos_weight=weight2)\n",
    "\n",
    "# optimizer = torch.optim.SGD(model.parameters(), lr=BEST_PARAMETERS['learning_rate'], momentum=BEST_PARAMETERS['sgd_momentum'], weight_decay=BEST_PARAMETERS[\"weight_decay\"])  \n",
    "# scheduler = torch.optim.lr_scheduler.ExponentialLR(optimizer, gamma=BEST_PARAMETERS[\"scheduler_gamma\"])\n"
   ]
  },
  {
   "cell_type": "code",
   "execution_count": 23,
   "id": "10927db6",
   "metadata": {},
   "outputs": [
    {
     "name": "stdout",
     "output_type": "stream",
     "text": [
      "Number of parameters: 72383\n"
     ]
    },
    {
     "data": {
      "text/plain": [
       "GNN(\n",
       "  (conv1): GATConv(27, 27, heads=3)\n",
       "  (head_transform1): Linear(in_features=81, out_features=27, bias=True)\n",
       "  (pool1): TopKPooling(27, ratio=0.8, multiplier=1.0)\n",
       "  (conv2): GATConv(27, 27, heads=3)\n",
       "  (head_transform2): Linear(in_features=81, out_features=27, bias=True)\n",
       "  (pool2): TopKPooling(27, ratio=0.5, multiplier=1.0)\n",
       "  (conv3): GATConv(27, 27, heads=3)\n",
       "  (head_transform3): Linear(in_features=81, out_features=27, bias=True)\n",
       "  (pool3): TopKPooling(27, ratio=0.2, multiplier=1.0)\n",
       "  (linear1): Linear(in_features=54, out_features=1024, bias=True)\n",
       "  (linear2): Linear(in_features=1024, out_features=2, bias=True)\n",
       ")"
      ]
     },
     "execution_count": 23,
     "metadata": {},
     "output_type": "execute_result"
    }
   ],
   "source": [
    "#%% Loading the model\n",
    "model = GNN(feature_size=train_dataset[0].x.shape[1]) \n",
    "model = model.to(device)\n",
    "print(f\"Number of parameters: {count_parameters(model)}\")\n",
    "model"
   ]
  },
  {
   "cell_type": "code",
   "execution_count": 24,
   "id": "9addbbb3",
   "metadata": {},
   "outputs": [],
   "source": [
    "#%% Loss and Optimizer\n",
    "# original\n",
    "weights = torch.tensor([1, 3], dtype=torch.float32).to(device)\n",
    "loss_fn = torch.nn.CrossEntropyLoss(weight=weights)\n",
    "optimizer = torch.optim.SGD(model.parameters(), lr=0.01, momentum=0.8)  \n",
    "scheduler = torch.optim.lr_scheduler.ExponentialLR(optimizer, gamma=0.8)\n"
   ]
  },
  {
   "cell_type": "code",
   "execution_count": 25,
   "id": "2e5e0696",
   "metadata": {},
   "outputs": [],
   "source": [
    "optimizer.zero_grad()        \n",
    "# loss, hidden = model(data, hidden, targets)\n",
    "# loss.backward()\n",
    "clip_value=10\n",
    "torch.nn.utils.clip_grad_norm_(model.parameters(), clip_value)\n",
    "optimizer.step()"
   ]
  },
  {
   "cell_type": "code",
   "execution_count": 27,
   "id": "e4639acc",
   "metadata": {},
   "outputs": [
    {
     "data": {
      "text/plain": [
       "tensor([1., 3.], device='cuda:0')"
      ]
     },
     "execution_count": 27,
     "metadata": {},
     "output_type": "execute_result"
    }
   ],
   "source": [
    "weights"
   ]
  },
  {
   "cell_type": "code",
   "execution_count": 30,
   "id": "d28c1c7e",
   "metadata": {},
   "outputs": [
    {
     "data": {
      "text/plain": [
       "1261"
      ]
     },
     "execution_count": 30,
     "metadata": {},
     "output_type": "execute_result"
    }
   ],
   "source": [
    "len(train_dataset[:1261])"
   ]
  },
  {
   "cell_type": "code",
   "execution_count": 33,
   "id": "abb13756",
   "metadata": {},
   "outputs": [
    {
     "data": {
      "text/plain": [
       "1"
      ]
     },
     "execution_count": 33,
     "metadata": {},
     "output_type": "execute_result"
    }
   ],
   "source": [
    "train_dataset[1].y"
   ]
  },
  {
   "cell_type": "code",
   "execution_count": 36,
   "id": "e3117fe0",
   "metadata": {},
   "outputs": [
    {
     "name": "stdout",
     "output_type": "stream",
     "text": [
      "546\n"
     ]
    }
   ],
   "source": [
    "br=0\n",
    "for a,b in enumerate(train_dataset):\n",
    "    if (b.y==0):\n",
    "        br=a\n",
    "        break\n",
    "print(br)"
   ]
  },
  {
   "cell_type": "code",
   "execution_count": 37,
   "id": "8bf3c62a",
   "metadata": {},
   "outputs": [],
   "source": [
    "test_cut_dataset=train_dataset[526:566]\n",
    "train_cut_dataset= train_dataset[:526]+train_dataset[566:]"
   ]
  },
  {
   "cell_type": "code",
   "execution_count": 39,
   "id": "1200eb46",
   "metadata": {},
   "outputs": [
    {
     "name": "stderr",
     "output_type": "stream",
     "text": [
      "D:\\Anaconda3\\envs\\pytorch\\lib\\site-packages\\torch_geometric\\deprecation.py:12: UserWarning: 'data.DataLoader' is deprecated, use 'loader.DataLoader' instead\n",
      "  warnings.warn(out)\n"
     ]
    }
   ],
   "source": [
    "#%% Prepare training\n",
    "NUM_GRAPHS_PER_BATCH = 256\n",
    "# NUM_GRAPHS_PER_BATCH = 1\n",
    "\n",
    "train_loader = DataLoader(train_cut_dataset, \n",
    "                    batch_size=NUM_GRAPHS_PER_BATCH, shuffle=True,\n",
    "                         num_workers=0)\n",
    "# test_loader = DataLoader(test_dataset, \n",
    "#                          batch_size=NUM_GRAPHS_PER_BATCH, shuffle=True)\n",
    "test_loader = DataLoader(test_cut_dataset, \n",
    "                    batch_size=NUM_GRAPHS_PER_BATCH, shuffle=True)\n"
   ]
  },
  {
   "cell_type": "code",
   "execution_count": 40,
   "id": "9689160d",
   "metadata": {},
   "outputs": [],
   "source": [
    "def test(epoch):\n",
    "    all_preds = []\n",
    "    all_labels = []\n",
    "    for batch in test_loader:\n",
    "        batch.to(device)  \n",
    "        pred = model(batch.x.float(), \n",
    "                        batch.edge_attr.float(),\n",
    "                        batch.edge_index, \n",
    "                        batch.batch) \n",
    "        loss = torch.sqrt(loss_fn(pred, batch.y))    \n",
    "        all_preds.append(np.argmax(pred.cpu().detach().numpy(), axis=1))\n",
    "        all_labels.append(batch.y.cpu().detach().numpy())\n",
    "\n",
    "    all_preds = np.concatenate(all_preds).ravel()\n",
    "    all_labels = np.concatenate(all_labels).ravel()\n",
    "    calculate_metrics(all_preds, all_labels, epoch, \"test\")\n",
    "    return loss\n",
    "\n",
    "\n",
    "def calculate_metrics(y_pred, y_true, epoch, type):\n",
    "    print(f\"\\n Confusion matrix: \\n {confusion_matrix(y_pred, y_true)}\")\n",
    "    print(f\"F1 Score: {f1_score(y_pred, y_true)}\")\n",
    "    print(f\"Accuracy: {accuracy_score(y_pred, y_true)}\")\n",
    "    print(f\"Precision: {precision_score(y_pred, y_true)}\")\n",
    "    print(f\"Recall: {recall_score(y_pred, y_true)}\")\n",
    "    try:\n",
    "        roc = roc_auc_score(y_pred, y_true)\n",
    "        print(f\"ROC AUC: {roc}\")\n",
    "        mlflow.log_metric(key=f\"ROC-AUC-{type}\", value=float(roc), step=epoch)\n",
    "    except:\n",
    "        mlflow.log_metric(key=f\"ROC-AUC-{type}\", value=float(0), step=epoch)\n",
    "        print(f\"ROC AUC: notdefined\")\n",
    "        \n",
    "    try:\n",
    "        mlflow.log_metric(key=f\"accuracy-{type}\", value=float(accuracy_score(y_pred, y_true)), step=epoch)\n",
    "    except:\n",
    "        mlflow.log_metric(key=f\"ROC-AUC-{type}\", value=float(0), step=epoch)\n",
    "        print(f\"Accuracy: notdefined\")"
   ]
  },
  {
   "cell_type": "code",
   "execution_count": 41,
   "id": "e09eaccc",
   "metadata": {},
   "outputs": [],
   "source": [
    "\n",
    "def train(epoch):\n",
    "    # Enumerate over the data\n",
    "    all_preds = []\n",
    "    all_labels = []\n",
    "    for _, batch in enumerate(tqdm(train_loader)):\n",
    "        # Use GPU\n",
    "        batch.to(device)  \n",
    "        # Reset gradients\n",
    "\n",
    "        optimizer.zero_grad() \n",
    "        # Passing the node features and the connection info\n",
    "        pred = model(batch.x.float(), \n",
    "                                batch.edge_attr.float(),\n",
    "                                batch.edge_index, \n",
    "                                batch.batch) \n",
    "        # Calculating the loss and gradients\n",
    "#         loss = torch.sqrt(loss_fn(pred, batch.y)) \n",
    "        loss_v1 = loss_fn(pred, batch.y) \n",
    "        loss_v2=torch.sqrt(loss_v1)\n",
    "#         print(\"batch.y\")\n",
    "#         print(batch.y)\n",
    "        \n",
    "#         print(\"pred\")\n",
    "#         print(pred)\n",
    "        \n",
    "#         print(\"loss_v1\")\n",
    "#         print(loss_v1)\n",
    "#         print(\"loss_v2\")\n",
    "#         print(loss_v2)\n",
    "        \n",
    "        loss=loss_v2\n",
    "        loss.backward()  \n",
    "        # Update using the gradients\n",
    "        optimizer.step()  \n",
    "\n",
    "        all_preds.append(np.argmax(pred.cpu().detach().numpy(), axis=1))\n",
    "        all_labels.append(batch.y.cpu().detach().numpy())\n",
    "    all_preds = np.concatenate(all_preds).ravel()\n",
    "    all_labels = np.concatenate(all_labels).ravel()\n",
    "    calculate_metrics(all_preds, all_labels, epoch, \"train\")\n",
    "    return loss\n",
    "\n",
    "\n"
   ]
  },
  {
   "cell_type": "code",
   "execution_count": 42,
   "id": "ac796c4b",
   "metadata": {},
   "outputs": [
    {
     "name": "stderr",
     "output_type": "stream",
     "text": [
      "100%|██████████| 6/6 [02:10<00:00, 21.74s/it]\n"
     ]
    },
    {
     "name": "stdout",
     "output_type": "stream",
     "text": [
      "\n",
      " Confusion matrix: \n",
      " [[118  78]\n",
      " [677 448]]\n",
      "F1 Score: 0.5427013930950938\n",
      "Accuracy: 0.4284632853898562\n",
      "Precision: 0.8517110266159695\n",
      "Recall: 0.3982222222222222\n",
      "ROC AUC: 0.5001315192743765\n",
      "Epoch 0 | Train Loss 7.14923095703125\n",
      "\n",
      " Confusion matrix: \n",
      " [[ 0  0]\n",
      " [20 20]]\n",
      "F1 Score: 0.6666666666666666\n",
      "Accuracy: 0.5\n",
      "Precision: 1.0\n",
      "Recall: 0.5\n",
      "ROC AUC: notdefined\n",
      "Epoch 0 | Test Loss 3.0103163719177246\n"
     ]
    },
    {
     "name": "stderr",
     "output_type": "stream",
     "text": [
      "100%|██████████| 6/6 [00:45<00:00,  7.60s/it]\n"
     ]
    },
    {
     "name": "stdout",
     "output_type": "stream",
     "text": [
      "\n",
      " Confusion matrix: \n",
      " [[ 30  20]\n",
      " [765 506]]\n",
      "F1 Score: 0.5631608235948804\n",
      "Accuracy: 0.4057532172596518\n",
      "Precision: 0.9619771863117871\n",
      "Recall: 0.3981117230527144\n",
      "ROC AUC: 0.4990558615263572\n",
      "Epoch 1 | Train Loss 3.3494887351989746\n"
     ]
    },
    {
     "name": "stderr",
     "output_type": "stream",
     "text": [
      "100%|██████████| 6/6 [00:21<00:00,  3.58s/it]\n"
     ]
    },
    {
     "name": "stdout",
     "output_type": "stream",
     "text": [
      "\n",
      " Confusion matrix: \n",
      " [[333 190]\n",
      " [462 336]]\n",
      "F1 Score: 0.5075528700906344\n",
      "Accuracy: 0.5064345193035579\n",
      "Precision: 0.6387832699619772\n",
      "Recall: 0.42105263157894735\n",
      "ROC AUC: 0.5288819563248466\n",
      "Epoch 2 | Train Loss 1.4967868328094482\n"
     ]
    },
    {
     "name": "stderr",
     "output_type": "stream",
     "text": [
      "100%|██████████| 6/6 [00:21<00:00,  3.65s/it]\n"
     ]
    },
    {
     "name": "stdout",
     "output_type": "stream",
     "text": [
      "\n",
      " Confusion matrix: \n",
      " [[453 246]\n",
      " [342 280]]\n",
      "F1 Score: 0.4878048780487804\n",
      "Accuracy: 0.554882664647994\n",
      "Precision: 0.532319391634981\n",
      "Recall: 0.45016077170418006\n",
      "ROC AUC: 0.5491147206160385\n",
      "Epoch 3 | Train Loss 1.9268443584442139\n"
     ]
    },
    {
     "name": "stderr",
     "output_type": "stream",
     "text": [
      "100%|██████████| 6/6 [00:22<00:00,  3.71s/it]\n"
     ]
    },
    {
     "name": "stdout",
     "output_type": "stream",
     "text": [
      "\n",
      " Confusion matrix: \n",
      " [[334 132]\n",
      " [461 394]]\n",
      "F1 Score: 0.5706010137581462\n",
      "Accuracy: 0.5510976532929599\n",
      "Precision: 0.7490494296577946\n",
      "Recall: 0.4608187134502924\n",
      "ROC AUC: 0.5887784554375926\n",
      "Epoch 4 | Train Loss 1.6136562824249268\n"
     ]
    },
    {
     "name": "stderr",
     "output_type": "stream",
     "text": [
      "100%|██████████| 6/6 [00:22<00:00,  3.67s/it]\n"
     ]
    },
    {
     "name": "stdout",
     "output_type": "stream",
     "text": [
      "\n",
      " Confusion matrix: \n",
      " [[416 147]\n",
      " [379 379]]\n",
      "F1 Score: 0.5903426791277259\n",
      "Accuracy: 0.6018168054504164\n",
      "Precision: 0.720532319391635\n",
      "Recall: 0.5\n",
      "ROC AUC: 0.6194493783303731\n",
      "Epoch 5 | Train Loss 1.458888053894043\n",
      "\n",
      " Confusion matrix: \n",
      " [[ 9  1]\n",
      " [11 19]]\n",
      "F1 Score: 0.7599999999999999\n",
      "Accuracy: 0.7\n",
      "Precision: 0.95\n",
      "Recall: 0.6333333333333333\n",
      "ROC AUC: 0.7666666666666666\n",
      "Epoch 5 | Test Loss 0.9088563323020935\n"
     ]
    },
    {
     "name": "stderr",
     "output_type": "stream",
     "text": [
      "100%|██████████| 6/6 [00:21<00:00,  3.66s/it]\n"
     ]
    },
    {
     "name": "stdout",
     "output_type": "stream",
     "text": [
      "\n",
      " Confusion matrix: \n",
      " [[432 115]\n",
      " [363 411]]\n",
      "F1 Score: 0.6323076923076923\n",
      "Accuracy: 0.6381529144587433\n",
      "Precision: 0.7813688212927756\n",
      "Recall: 0.5310077519379846\n",
      "ROC AUC: 0.6603850459872738\n",
      "Epoch 6 | Train Loss 1.7031556367874146\n"
     ]
    },
    {
     "name": "stderr",
     "output_type": "stream",
     "text": [
      "100%|██████████| 6/6 [00:22<00:00,  3.67s/it]\n"
     ]
    },
    {
     "name": "stdout",
     "output_type": "stream",
     "text": [
      "\n",
      " Confusion matrix: \n",
      " [[397 127]\n",
      " [398 399]]\n",
      "F1 Score: 0.6031746031746031\n",
      "Accuracy: 0.6025738077214232\n",
      "Precision: 0.7585551330798479\n",
      "Recall: 0.5006273525721455\n",
      "ROC AUC: 0.6291304701792024\n",
      "Epoch 7 | Train Loss 1.2515614032745361\n"
     ]
    },
    {
     "name": "stderr",
     "output_type": "stream",
     "text": [
      "100%|██████████| 6/6 [00:21<00:00,  3.59s/it]\n"
     ]
    },
    {
     "name": "stdout",
     "output_type": "stream",
     "text": [
      "\n",
      " Confusion matrix: \n",
      " [[399 134]\n",
      " [396 392]]\n",
      "F1 Score: 0.5966514459665144\n",
      "Accuracy: 0.5987887963663892\n",
      "Precision: 0.7452471482889734\n",
      "Recall: 0.49746192893401014\n",
      "ROC AUC: 0.6230273997390501\n",
      "Epoch 8 | Train Loss 1.1769248247146606\n"
     ]
    },
    {
     "name": "stderr",
     "output_type": "stream",
     "text": [
      "100%|██████████| 6/6 [00:21<00:00,  3.56s/it]\n"
     ]
    },
    {
     "name": "stdout",
     "output_type": "stream",
     "text": [
      "\n",
      " Confusion matrix: \n",
      " [[422 126]\n",
      " [373 400]]\n",
      "F1 Score: 0.6158583525789068\n",
      "Accuracy: 0.6222558667676003\n",
      "Precision: 0.7604562737642585\n",
      "Recall: 0.517464424320828\n",
      "ROC AUC: 0.6437687085107789\n",
      "Epoch 9 | Train Loss 0.8918960094451904\n"
     ]
    },
    {
     "name": "stderr",
     "output_type": "stream",
     "text": [
      "100%|██████████| 6/6 [00:21<00:00,  3.55s/it]\n"
     ]
    },
    {
     "name": "stdout",
     "output_type": "stream",
     "text": [
      "\n",
      " Confusion matrix: \n",
      " [[414 110]\n",
      " [381 416]]\n",
      "F1 Score: 0.6288737717309146\n",
      "Accuracy: 0.6283118849356548\n",
      "Precision: 0.7908745247148289\n",
      "Recall: 0.5219573400250941\n",
      "ROC AUC: 0.6560168379514784\n",
      "Epoch 10 | Train Loss 0.9208008050918579\n",
      "\n",
      " Confusion matrix: \n",
      " [[ 9  0]\n",
      " [11 20]]\n",
      "F1 Score: 0.7843137254901961\n",
      "Accuracy: 0.725\n",
      "Precision: 1.0\n",
      "Recall: 0.6451612903225806\n",
      "ROC AUC: 0.8225806451612903\n",
      "Epoch 10 | Test Loss 0.6514346599578857\n"
     ]
    },
    {
     "name": "stderr",
     "output_type": "stream",
     "text": [
      "100%|██████████| 6/6 [00:21<00:00,  3.58s/it]\n"
     ]
    },
    {
     "name": "stdout",
     "output_type": "stream",
     "text": [
      "\n",
      " Confusion matrix: \n",
      " [[392 101]\n",
      " [403 425]]\n",
      "F1 Score: 0.6277695716395864\n",
      "Accuracy: 0.6184708554125662\n",
      "Precision: 0.8079847908745247\n",
      "Recall: 0.5132850241545893\n",
      "ROC AUC: 0.6542084349981871\n",
      "Epoch 11 | Train Loss 0.675172746181488\n"
     ]
    },
    {
     "name": "stderr",
     "output_type": "stream",
     "text": [
      "100%|██████████| 6/6 [00:21<00:00,  3.60s/it]\n"
     ]
    },
    {
     "name": "stdout",
     "output_type": "stream",
     "text": [
      "\n",
      " Confusion matrix: \n",
      " [[459 107]\n",
      " [336 419]]\n",
      "F1 Score: 0.6541764246682279\n",
      "Accuracy: 0.6646479939439819\n",
      "Precision: 0.7965779467680608\n",
      "Recall: 0.5549668874172186\n",
      "ROC AUC: 0.6829604755107295\n",
      "Epoch 12 | Train Loss 0.7522151470184326\n"
     ]
    },
    {
     "name": "stderr",
     "output_type": "stream",
     "text": [
      "100%|██████████| 6/6 [00:21<00:00,  3.54s/it]\n"
     ]
    },
    {
     "name": "stdout",
     "output_type": "stream",
     "text": [
      "\n",
      " Confusion matrix: \n",
      " [[403  77]\n",
      " [392 449]]\n",
      "F1 Score: 0.6569129480614485\n",
      "Accuracy: 0.6449659348978047\n",
      "Precision: 0.8536121673003803\n",
      "Recall: 0.5338882282996433\n",
      "ROC AUC: 0.6867357808164885\n",
      "Epoch 13 | Train Loss 0.7266365885734558\n"
     ]
    },
    {
     "name": "stderr",
     "output_type": "stream",
     "text": [
      "100%|██████████| 6/6 [00:21<00:00,  3.54s/it]\n"
     ]
    },
    {
     "name": "stdout",
     "output_type": "stream",
     "text": [
      "\n",
      " Confusion matrix: \n",
      " [[409  95]\n",
      " [386 431]]\n",
      "F1 Score: 0.6418466120625466\n",
      "Accuracy: 0.6358819076457229\n",
      "Precision: 0.8193916349809885\n",
      "Recall: 0.5275397796817626\n",
      "ROC AUC: 0.6695238580948496\n",
      "Epoch 14 | Train Loss 0.8386929631233215\n"
     ]
    },
    {
     "name": "stderr",
     "output_type": "stream",
     "text": [
      "100%|██████████| 6/6 [00:21<00:00,  3.54s/it]\n"
     ]
    },
    {
     "name": "stdout",
     "output_type": "stream",
     "text": [
      "\n",
      " Confusion matrix: \n",
      " [[398  91]\n",
      " [397 435]]\n",
      "F1 Score: 0.6406480117820325\n",
      "Accuracy: 0.6305828917486752\n",
      "Precision: 0.8269961977186312\n",
      "Recall: 0.5228365384615384\n",
      "ROC AUC: 0.668371234465943\n",
      "Epoch 15 | Train Loss 0.7091758847236633\n",
      "\n",
      " Confusion matrix: \n",
      " [[ 9  2]\n",
      " [11 18]]\n",
      "F1 Score: 0.7346938775510204\n",
      "Accuracy: 0.675\n",
      "Precision: 0.9\n",
      "Recall: 0.6206896551724138\n",
      "ROC AUC: 0.7194357366771159\n",
      "Epoch 15 | Test Loss 0.641054093837738\n"
     ]
    },
    {
     "name": "stderr",
     "output_type": "stream",
     "text": [
      "100%|██████████| 6/6 [00:21<00:00,  3.63s/it]\n"
     ]
    },
    {
     "name": "stdout",
     "output_type": "stream",
     "text": [
      "\n",
      " Confusion matrix: \n",
      " [[406  78]\n",
      " [389 448]]\n",
      "F1 Score: 0.6573734409391049\n",
      "Accuracy: 0.6464799394398183\n",
      "Precision: 0.8517110266159695\n",
      "Recall: 0.5352449223416965\n",
      "ROC AUC: 0.687043948774154\n",
      "Epoch 16 | Train Loss 0.7794815301895142\n"
     ]
    },
    {
     "name": "stderr",
     "output_type": "stream",
     "text": [
      "100%|██████████| 6/6 [00:23<00:00,  3.86s/it]\n"
     ]
    },
    {
     "name": "stdout",
     "output_type": "stream",
     "text": [
      "\n",
      " Confusion matrix: \n",
      " [[402  86]\n",
      " [393 440]]\n",
      "F1 Score: 0.6475349521707137\n",
      "Accuracy: 0.6373959121877366\n",
      "Precision: 0.8365019011406845\n",
      "Recall: 0.5282112845138055\n",
      "ROC AUC: 0.6759908881585421\n",
      "Epoch 17 | Train Loss 0.791157066822052\n"
     ]
    },
    {
     "name": "stderr",
     "output_type": "stream",
     "text": [
      "100%|██████████| 6/6 [00:21<00:00,  3.66s/it]\n"
     ]
    },
    {
     "name": "stdout",
     "output_type": "stream",
     "text": [
      "\n",
      " Confusion matrix: \n",
      " [[426 104]\n",
      " [369 422]]\n",
      "F1 Score: 0.6408504176157935\n",
      "Accuracy: 0.6419379258137774\n",
      "Precision: 0.8022813688212928\n",
      "Recall: 0.5335018963337548\n",
      "ROC AUC: 0.6686377406197076\n",
      "Epoch 18 | Train Loss 0.8376214504241943\n"
     ]
    },
    {
     "name": "stderr",
     "output_type": "stream",
     "text": [
      "100%|██████████| 6/6 [00:50<00:00,  8.45s/it]\n"
     ]
    },
    {
     "name": "stdout",
     "output_type": "stream",
     "text": [
      "\n",
      " Confusion matrix: \n",
      " [[434 100]\n",
      " [361 426]]\n",
      "F1 Score: 0.6488956587966489\n",
      "Accuracy: 0.6510219530658592\n",
      "Precision: 0.8098859315589354\n",
      "Recall: 0.5412960609911055\n",
      "ROC AUC: 0.6770150716940546\n",
      "Epoch 19 | Train Loss 0.9767336845397949\n"
     ]
    },
    {
     "name": "stderr",
     "output_type": "stream",
     "text": [
      "100%|██████████| 6/6 [00:35<00:00,  5.87s/it]\n"
     ]
    },
    {
     "name": "stdout",
     "output_type": "stream",
     "text": [
      "\n",
      " Confusion matrix: \n",
      " [[436  99]\n",
      " [359 427]]\n",
      "F1 Score: 0.6509146341463414\n",
      "Accuracy: 0.6532929598788796\n",
      "Precision: 0.811787072243346\n",
      "Recall: 0.5432569974554707\n",
      "ROC AUC: 0.679105134241754\n",
      "Epoch 20 | Train Loss 0.6654081344604492\n",
      "\n",
      " Confusion matrix: \n",
      " [[11  2]\n",
      " [ 9 18]]\n",
      "F1 Score: 0.7659574468085106\n",
      "Accuracy: 0.725\n",
      "Precision: 0.9\n",
      "Recall: 0.6666666666666666\n",
      "ROC AUC: 0.7564102564102564\n",
      "Epoch 20 | Test Loss 0.6466525197029114\n"
     ]
    },
    {
     "name": "stderr",
     "output_type": "stream",
     "text": [
      "100%|██████████| 6/6 [00:41<00:00,  6.98s/it]\n"
     ]
    },
    {
     "name": "stdout",
     "output_type": "stream",
     "text": [
      "\n",
      " Confusion matrix: \n",
      " [[435  87]\n",
      " [360 439]]\n",
      "F1 Score: 0.6626415094339623\n",
      "Accuracy: 0.6616199848599545\n",
      "Precision: 0.8346007604562737\n",
      "Recall: 0.5494367959949937\n",
      "ROC AUC: 0.6913850646641635\n",
      "Epoch 21 | Train Loss 0.9061850905418396\n"
     ]
    },
    {
     "name": "stderr",
     "output_type": "stream",
     "text": [
      "100%|██████████| 6/6 [00:38<00:00,  6.42s/it]\n"
     ]
    },
    {
     "name": "stdout",
     "output_type": "stream",
     "text": [
      "\n",
      " Confusion matrix: \n",
      " [[423  95]\n",
      " [372 431]]\n",
      "F1 Score: 0.6486079759217457\n",
      "Accuracy: 0.6464799394398183\n",
      "Precision: 0.8193916349809885\n",
      "Recall: 0.5367372353673724\n",
      "ROC AUC: 0.6766697759848445\n",
      "Epoch 22 | Train Loss 0.8667916655540466\n"
     ]
    },
    {
     "name": "stderr",
     "output_type": "stream",
     "text": [
      "100%|██████████| 6/6 [00:24<00:00,  4.14s/it]\n"
     ]
    },
    {
     "name": "stdout",
     "output_type": "stream",
     "text": [
      "\n",
      " Confusion matrix: \n",
      " [[411  76]\n",
      " [384 450]]\n",
      "F1 Score: 0.6617647058823529\n",
      "Accuracy: 0.651778955336866\n",
      "Precision: 0.8555133079847909\n",
      "Recall: 0.539568345323741\n",
      "ROC AUC: 0.6917554252286056\n",
      "Epoch 23 | Train Loss 0.952942967414856\n"
     ]
    },
    {
     "name": "stderr",
     "output_type": "stream",
     "text": [
      "100%|██████████| 6/6 [00:26<00:00,  4.48s/it]\n"
     ]
    },
    {
     "name": "stdout",
     "output_type": "stream",
     "text": [
      "\n",
      " Confusion matrix: \n",
      " [[403  78]\n",
      " [392 448]]\n",
      "F1 Score: 0.6559297218155197\n",
      "Accuracy: 0.6442089326267979\n",
      "Precision: 0.8517110266159695\n",
      "Recall: 0.5333333333333333\n",
      "ROC AUC: 0.6855855855855856\n",
      "Epoch 24 | Train Loss 0.8527230620384216\n"
     ]
    },
    {
     "name": "stderr",
     "output_type": "stream",
     "text": [
      "100%|██████████| 6/6 [00:24<00:00,  4.15s/it]\n"
     ]
    },
    {
     "name": "stdout",
     "output_type": "stream",
     "text": [
      "\n",
      " Confusion matrix: \n",
      " [[420  73]\n",
      " [375 453]]\n",
      "F1 Score: 0.6691285081240769\n",
      "Accuracy: 0.6608629825889477\n",
      "Precision: 0.8612167300380228\n",
      "Recall: 0.5471014492753623\n",
      "ROC AUC: 0.6995142134814946\n",
      "Epoch 25 | Train Loss 0.7687628269195557\n",
      "\n",
      " Confusion matrix: \n",
      " [[ 9  2]\n",
      " [11 18]]\n",
      "F1 Score: 0.7346938775510204\n",
      "Accuracy: 0.675\n",
      "Precision: 0.9\n",
      "Recall: 0.6206896551724138\n",
      "ROC AUC: 0.7194357366771159\n",
      "Epoch 25 | Test Loss 0.6435644626617432\n"
     ]
    },
    {
     "name": "stderr",
     "output_type": "stream",
     "text": [
      "100%|██████████| 6/6 [00:24<00:00,  4.11s/it]\n"
     ]
    },
    {
     "name": "stdout",
     "output_type": "stream",
     "text": [
      "\n",
      " Confusion matrix: \n",
      " [[426  88]\n",
      " [369 438]]\n",
      "F1 Score: 0.6571642910727681\n",
      "Accuracy: 0.6540499621498864\n",
      "Precision: 0.8326996197718631\n",
      "Recall: 0.5427509293680297\n",
      "ROC AUC: 0.6857723518435479\n",
      "Epoch 26 | Train Loss 0.7637110948562622\n"
     ]
    },
    {
     "name": "stderr",
     "output_type": "stream",
     "text": [
      "100%|██████████| 6/6 [00:24<00:00,  4.16s/it]\n"
     ]
    },
    {
     "name": "stdout",
     "output_type": "stream",
     "text": [
      "\n",
      " Confusion matrix: \n",
      " [[434  80]\n",
      " [361 446]]\n",
      "F1 Score: 0.6691672918229556\n",
      "Accuracy: 0.6661619984859954\n",
      "Precision: 0.8479087452471483\n",
      "Recall: 0.5526641883519207\n",
      "ROC AUC: 0.6985110825028086\n",
      "Epoch 27 | Train Loss 0.8082166314125061\n"
     ]
    },
    {
     "name": "stderr",
     "output_type": "stream",
     "text": [
      "100%|██████████| 6/6 [00:24<00:00,  4.07s/it]\n"
     ]
    },
    {
     "name": "stdout",
     "output_type": "stream",
     "text": [
      "\n",
      " Confusion matrix: \n",
      " [[397  89]\n",
      " [398 437]]\n",
      "F1 Score: 0.642174871418075\n",
      "Accuracy: 0.631339894019682\n",
      "Precision: 0.8307984790874525\n",
      "Recall: 0.5233532934131736\n",
      "ROC AUC: 0.6701128606983563\n",
      "Epoch 28 | Train Loss 0.7720353603363037\n"
     ]
    },
    {
     "name": "stderr",
     "output_type": "stream",
     "text": [
      "100%|██████████| 6/6 [00:37<00:00,  6.28s/it]\n"
     ]
    },
    {
     "name": "stdout",
     "output_type": "stream",
     "text": [
      "\n",
      " Confusion matrix: \n",
      " [[404  75]\n",
      " [391 451]]\n",
      "F1 Score: 0.6593567251461987\n",
      "Accuracy: 0.6472369417108251\n",
      "Precision: 0.8574144486692015\n",
      "Recall: 0.5356294536817102\n",
      "ROC AUC: 0.6895266266320869\n",
      "Epoch 29 | Train Loss 0.8058992624282837\n"
     ]
    },
    {
     "name": "stderr",
     "output_type": "stream",
     "text": [
      "100%|██████████| 6/6 [00:21<00:00,  3.67s/it]\n"
     ]
    },
    {
     "name": "stdout",
     "output_type": "stream",
     "text": [
      "\n",
      " Confusion matrix: \n",
      " [[419  84]\n",
      " [376 442]]\n",
      "F1 Score: 0.6577380952380952\n",
      "Accuracy: 0.651778955336866\n",
      "Precision: 0.8403041825095057\n",
      "Recall: 0.5403422982885085\n",
      "ROC AUC: 0.6866721431800396\n",
      "Epoch 30 | Train Loss 0.7651630640029907\n",
      "\n",
      " Confusion matrix: \n",
      " [[ 9  2]\n",
      " [11 18]]\n",
      "F1 Score: 0.7346938775510204\n",
      "Accuracy: 0.675\n",
      "Precision: 0.9\n",
      "Recall: 0.6206896551724138\n",
      "ROC AUC: 0.7194357366771159\n",
      "Epoch 30 | Test Loss 0.6471891403198242\n"
     ]
    },
    {
     "name": "stderr",
     "output_type": "stream",
     "text": [
      "100%|██████████| 6/6 [00:22<00:00,  3.74s/it]\n"
     ]
    },
    {
     "name": "stdout",
     "output_type": "stream",
     "text": [
      "\n",
      " Confusion matrix: \n",
      " [[446  80]\n",
      " [349 446]]\n",
      "F1 Score: 0.6752460257380772\n",
      "Accuracy: 0.6752460257380772\n",
      "Precision: 0.8479087452471483\n",
      "Recall: 0.5610062893081761\n",
      "ROC AUC: 0.7044575172776621\n",
      "Epoch 31 | Train Loss 0.7165416479110718\n"
     ]
    },
    {
     "name": "stderr",
     "output_type": "stream",
     "text": [
      "100%|██████████| 6/6 [00:21<00:00,  3.62s/it]\n"
     ]
    },
    {
     "name": "stdout",
     "output_type": "stream",
     "text": [
      "\n",
      " Confusion matrix: \n",
      " [[430  82]\n",
      " [365 444]]\n",
      "F1 Score: 0.6651685393258427\n",
      "Accuracy: 0.6616199848599545\n",
      "Precision: 0.844106463878327\n",
      "Recall: 0.5488257107540173\n",
      "ROC AUC: 0.6943347303770087\n",
      "Epoch 32 | Train Loss 0.7081127762794495\n"
     ]
    },
    {
     "name": "stderr",
     "output_type": "stream",
     "text": [
      "100%|██████████| 6/6 [00:21<00:00,  3.65s/it]\n"
     ]
    },
    {
     "name": "stdout",
     "output_type": "stream",
     "text": [
      "\n",
      " Confusion matrix: \n",
      " [[409  86]\n",
      " [386 440]]\n",
      "F1 Score: 0.650887573964497\n",
      "Accuracy: 0.6426949280847842\n",
      "Precision: 0.8365019011406845\n",
      "Recall: 0.5326876513317191\n",
      "ROC AUC: 0.6794751387971727\n",
      "Epoch 33 | Train Loss 0.7749207615852356\n"
     ]
    },
    {
     "name": "stderr",
     "output_type": "stream",
     "text": [
      "100%|██████████| 6/6 [00:22<00:00,  3.70s/it]\n"
     ]
    },
    {
     "name": "stdout",
     "output_type": "stream",
     "text": [
      "\n",
      " Confusion matrix: \n",
      " [[424  90]\n",
      " [371 436]]\n",
      "F1 Score: 0.6541635408852213\n",
      "Accuracy: 0.6510219530658592\n",
      "Precision: 0.8288973384030418\n",
      "Recall: 0.540272614622057\n",
      "ROC AUC: 0.6825876691787328\n",
      "Epoch 34 | Train Loss 0.8163408637046814\n"
     ]
    },
    {
     "name": "stderr",
     "output_type": "stream",
     "text": [
      "100%|██████████| 6/6 [00:22<00:00,  3.70s/it]\n"
     ]
    },
    {
     "name": "stdout",
     "output_type": "stream",
     "text": [
      "\n",
      " Confusion matrix: \n",
      " [[424  83]\n",
      " [371 443]]\n",
      "F1 Score: 0.6611940298507464\n",
      "Accuracy: 0.6563209689629069\n",
      "Precision: 0.8422053231939164\n",
      "Recall: 0.5442260442260443\n",
      "ROC AUC: 0.6902589787205172\n",
      "Epoch 35 | Train Loss 0.6926417350769043\n",
      "\n",
      " Confusion matrix: \n",
      " [[ 9  2]\n",
      " [11 18]]\n",
      "F1 Score: 0.7346938775510204\n",
      "Accuracy: 0.675\n",
      "Precision: 0.9\n",
      "Recall: 0.6206896551724138\n",
      "ROC AUC: 0.7194357366771159\n",
      "Epoch 35 | Test Loss 0.6473941802978516\n"
     ]
    },
    {
     "name": "stderr",
     "output_type": "stream",
     "text": [
      "100%|██████████| 6/6 [00:22<00:00,  3.68s/it]\n"
     ]
    },
    {
     "name": "stdout",
     "output_type": "stream",
     "text": [
      "\n",
      " Confusion matrix: \n",
      " [[436  91]\n",
      " [359 435]]\n",
      "F1 Score: 0.6590909090909091\n",
      "Accuracy: 0.6593489780469342\n",
      "Precision: 0.8269961977186312\n",
      "Recall: 0.5478589420654912\n",
      "ROC AUC: 0.6875917101219297\n",
      "Epoch 36 | Train Loss 0.746647298336029\n"
     ]
    },
    {
     "name": "stderr",
     "output_type": "stream",
     "text": [
      "100%|██████████| 6/6 [00:21<00:00,  3.63s/it]\n"
     ]
    },
    {
     "name": "stdout",
     "output_type": "stream",
     "text": [
      "\n",
      " Confusion matrix: \n",
      " [[427  92]\n",
      " [368 434]]\n",
      "F1 Score: 0.6536144578313253\n",
      "Accuracy: 0.651778955336866\n",
      "Precision: 0.8250950570342205\n",
      "Recall: 0.5411471321695761\n",
      "ROC AUC: 0.6819415814990463\n",
      "Epoch 37 | Train Loss 0.762109637260437\n"
     ]
    },
    {
     "name": "stderr",
     "output_type": "stream",
     "text": [
      "100%|██████████| 6/6 [00:22<00:00,  3.71s/it]\n"
     ]
    },
    {
     "name": "stdout",
     "output_type": "stream",
     "text": [
      "\n",
      " Confusion matrix: \n",
      " [[409  80]\n",
      " [386 446]]\n",
      "F1 Score: 0.6568483063328424\n",
      "Accuracy: 0.6472369417108251\n",
      "Precision: 0.8479087452471483\n",
      "Recall: 0.5360576923076923\n",
      "ROC AUC: 0.6862292551518012\n",
      "Epoch 38 | Train Loss 0.8660204410552979\n"
     ]
    },
    {
     "name": "stderr",
     "output_type": "stream",
     "text": [
      "100%|██████████| 6/6 [00:21<00:00,  3.64s/it]\n"
     ]
    },
    {
     "name": "stdout",
     "output_type": "stream",
     "text": [
      "\n",
      " Confusion matrix: \n",
      " [[441  91]\n",
      " [354 435]]\n",
      "F1 Score: 0.6615969581749049\n",
      "Accuracy: 0.6631339894019682\n",
      "Precision: 0.8269961977186312\n",
      "Recall: 0.5513307984790875\n",
      "ROC AUC: 0.69013908345007\n",
      "Epoch 39 | Train Loss 0.9353006482124329\n"
     ]
    },
    {
     "name": "stderr",
     "output_type": "stream",
     "text": [
      "100%|██████████| 6/6 [00:22<00:00,  3.79s/it]\n"
     ]
    },
    {
     "name": "stdout",
     "output_type": "stream",
     "text": [
      "\n",
      " Confusion matrix: \n",
      " [[432  87]\n",
      " [363 439]]\n",
      "F1 Score: 0.661144578313253\n",
      "Accuracy: 0.6593489780469342\n",
      "Precision: 0.8346007604562737\n",
      "Recall: 0.5473815461346634\n",
      "ROC AUC: 0.6898757441655976\n",
      "Epoch 40 | Train Loss 0.9039078950881958\n",
      "\n",
      " Confusion matrix: \n",
      " [[ 9  2]\n",
      " [11 18]]\n",
      "F1 Score: 0.7346938775510204\n",
      "Accuracy: 0.675\n",
      "Precision: 0.9\n",
      "Recall: 0.6206896551724138\n",
      "ROC AUC: 0.7194357366771159\n",
      "Epoch 40 | Test Loss 0.6470843553543091\n"
     ]
    },
    {
     "name": "stderr",
     "output_type": "stream",
     "text": [
      "100%|██████████| 6/6 [00:22<00:00,  3.70s/it]\n"
     ]
    },
    {
     "name": "stdout",
     "output_type": "stream",
     "text": [
      "\n",
      " Confusion matrix: \n",
      " [[433  84]\n",
      " [362 442]]\n",
      "F1 Score: 0.6646616541353384\n",
      "Accuracy: 0.6623769871309614\n",
      "Precision: 0.8403041825095057\n",
      "Recall: 0.5497512437810945\n",
      "ROC AUC: 0.6936377108654023\n",
      "Epoch 41 | Train Loss 0.6104321479797363\n"
     ]
    },
    {
     "name": "stderr",
     "output_type": "stream",
     "text": [
      "100%|██████████| 6/6 [00:22<00:00,  3.74s/it]\n"
     ]
    },
    {
     "name": "stdout",
     "output_type": "stream",
     "text": [
      "\n",
      " Confusion matrix: \n",
      " [[428  76]\n",
      " [367 450]]\n",
      "F1 Score: 0.6701414743112435\n",
      "Accuracy: 0.6646479939439819\n",
      "Precision: 0.8555133079847909\n",
      "Recall: 0.5507955936352509\n",
      "ROC AUC: 0.7000009714208\n",
      "Epoch 42 | Train Loss 0.8458795547485352\n"
     ]
    },
    {
     "name": "stderr",
     "output_type": "stream",
     "text": [
      "100%|██████████| 6/6 [00:21<00:00,  3.62s/it]\n"
     ]
    },
    {
     "name": "stdout",
     "output_type": "stream",
     "text": [
      "\n",
      " Confusion matrix: \n",
      " [[435  99]\n",
      " [360 427]]\n",
      "F1 Score: 0.6504188880426504\n",
      "Accuracy: 0.6525359576078729\n",
      "Precision: 0.811787072243346\n",
      "Recall: 0.542566709021601\n",
      "ROC AUC: 0.6785867252973173\n",
      "Epoch 43 | Train Loss 1.4746516942977905\n"
     ]
    },
    {
     "name": "stderr",
     "output_type": "stream",
     "text": [
      "100%|██████████| 6/6 [00:21<00:00,  3.65s/it]\n"
     ]
    },
    {
     "name": "stdout",
     "output_type": "stream",
     "text": [
      "\n",
      " Confusion matrix: \n",
      " [[423  85]\n",
      " [372 441]]\n",
      "F1 Score: 0.6587005227781928\n",
      "Accuracy: 0.6540499621498864\n",
      "Precision: 0.8384030418250951\n",
      "Recall: 0.5424354243542435\n",
      "ROC AUC: 0.687556294854287\n",
      "Epoch 44 | Train Loss 0.7814270853996277\n"
     ]
    },
    {
     "name": "stderr",
     "output_type": "stream",
     "text": [
      "100%|██████████| 6/6 [00:22<00:00,  3.73s/it]\n"
     ]
    },
    {
     "name": "stdout",
     "output_type": "stream",
     "text": [
      "\n",
      " Confusion matrix: \n",
      " [[423  80]\n",
      " [372 446]]\n",
      "F1 Score: 0.6636904761904763\n",
      "Accuracy: 0.6578349735049205\n",
      "Precision: 0.8479087452471483\n",
      "Recall: 0.5452322738386308\n",
      "ROC AUC: 0.6930932740962538\n",
      "Epoch 45 | Train Loss 0.8216545581817627\n",
      "\n",
      " Confusion matrix: \n",
      " [[ 9  2]\n",
      " [11 18]]\n",
      "F1 Score: 0.7346938775510204\n",
      "Accuracy: 0.675\n",
      "Precision: 0.9\n",
      "Recall: 0.6206896551724138\n",
      "ROC AUC: 0.7194357366771159\n",
      "Epoch 45 | Test Loss 0.6470317244529724\n"
     ]
    },
    {
     "name": "stderr",
     "output_type": "stream",
     "text": [
      "100%|██████████| 6/6 [00:22<00:00,  3.76s/it]\n"
     ]
    },
    {
     "name": "stdout",
     "output_type": "stream",
     "text": [
      "\n",
      " Confusion matrix: \n",
      " [[436  89]\n",
      " [359 437]]\n",
      "F1 Score: 0.6611195158850227\n",
      "Accuracy: 0.6608629825889477\n",
      "Precision: 0.8307984790874525\n",
      "Recall: 0.5489949748743719\n",
      "ROC AUC: 0.6897355826752812\n",
      "Epoch 46 | Train Loss 0.8215861916542053\n"
     ]
    },
    {
     "name": "stderr",
     "output_type": "stream",
     "text": [
      "100%|██████████| 6/6 [00:21<00:00,  3.66s/it]\n"
     ]
    },
    {
     "name": "stdout",
     "output_type": "stream",
     "text": [
      "\n",
      " Confusion matrix: \n",
      " [[432  94]\n",
      " [363 432]]\n",
      "F1 Score: 0.6540499621498864\n",
      "Accuracy: 0.6540499621498864\n",
      "Precision: 0.8212927756653993\n",
      "Recall: 0.5433962264150943\n",
      "ROC AUC: 0.6823445010402468\n",
      "Epoch 47 | Train Loss 0.956259548664093\n"
     ]
    },
    {
     "name": "stderr",
     "output_type": "stream",
     "text": [
      "100%|██████████| 6/6 [00:22<00:00,  3.73s/it]\n"
     ]
    },
    {
     "name": "stdout",
     "output_type": "stream",
     "text": [
      "\n",
      " Confusion matrix: \n",
      " [[433  81]\n",
      " [362 445]]\n",
      "F1 Score: 0.6676669167291823\n",
      "Accuracy: 0.6646479939439819\n",
      "Precision: 0.8460076045627376\n",
      "Recall: 0.5514250309789344\n",
      "ROC AUC: 0.6969187411704011\n",
      "Epoch 48 | Train Loss 0.8883705139160156\n"
     ]
    },
    {
     "name": "stderr",
     "output_type": "stream",
     "text": [
      "100%|██████████| 6/6 [00:21<00:00,  3.61s/it]\n"
     ]
    },
    {
     "name": "stdout",
     "output_type": "stream",
     "text": [
      "\n",
      " Confusion matrix: \n",
      " [[427  81]\n",
      " [368 445]]\n",
      "F1 Score: 0.6646751306945481\n",
      "Accuracy: 0.660105980317941\n",
      "Precision: 0.8460076045627376\n",
      "Recall: 0.5473554735547356\n",
      "ROC AUC: 0.6939533273285489\n",
      "Epoch 49 | Train Loss 0.6841525435447693\n",
      "Done.\n"
     ]
    }
   ],
   "source": [
    "\n",
    "# %% Run the training\n",
    "with mlflow.start_run() as run:\n",
    "    for epoch in range(50):\n",
    "        # Training\n",
    "        model.train()\n",
    "        loss = train(epoch=epoch)\n",
    "        loss = loss.detach().cpu().numpy()\n",
    "        print(f\"Epoch {epoch} | Train Loss {loss}\")\n",
    "        mlflow.log_metric(key=\"Train loss\", value=float(loss), step=epoch)\n",
    "\n",
    "        # Testing\n",
    "        model.eval()\n",
    "        if epoch % 5 == 0:\n",
    "            loss = test(epoch=epoch)\n",
    "            loss = loss.detach().cpu().numpy()\n",
    "            print(f\"Epoch {epoch} | Test Loss {loss}\")\n",
    "            mlflow.log_metric(key=\"Test loss\", value=float(loss), step=epoch)\n",
    "\n",
    "        scheduler.step()\n",
    "print(\"Done.\")\n",
    "\n"
   ]
  },
  {
   "cell_type": "code",
   "execution_count": 55,
   "id": "92973361",
   "metadata": {},
   "outputs": [
    {
     "name": "stderr",
     "output_type": "stream",
     "text": [
      "2022/04/23 15:31:12 WARNING mlflow.utils.environment: Encountered an unexpected error while inferring pip requirements (model URI: C:\\Users\\JERRYJ~1\\AppData\\Local\\Temp\\tmp5sdh5yz_\\model\\data, flavor: pytorch), fall back to return ['torch==1.11.0', 'cloudpickle==2.0.0']. Set logging level to DEBUG to see the full traceback.\n",
      "D:\\Anaconda3\\envs\\pytorch\\lib\\site-packages\\_distutils_hack\\__init__.py:30: UserWarning: Setuptools is replacing distutils.\n",
      "  warnings.warn(\"Setuptools is replacing distutils.\")\n"
     ]
    },
    {
     "data": {
      "text/plain": [
       "ModelInfo(artifact_path='model', flavors={'pytorch': {'model_data': 'data', 'pytorch_version': '1.11.0', 'code': None}, 'python_function': {'pickle_module_name': 'mlflow.pytorch.pickle_module', 'loader_module': 'mlflow.pytorch', 'python_version': '3.9.12', 'data': 'data', 'env': 'conda.yaml'}}, model_uri='runs:/cc21dc71c0534040841e16dbca0e94bc/model', model_uuid='0b947a31a40446c39570297bbf4897d7', run_id='cc21dc71c0534040841e16dbca0e94bc', saved_input_example_info=None, signature_dict=None, utc_time_created='2022-04-23 10:00:57.036793', mlflow_version='1.25.1')"
      ]
     },
     "execution_count": 55,
     "metadata": {},
     "output_type": "execute_result"
    }
   ],
   "source": [
    "\n",
    "# %% Save the model \n",
    "mlflow.pytorch.log_model(model, \"model\") "
   ]
  },
  {
   "cell_type": "markdown",
   "id": "4cf9e10b",
   "metadata": {},
   "source": [
    "Confusion Matrix"
   ]
  },
  {
   "cell_type": "markdown",
   "id": "6cbe88f2",
   "metadata": {},
   "source": [
    "![asd](data:image/png;base64,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)"
   ]
  },
  {
   "cell_type": "code",
   "execution_count": 43,
   "id": "16f4bd49",
   "metadata": {},
   "outputs": [],
   "source": [
    "model_type_name=\"findr_gcn_model1\""
   ]
  },
  {
   "cell_type": "code",
   "execution_count": 49,
   "id": "e8d30cd3",
   "metadata": {},
   "outputs": [],
   "source": [
    "from datetime import date\n",
    "from datetime import datetime\n"
   ]
  },
  {
   "cell_type": "code",
   "execution_count": 67,
   "id": "abb55567",
   "metadata": {},
   "outputs": [],
   "source": [
    "# SAVE MODEL\n",
    "#  pls create a folder named model_saved if not there\n",
    "now = datetime.now()\n",
    "dt_string = now.strftime(\"%d_%m_%Y %H_%M_%S\")\n",
    "PATH_to_save_model=\"model_saved/\"+\"model_\"+dt_string+\":\"+model_type_name+\".pt\"\n",
    "PATH_to_save_model=\"model_saved/model \"+dt_string+\".pt\"\n",
    "torch.save(model, PATH_to_save_model)"
   ]
  },
  {
   "cell_type": "code",
   "execution_count": 68,
   "id": "262852dd",
   "metadata": {},
   "outputs": [
    {
     "data": {
      "text/plain": [
       "GNN(\n",
       "  (conv1): GATConv(27, 27, heads=3)\n",
       "  (head_transform1): Linear(in_features=81, out_features=27, bias=True)\n",
       "  (pool1): TopKPooling(27, ratio=0.8, multiplier=1.0)\n",
       "  (conv2): GATConv(27, 27, heads=3)\n",
       "  (head_transform2): Linear(in_features=81, out_features=27, bias=True)\n",
       "  (pool2): TopKPooling(27, ratio=0.5, multiplier=1.0)\n",
       "  (conv3): GATConv(27, 27, heads=3)\n",
       "  (head_transform3): Linear(in_features=81, out_features=27, bias=True)\n",
       "  (pool3): TopKPooling(27, ratio=0.2, multiplier=1.0)\n",
       "  (linear1): Linear(in_features=54, out_features=1024, bias=True)\n",
       "  (linear2): Linear(in_features=1024, out_features=2, bias=True)\n",
       ")"
      ]
     },
     "execution_count": 68,
     "metadata": {},
     "output_type": "execute_result"
    }
   ],
   "source": [
    "# Model class must be defined somewhere\n",
    "model2 = torch.load(PATH_to_save_model)\n",
    "model2.eval()"
   ]
  },
  {
   "cell_type": "code",
   "execution_count": null,
   "id": "adeebab9",
   "metadata": {},
   "outputs": [],
   "source": []
  }
 ],
 "metadata": {
  "kernelspec": {
   "display_name": "pytorch",
   "language": "python",
   "name": "pytorch"
  },
  "language_info": {
   "codemirror_mode": {
    "name": "ipython",
    "version": 3
   },
   "file_extension": ".py",
   "mimetype": "text/x-python",
   "name": "python",
   "nbconvert_exporter": "python",
   "pygments_lexer": "ipython3",
   "version": "3.9.12"
  }
 },
 "nbformat": 4,
 "nbformat_minor": 5
}
