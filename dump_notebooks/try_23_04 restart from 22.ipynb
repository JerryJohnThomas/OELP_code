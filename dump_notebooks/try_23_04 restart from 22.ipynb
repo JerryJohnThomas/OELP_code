{
 "cells": [
  {
   "cell_type": "code",
   "execution_count": 1,
   "id": "932d5c0d",
   "metadata": {},
   "outputs": [],
   "source": [
    "import torch"
   ]
  },
  {
   "cell_type": "code",
   "execution_count": 2,
   "id": "9a070583",
   "metadata": {},
   "outputs": [],
   "source": [
    "import pandas as pd"
   ]
  },
  {
   "cell_type": "code",
   "execution_count": 3,
   "id": "6647fc7e",
   "metadata": {},
   "outputs": [],
   "source": [
    "import torch_geometric\n",
    "from torch_geometric.data import Dataset, Data\n",
    "import numpy as np \n",
    "import os\n",
    "from tqdm import tqdm"
   ]
  },
  {
   "cell_type": "code",
   "execution_count": 4,
   "id": "f325fd0d",
   "metadata": {},
   "outputs": [],
   "source": [
    "import torch.nn.functional as F \n",
    "from torch.nn import Linear, BatchNorm1d, ModuleList\n",
    "from torch_geometric.nn import TransformerConv, TopKPooling \n",
    "from torch_geometric.nn import global_mean_pool as gap, global_max_pool as gmp\n",
    "# torch.manual_seed(42)"
   ]
  },
  {
   "cell_type": "code",
   "execution_count": 5,
   "id": "6ab461a9",
   "metadata": {},
   "outputs": [],
   "source": [
    "import mlflow.pytorch"
   ]
  },
  {
   "cell_type": "code",
   "execution_count": 6,
   "id": "20d1afae",
   "metadata": {},
   "outputs": [
    {
     "name": "stdout",
     "output_type": "stream",
     "text": [
      "Torch version: 1.11.0\n",
      "Cuda available: True\n",
      "Torch geometric version: 2.0.4\n"
     ]
    }
   ],
   "source": [
    "print(f\"Torch version: {torch.__version__}\")\n",
    "print(f\"Cuda available: {torch.cuda.is_available()}\")\n",
    "print(f\"Torch geometric version: {torch_geometric.__version__}\")"
   ]
  },
  {
   "cell_type": "markdown",
   "id": "f2eb90cb",
   "metadata": {},
   "source": [
    "## Dataset Creation"
   ]
  },
  {
   "cell_type": "markdown",
   "id": "4933b7f1",
   "metadata": {},
   "source": [
    "https://github.com/quarkslab/dataset-call-graph-blogpost-material"
   ]
  },
  {
   "cell_type": "markdown",
   "id": "98cd4213",
   "metadata": {},
   "source": [
    "https://colab.research.google.com/drive/17JFlnMUjcsMmXQYXF8xZ3z169VDAwUls?authuser=1"
   ]
  },
  {
   "cell_type": "markdown",
   "id": "42475076",
   "metadata": {},
   "source": [
    "https://www.youtube.com/watch?v=QLIkOtKS4os&list=PLV8yxwGOxvvoNkzPfCx2i8an--Tkt7O8Z&index=9"
   ]
  },
  {
   "cell_type": "code",
   "execution_count": 7,
   "id": "7a0c3a8b",
   "metadata": {},
   "outputs": [],
   "source": [
    "# test_dataset = MoleculeDataset(root=\"data/\", filename=\"HIV_test.csv\", test=True)"
   ]
  },
  {
   "cell_type": "code",
   "execution_count": 8,
   "id": "35bff41a",
   "metadata": {},
   "outputs": [],
   "source": [
    "import pickle\n",
    "path_temp= \"dataset-call-graph-blogpost-material/dataset/\""
   ]
  },
  {
   "cell_type": "code",
   "execution_count": 9,
   "id": "39810b4a",
   "metadata": {},
   "outputs": [],
   "source": [
    "good_data=pickle.load(open(path_temp+\"goodware_graphs.p\",\"rb\"))\n",
    "bad_data=pickle.load(open(path_temp+\"malware_graphs.p\",\"rb\"))"
   ]
  },
  {
   "cell_type": "code",
   "execution_count": 10,
   "id": "374db08d",
   "metadata": {},
   "outputs": [
    {
     "name": "stdout",
     "output_type": "stream",
     "text": [
      "length of array =  546\n",
      "length of 1 item =  2\n",
      "length of first thing in one item =  464\n",
      "length of second thing in one item =  464\n"
     ]
    }
   ],
   "source": [
    "print(\"length of array = \",len(good_data))\n",
    "print(\"length of 1 item = \",len(good_data[0]))\n",
    "print(\"length of first thing in one item = \",len(good_data[0][0]))\n",
    "print(\"length of second thing in one item = \",len(good_data[0][1]))"
   ]
  },
  {
   "cell_type": "code",
   "execution_count": 11,
   "id": "8a1fde57",
   "metadata": {},
   "outputs": [],
   "source": [
    "node_feature_menu=['mov', 'call', 'lea', 'jmp', 'push', 'add', 'xor', 'cmp', 'int3', 'nop', 'pushl', 'dec', 'sub', 'insl', 'inc','jz', 'jnz', 'je', 'jne', 'ja', 'jna', 'js', 'jns', 'jl', 'jnl', 'jg', 'jng']"
   ]
  },
  {
   "cell_type": "code",
   "execution_count": 50,
   "id": "a5660307",
   "metadata": {},
   "outputs": [],
   "source": [
    "\n",
    "class MoleculeDataset(Dataset):\n",
    "    def __init__(self, root, filename,good_data, bad_data, test=False, transform=None, pre_transform=None):\n",
    "        \"\"\"\n",
    "        root = Where the dataset should be stored. This folder is split\n",
    "        into raw_dir (downloaded dataset) and processed_dir (processed data). \n",
    "        \"\"\"\n",
    "        self.test = test\n",
    "        self.filename = filename\n",
    "        self.good_data=good_data\n",
    "        self.bad_data=bad_data\n",
    "        super(MoleculeDataset, self).__init__(root, transform, pre_transform)\n",
    "        self.data_passed=self.good_data+self.bad_data\n",
    "        \n",
    "    @property\n",
    "    def raw_file_names(self):\n",
    "        \"\"\" If this file exists in raw_dir, the download is not triggered.\n",
    "            (The download func. is not implemented here)  \n",
    "        \"\"\"\n",
    "        return [\"goodware_graphs.p\",\"malware_graphs.p\"]\n",
    "\n",
    "    @property\n",
    "    def processed_file_names(self):\n",
    "        \"\"\" If these files are found in raw_dir, processing is skipped\"\"\"\n",
    "#         self.data = self.data_passed\n",
    "        return \"NOt implemented yet\"\n",
    "\n",
    "        # if self.test:\n",
    "        #     return [f'data_test_{i}.pt' for i in list(self.data.index)]\n",
    "        # else:\n",
    "        #     return [f'data_{i}.pt' for i in list(self.data.index)]\n",
    "\n",
    "    def download(self):\n",
    "        pass\n",
    "\n",
    "    def process(self):\n",
    "#         self.data = self.data_passed\n",
    "        print(\"started doing stuff\")\n",
    "        index=0\n",
    "\n",
    "        for mol in (self.good_data):\n",
    "            \n",
    "\n",
    "            feature_data=mol[0]\n",
    "            neighbour_data=mol[1]\n",
    "\n",
    "            # i need to create inst ->index\n",
    "            instr_index=dict()\n",
    "            for a,b in enumerate(feature_data):\n",
    "              instr_index[b]=a \n",
    "\n",
    "            # Get node features\n",
    "            node_feats = self._get_node_features(feature_data,instr_index)\n",
    "            # Get edge features\n",
    "            edge_feats = self._get_edge_features(neighbour_data)\n",
    "#             edge_feats = []\n",
    "            # Get adjacency info\n",
    "            edge_index = self._get_adjacency_info(neighbour_data,instr_index)\n",
    "\n",
    "            # Get labels info\n",
    "            label = 1\n",
    "\n",
    "            # Create data object\n",
    "            data = Data(x=node_feats, \n",
    "                        edge_index=edge_index,\n",
    "                        edge_attr=edge_feats,\n",
    "                        y=label,\n",
    "                        smiles=mol\n",
    "                        ) \n",
    "                        \n",
    "            torch.save(data, \n",
    "                    os.path.join(self.processed_dir, \n",
    "                                 f'data_{index}.pt'))\n",
    "\n",
    "            index+=1\n",
    "        \n",
    "        for mol in (self.bad_data):\n",
    "            \n",
    "\n",
    "            feature_data=mol[0]\n",
    "            neighbour_data=mol[1]\n",
    "\n",
    "            # i need to create inst ->index\n",
    "            instr_index=dict()\n",
    "            for a,b in enumerate(feature_data):\n",
    "              instr_index[b]=a \n",
    "\n",
    "            # Get node features\n",
    "            node_feats = self._get_node_features(feature_data,instr_index)\n",
    "            # Get edge features\n",
    "            edge_feats = self._get_edge_features(neighbour_data)\n",
    "#             edge_feats = []\n",
    "            # Get adjacency info\n",
    "            edge_index = self._get_adjacency_info(neighbour_data,instr_index)\n",
    "\n",
    "            # Get labels info\n",
    "            label = 0\n",
    "\n",
    "            # Create data object\n",
    "            data = Data(x=node_feats, \n",
    "                        edge_index=edge_index,\n",
    "                        edge_attr=edge_feats,\n",
    "                        y=label,\n",
    "                        smiles=mol\n",
    "                        ) \n",
    "                        \n",
    "            torch.save(data, \n",
    "                    os.path.join(self.processed_dir, \n",
    "                                 f'data_{index}.pt'))\n",
    "\n",
    "            index+=1\n",
    "        \n",
    "        \n",
    "\n",
    "    def process_node_features(self,val, node_feature_menu):\n",
    "      # print(\"jj\")\n",
    "      # print(val)\n",
    "      node_out=[]\n",
    "      keys=val.keys()\n",
    "      for name in node_feature_menu : \n",
    "        if(name in keys):\n",
    "          node_out.append(val[name])\n",
    "        else:\n",
    "          node_out.append(0)\n",
    "      return node_out\n",
    "\n",
    "\n",
    "    def _get_node_features(self, node_features,instr_index):\n",
    "        \"\"\" \n",
    "        This will return a matrix / 2d array of the shape\n",
    "        [Number of Nodes, Node Feature size]\n",
    "        \"\"\"\n",
    "        node_feature_menu=['mov', 'call', 'lea', 'jmp', 'push', 'add', 'xor', 'cmp', 'int3', 'nop', 'pushl', 'dec', 'sub', 'insl', 'inc','jz', 'jnz', 'je', 'jne', 'ja', 'jna', 'js', 'jns', 'jl', 'jnl', 'jg', 'jng']\n",
    "\n",
    "        all_node_feats = []\n",
    "\n",
    "        for atom in node_features:\n",
    "            # print(\"atom is\",atom)\n",
    "            \n",
    "            node_feats = []\n",
    "            node_feats = self.process_node_features(node_features[atom],node_feature_menu)\n",
    "            # Append node features to matrix\n",
    "            all_node_feats.append(node_feats)\n",
    "\n",
    "        all_node_feats = np.asarray(all_node_feats)\n",
    "        return torch.tensor(all_node_feats, dtype=torch.float)\n",
    "\n",
    "    def _get_edge_features(self, mol):\n",
    "        \"\"\" \n",
    "        This will return a matrix / 2d array of the shape\n",
    "        [Number of edges, Edge Feature size]\n",
    "        \"\"\"\n",
    "        all_edge_feats = []\n",
    "\n",
    "        # for bond in mol.GetBonds():\n",
    "        #     edge_feats = []\n",
    "        #     # Feature 1: Bond type (as double)\n",
    "        #     edge_feats.append(bond.GetBondTypeAsDouble())\n",
    "        #     # Feature 2: Rings\n",
    "        #     edge_feats.append(bond.IsInRing())\n",
    "        #     # Append node features to matrix (twice, per direction)\n",
    "        #     all_edge_feats += [edge_feats, edge_feats]\n",
    "\n",
    "        all_edge_feats = np.asarray(all_edge_feats)\n",
    "        return torch.tensor(all_edge_feats, dtype=torch.float)\n",
    "\n",
    "    def get_one_instr_adjacency(self,val,instr_index,self_instruction_number):\n",
    "        edge_val=[]\n",
    "        for a in val:\n",
    "            edge_val+=[[instr_index[self_instruction_number],instr_index[a]]]\n",
    "\n",
    "        return edge_val\n",
    "\n",
    "    def _get_adjacency_info(self, mol, instr_index):\n",
    "        \"\"\"\n",
    "        We could also use rdmolops.GetAdjacencyMatrix(mol)\n",
    "        but we want to be sure that the order of the indices\n",
    "        matches the order of the edge features\n",
    "        \"\"\"\n",
    "        edge_indices = []\n",
    "        for bond in mol:\n",
    "            edge_indices += self.get_one_instr_adjacency(mol[bond],instr_index,bond)\n",
    "\n",
    "        edge_indices = torch.tensor(edge_indices)\n",
    "        edge_indices = edge_indices.t().to(torch.long).view(2, -1)\n",
    "        return edge_indices\n",
    "\n",
    "    def _get_labels(self, label):\n",
    "        label = np.asarray([label])\n",
    "        return torch.tensor(label, dtype=torch.int64)\n",
    "\n",
    "    def len(self):\n",
    "#         return self.data_pass.shape[0]\n",
    "        return len(self.data_passed)\n",
    "\n",
    "    def get(self, idx):\n",
    "        \"\"\" - Equivalent to __getitem__ in pytorch\n",
    "            - Is not needed for PyG's InMemoryDataset\n",
    "        \"\"\"\n",
    "        data = torch.load(os.path.join(self.processed_dir, \n",
    "                             f'data_{idx}.pt'))\n",
    "        return data\n",
    "\n",
    "\n",
    "\n"
   ]
  },
  {
   "cell_type": "code",
   "execution_count": 13,
   "id": "9fbe3557",
   "metadata": {},
   "outputs": [
    {
     "name": "stderr",
     "output_type": "stream",
     "text": [
      "Processing...\n"
     ]
    },
    {
     "name": "stdout",
     "output_type": "stream",
     "text": [
      "started doing stuff\n"
     ]
    },
    {
     "name": "stderr",
     "output_type": "stream",
     "text": [
      "Done!\n"
     ]
    }
   ],
   "source": [
    "train_dataset = MoleculeDataset(root=\"data/\", filename=\"goodware_graphs.p\", good_data=good_data, bad_data=bad_data)"
   ]
  },
  {
   "cell_type": "markdown",
   "id": "289a1087",
   "metadata": {},
   "source": [
    "## MODEL"
   ]
  },
  {
   "cell_type": "code",
   "execution_count": 76,
   "id": "69ffcaeb",
   "metadata": {},
   "outputs": [],
   "source": [
    "import torch\n",
    "import torch.nn.functional as F \n",
    "from torch.nn import Sequential, Linear, BatchNorm1d, ReLU\n",
    "from torch_geometric.nn import TransformerConv, GATConv, TopKPooling, BatchNorm\n",
    "from torch_geometric.nn import global_mean_pool as gap, global_max_pool as gmp\n",
    "from torch_geometric.nn.conv.x_conv import XConv\n",
    "torch.manual_seed(42)\n",
    "\n",
    "class GNN(torch.nn.Module):\n",
    "    def __init__(self, feature_size):\n",
    "        super(GNN, self).__init__()\n",
    "        num_classes = 2\n",
    "        embedding_size = 28\n",
    "\n",
    "        # GNN layers\n",
    "        self.conv1 = GATConv(feature_size, embedding_size, heads=3, dropout=0.3)\n",
    "        self.head_transform1 = Linear(embedding_size*3, embedding_size)\n",
    "        self.pool1 = TopKPooling(embedding_size, ratio=0.8)\n",
    "        self.conv2 = GATConv(embedding_size, embedding_size, heads=3, dropout=0.3)\n",
    "        self.head_transform2 = Linear(embedding_size*3, embedding_size)\n",
    "        self.pool2 = TopKPooling(embedding_size, ratio=0.5)\n",
    "        self.conv3 = GATConv(embedding_size, embedding_size, heads=3, dropout=0.3)\n",
    "        self.head_transform3 = Linear(embedding_size*3, embedding_size)\n",
    "        self.pool3 = TopKPooling(embedding_size, ratio=0.2)\n",
    "\n",
    "        # Linear layers\n",
    "        self.linear1 = Linear(embedding_size*2, 1024)\n",
    "        self.linear2 = Linear(1024, num_classes)  \n",
    "\n",
    "    def forward(self, x, edge_attr, edge_index, batch_index):\n",
    "        # First block\n",
    "        # print(\"in in conv1\",x)\n",
    "        x = self.conv1(x, edge_index)\n",
    "        # print(\"out in conv1\",x)\n",
    "        x = self.head_transform1(x)\n",
    "\n",
    "        x, edge_index, edge_attr, batch_index, _, _ = self.pool1(x, \n",
    "                                                        edge_index, \n",
    "                                                        None, \n",
    "                                                        batch_index)\n",
    "        x1 = torch.cat([gmp(x, batch_index), gap(x, batch_index)], dim=1)\n",
    "\n",
    "        # Second block\n",
    "        x = self.conv2(x, edge_index)\n",
    "        x = self.head_transform2(x)\n",
    "        x, edge_index, edge_attr, batch_index, _, _ = self.pool2(x, \n",
    "                                                        edge_index, \n",
    "                                                        None, \n",
    "                                                        batch_index)\n",
    "        x2 = torch.cat([gmp(x, batch_index), gap(x, batch_index)], dim=1)\n",
    "\n",
    "        # Third block\n",
    "        x = self.conv3(x, edge_index)\n",
    "        x = self.head_transform3(x)\n",
    "        x, edge_index, edge_attr, batch_index, _, _ = self.pool3(x, \n",
    "                                                        edge_index, \n",
    "                                                        None, \n",
    "                                                        batch_index)\n",
    "        x3 = torch.cat([gmp(x, batch_index), gap(x, batch_index)], dim=1)\n",
    "\n",
    "        # Concat pooled vectors\n",
    "        x = x1 + x2 + x3\n",
    "\n",
    "        # Output block\n",
    "        x = self.linear1(x).relu()\n",
    "        x = F.dropout(x, p=0.5, training=self.training)\n",
    "        x = self.linear2(x)\n",
    "\n",
    "        return x\n"
   ]
  },
  {
   "cell_type": "code",
   "execution_count": 77,
   "id": "ccdbe958",
   "metadata": {},
   "outputs": [],
   "source": [
    "import torch \n",
    "from torch_geometric.data import DataLoader\n",
    "from sklearn.metrics import confusion_matrix, f1_score, \\\n",
    "    accuracy_score, precision_score, recall_score, roc_auc_score\n",
    "import numpy as np\n",
    "from tqdm import tqdm\n",
    "# from dataset_featurizer import MoleculeDataset\n",
    "# from model import GNN\n",
    "import mlflow.pytorch\n",
    "device = torch.device(\"cuda:0\" if torch.cuda.is_available() else \"cpu\")\n",
    "\n",
    "def count_parameters(model):\n",
    "    return sum(p.numel() for p in model.parameters() if p.requires_grad)\n",
    "\n",
    "\n",
    "\n"
   ]
  },
  {
   "cell_type": "code",
   "execution_count": 78,
   "id": "6eecc9e6",
   "metadata": {},
   "outputs": [
    {
     "name": "stdout",
     "output_type": "stream",
     "text": [
      "Number of parameters: 75370\n"
     ]
    },
    {
     "data": {
      "text/plain": [
       "GNN(\n",
       "  (conv1): GATConv(27, 28, heads=3)\n",
       "  (head_transform1): Linear(in_features=84, out_features=28, bias=True)\n",
       "  (pool1): TopKPooling(28, ratio=0.8, multiplier=1.0)\n",
       "  (conv2): GATConv(28, 28, heads=3)\n",
       "  (head_transform2): Linear(in_features=84, out_features=28, bias=True)\n",
       "  (pool2): TopKPooling(28, ratio=0.5, multiplier=1.0)\n",
       "  (conv3): GATConv(28, 28, heads=3)\n",
       "  (head_transform3): Linear(in_features=84, out_features=28, bias=True)\n",
       "  (pool3): TopKPooling(28, ratio=0.2, multiplier=1.0)\n",
       "  (linear1): Linear(in_features=56, out_features=1024, bias=True)\n",
       "  (linear2): Linear(in_features=1024, out_features=2, bias=True)\n",
       ")"
      ]
     },
     "execution_count": 78,
     "metadata": {},
     "output_type": "execute_result"
    }
   ],
   "source": [
    "#%% Loading the model\n",
    "model = GNN(feature_size=train_dataset[0].x.shape[1]) \n",
    "model = model.to(device)\n",
    "print(f\"Number of parameters: {count_parameters(model)}\")\n",
    "model"
   ]
  },
  {
   "cell_type": "code",
   "execution_count": 79,
   "id": "9addbbb3",
   "metadata": {},
   "outputs": [],
   "source": [
    "#%% Loss and Optimizer\n",
    "# original\n",
    "weights = torch.tensor([1, 1], dtype=torch.float32).to(device)\n",
    "loss_fn = torch.nn.CrossEntropyLoss(weight=weights)\n",
    "optimizer = torch.optim.SGD(model.parameters(), lr=0.01, momentum=0.8)  \n",
    "scheduler = torch.optim.lr_scheduler.ExponentialLR(optimizer, gamma=0.8)\n"
   ]
  },
  {
   "cell_type": "code",
   "execution_count": 80,
   "id": "2e5e0696",
   "metadata": {},
   "outputs": [],
   "source": [
    "optimizer.zero_grad()        \n",
    "clip_value=5\n",
    "torch.nn.utils.clip_grad_norm_(model.parameters(), clip_value)\n",
    "optimizer.step()"
   ]
  },
  {
   "cell_type": "code",
   "execution_count": 81,
   "id": "1200eb46",
   "metadata": {},
   "outputs": [
    {
     "name": "stderr",
     "output_type": "stream",
     "text": [
      "D:\\Anaconda3\\envs\\pytorch\\lib\\site-packages\\torch_geometric\\deprecation.py:12: UserWarning: 'data.DataLoader' is deprecated, use 'loader.DataLoader' instead\n",
      "  warnings.warn(out)\n"
     ]
    }
   ],
   "source": [
    "#%% Prepare training\n",
    "# NUM_GRAPHS_PER_BATCH = 256\n",
    "NUM_GRAPHS_PER_BATCH = 100\n",
    "\n",
    "train_loader = DataLoader(train_dataset, \n",
    "                    batch_size=NUM_GRAPHS_PER_BATCH, shuffle=True,\n",
    "                         num_workers=0)\n",
    "# test_loader = DataLoader(test_dataset, \n",
    "#                          batch_size=NUM_GRAPHS_PER_BATCH, shuffle=True)\n",
    "test_loader = DataLoader(train_dataset, \n",
    "                    batch_size=NUM_GRAPHS_PER_BATCH, shuffle=True)\n"
   ]
  },
  {
   "cell_type": "code",
   "execution_count": 82,
   "id": "9689160d",
   "metadata": {},
   "outputs": [],
   "source": [
    "def test(epoch):\n",
    "    all_preds = []\n",
    "    all_labels = []\n",
    "    for batch in test_loader:\n",
    "        batch.to(device)  \n",
    "        pred = model(batch.x.float(), \n",
    "                        batch.edge_attr.float(),\n",
    "                        batch.edge_index, \n",
    "                        batch.batch) \n",
    "        loss = torch.sqrt(loss_fn(pred, batch.y))    \n",
    "        all_preds.append(np.argmax(pred.cpu().detach().numpy(), axis=1))\n",
    "        all_labels.append(batch.y.cpu().detach().numpy())\n",
    "\n",
    "    all_preds = np.concatenate(all_preds).ravel()\n",
    "    all_labels = np.concatenate(all_labels).ravel()\n",
    "    calculate_metrics(all_preds, all_labels, epoch, \"test\")\n",
    "    return loss\n",
    "\n",
    "\n",
    "def calculate_metrics(y_pred, y_true, epoch, type):\n",
    "    print(f\"\\n Confusion matrix: \\n {confusion_matrix(y_pred, y_true)}\")\n",
    "    print(f\"F1 Score: {f1_score(y_pred, y_true)}\")\n",
    "    print(f\"Accuracy: {accuracy_score(y_pred, y_true)}\")\n",
    "    print(f\"Precision: {precision_score(y_pred, y_true)}\")\n",
    "    print(f\"Recall: {recall_score(y_pred, y_true)}\")\n",
    "    try:\n",
    "        roc = roc_auc_score(y_pred, y_true)\n",
    "        print(f\"ROC AUC: {roc}\")\n",
    "        mlflow.log_metric(key=f\"ROC-AUC-{type}\", value=float(roc), step=epoch)\n",
    "    except:\n",
    "        mlflow.log_metric(key=f\"ROC-AUC-{type}\", value=float(0), step=epoch)\n",
    "        print(f\"ROC AUC: notdefined\")\n",
    "        \n",
    "    try:\n",
    "        mlflow.log_metric(key=f\"accuracy-{type}\", value=float(accuracy_score(y_pred, y_true)), step=epoch)\n",
    "    except:\n",
    "        mlflow.log_metric(key=f\"ROC-AUC-{type}\", value=float(0), step=epoch)\n",
    "        print(f\"Accuracy: notdefined\")"
   ]
  },
  {
   "cell_type": "code",
   "execution_count": 83,
   "id": "e09eaccc",
   "metadata": {},
   "outputs": [],
   "source": [
    "\n",
    "def train(epoch):\n",
    "    # Enumerate over the data\n",
    "    all_preds = []\n",
    "    all_labels = []\n",
    "    for _, batch in enumerate(tqdm(train_loader)):\n",
    "        # Use GPU\n",
    "        batch.to(device)  \n",
    "        # Reset gradients\n",
    "\n",
    "        optimizer.zero_grad() \n",
    "        # Passing the node features and the connection info\n",
    "        pred = model(batch.x.float(), \n",
    "                                batch.edge_attr.float(),\n",
    "                                batch.edge_index, \n",
    "                                batch.batch) \n",
    "        loss_v1 = loss_fn(pred, batch.y) \n",
    "        loss_v2=torch.sqrt(loss_v1)\n",
    "\n",
    "        \n",
    "        loss=loss_v2\n",
    "        loss.backward()  \n",
    "        # Update using the gradients\n",
    "        optimizer.step()  \n",
    "\n",
    "        all_preds.append(np.argmax(pred.cpu().detach().numpy(), axis=1))\n",
    "        all_labels.append(batch.y.cpu().detach().numpy())\n",
    "    all_preds = np.concatenate(all_preds).ravel()\n",
    "    all_labels = np.concatenate(all_labels).ravel()\n",
    "    calculate_metrics(all_preds, all_labels, epoch, \"train\")\n",
    "    return loss\n",
    "\n",
    "\n"
   ]
  },
  {
   "cell_type": "code",
   "execution_count": 84,
   "id": "ab022035",
   "metadata": {},
   "outputs": [
    {
     "name": "stdout",
     "output_type": "stream",
     "text": [
      "Number of parameters: 75370\n"
     ]
    },
    {
     "data": {
      "text/plain": [
       "GNN(\n",
       "  (conv1): GATConv(27, 28, heads=3)\n",
       "  (head_transform1): Linear(in_features=84, out_features=28, bias=True)\n",
       "  (pool1): TopKPooling(28, ratio=0.8, multiplier=1.0)\n",
       "  (conv2): GATConv(28, 28, heads=3)\n",
       "  (head_transform2): Linear(in_features=84, out_features=28, bias=True)\n",
       "  (pool2): TopKPooling(28, ratio=0.5, multiplier=1.0)\n",
       "  (conv3): GATConv(28, 28, heads=3)\n",
       "  (head_transform3): Linear(in_features=84, out_features=28, bias=True)\n",
       "  (pool3): TopKPooling(28, ratio=0.2, multiplier=1.0)\n",
       "  (linear1): Linear(in_features=56, out_features=1024, bias=True)\n",
       "  (linear2): Linear(in_features=1024, out_features=2, bias=True)\n",
       ")"
      ]
     },
     "execution_count": 84,
     "metadata": {},
     "output_type": "execute_result"
    }
   ],
   "source": [
    "#%% Loading the model\n",
    "model = GNN(feature_size=train_dataset[0].x.shape[1]) \n",
    "model = model.to(device)\n",
    "print(f\"Number of parameters: {count_parameters(model)}\")\n",
    "model"
   ]
  },
  {
   "cell_type": "code",
   "execution_count": 85,
   "id": "ac796c4b",
   "metadata": {},
   "outputs": [
    {
     "name": "stderr",
     "output_type": "stream",
     "text": [
      "100%|██████████| 14/14 [00:26<00:00,  1.87s/it]\n"
     ]
    },
    {
     "name": "stdout",
     "output_type": "stream",
     "text": [
      "\n",
      " Confusion matrix: \n",
      " [[379 224]\n",
      " [436 322]]\n",
      "F1 Score: 0.4938650306748466\n",
      "Accuracy: 0.5150624540778839\n",
      "Precision: 0.5897435897435898\n",
      "Recall: 0.42480211081794195\n",
      "ROC AUC: 0.5266630786262181\n",
      "Epoch 0 | Train Loss 2.1084020137786865\n",
      "\n",
      " Confusion matrix: \n",
      " [[424 225]\n",
      " [391 321]]\n",
      "F1 Score: 0.5103338632750398\n",
      "Accuracy: 0.547391623806025\n",
      "Precision: 0.5879120879120879\n",
      "Recall: 0.4508426966292135\n",
      "ROC AUC: 0.5520777427676115\n",
      "Epoch 0 | Test Loss 1.0039528608322144\n"
     ]
    },
    {
     "name": "stderr",
     "output_type": "stream",
     "text": [
      "100%|██████████| 14/14 [00:23<00:00,  1.70s/it]\n"
     ]
    },
    {
     "name": "stdout",
     "output_type": "stream",
     "text": [
      "\n",
      " Confusion matrix: \n",
      " [[344 250]\n",
      " [471 296]]\n",
      "F1 Score: 0.4508758568164509\n",
      "Accuracy: 0.47024246877296105\n",
      "Precision: 0.5421245421245421\n",
      "Recall: 0.3859191655801825\n",
      "ROC AUC: 0.48252187235238087\n",
      "Epoch 1 | Train Loss 2.393289804458618\n"
     ]
    },
    {
     "name": "stderr",
     "output_type": "stream",
     "text": [
      "100%|██████████| 14/14 [00:23<00:00,  1.69s/it]\n"
     ]
    },
    {
     "name": "stdout",
     "output_type": "stream",
     "text": [
      "\n",
      " Confusion matrix: \n",
      " [[387 247]\n",
      " [428 299]]\n",
      "F1 Score: 0.46975648075412413\n",
      "Accuracy: 0.5040411462160176\n",
      "Precision: 0.5476190476190477\n",
      "Recall: 0.41127922971114167\n",
      "ROC AUC: 0.5108446621741828\n",
      "Epoch 2 | Train Loss 2.0720343589782715\n"
     ]
    },
    {
     "name": "stderr",
     "output_type": "stream",
     "text": [
      "100%|██████████| 14/14 [00:23<00:00,  1.69s/it]\n"
     ]
    },
    {
     "name": "stdout",
     "output_type": "stream",
     "text": [
      "\n",
      " Confusion matrix: \n",
      " [[370 243]\n",
      " [445 303]]\n",
      "F1 Score: 0.4683153013910356\n",
      "Accuracy: 0.49448934606906686\n",
      "Precision: 0.554945054945055\n",
      "Recall: 0.4050802139037433\n",
      "ROC AUC: 0.5043345604592125\n",
      "Epoch 3 | Train Loss 1.9702463150024414\n"
     ]
    },
    {
     "name": "stderr",
     "output_type": "stream",
     "text": [
      "100%|██████████| 14/14 [00:23<00:00,  1.68s/it]\n"
     ]
    },
    {
     "name": "stdout",
     "output_type": "stream",
     "text": [
      "\n",
      " Confusion matrix: \n",
      " [[372 253]\n",
      " [443 293]]\n",
      "F1 Score: 0.45709828393135726\n",
      "Accuracy: 0.4886113152094049\n",
      "Precision: 0.5366300366300366\n",
      "Recall: 0.39809782608695654\n",
      "ROC AUC: 0.49664891304347825\n",
      "Epoch 4 | Train Loss 1.9923748970031738\n"
     ]
    },
    {
     "name": "stderr",
     "output_type": "stream",
     "text": [
      "100%|██████████| 14/14 [00:22<00:00,  1.62s/it]\n"
     ]
    },
    {
     "name": "stdout",
     "output_type": "stream",
     "text": [
      "\n",
      " Confusion matrix: \n",
      " [[380 228]\n",
      " [435 318]]\n",
      "F1 Score: 0.489607390300231\n",
      "Accuracy: 0.5128581925055107\n",
      "Precision: 0.5824175824175825\n",
      "Recall: 0.42231075697211157\n",
      "ROC AUC: 0.5236553784860558\n",
      "Epoch 5 | Train Loss 2.651047468185425\n",
      "\n",
      " Confusion matrix: \n",
      " [[424 225]\n",
      " [391 321]]\n",
      "F1 Score: 0.5103338632750398\n",
      "Accuracy: 0.547391623806025\n",
      "Precision: 0.5879120879120879\n",
      "Recall: 0.4508426966292135\n",
      "ROC AUC: 0.5520777427676115\n",
      "Epoch 5 | Test Loss 0.9938890933990479\n"
     ]
    },
    {
     "name": "stderr",
     "output_type": "stream",
     "text": [
      "100%|██████████| 14/14 [00:22<00:00,  1.63s/it]\n"
     ]
    },
    {
     "name": "stdout",
     "output_type": "stream",
     "text": [
      "\n",
      " Confusion matrix: \n",
      " [[357 245]\n",
      " [458 301]]\n",
      "F1 Score: 0.4613026819923372\n",
      "Accuracy: 0.4834680382072006\n",
      "Precision: 0.5512820512820513\n",
      "Recall: 0.3965744400527009\n",
      "ROC AUC: 0.4947988479333272\n",
      "Epoch 6 | Train Loss 2.475166082382202\n"
     ]
    },
    {
     "name": "stderr",
     "output_type": "stream",
     "text": [
      "100%|██████████| 14/14 [00:23<00:00,  1.66s/it]\n"
     ]
    },
    {
     "name": "stdout",
     "output_type": "stream",
     "text": [
      "\n",
      " Confusion matrix: \n",
      " [[358 245]\n",
      " [457 301]]\n",
      "F1 Score: 0.46165644171779147\n",
      "Accuracy: 0.4842027920646583\n",
      "Precision: 0.5512820512820513\n",
      "Recall: 0.3970976253298153\n",
      "ROC AUC: 0.49539790055877164\n",
      "Epoch 7 | Train Loss 2.286505699157715\n"
     ]
    },
    {
     "name": "stderr",
     "output_type": "stream",
     "text": [
      "100%|██████████| 14/14 [00:23<00:00,  1.67s/it]\n"
     ]
    },
    {
     "name": "stdout",
     "output_type": "stream",
     "text": [
      "\n",
      " Confusion matrix: \n",
      " [[371 211]\n",
      " [444 335]]\n",
      "F1 Score: 0.5056603773584906\n",
      "Accuracy: 0.5187362233651727\n",
      "Precision: 0.6135531135531136\n",
      "Recall: 0.4300385109114249\n",
      "ROC AUC: 0.5337477777924822\n",
      "Epoch 8 | Train Loss 1.5607612133026123\n"
     ]
    },
    {
     "name": "stderr",
     "output_type": "stream",
     "text": [
      "100%|██████████| 14/14 [00:23<00:00,  1.65s/it]\n"
     ]
    },
    {
     "name": "stdout",
     "output_type": "stream",
     "text": [
      "\n",
      " Confusion matrix: \n",
      " [[382 247]\n",
      " [433 299]]\n",
      "F1 Score: 0.46791862284820035\n",
      "Accuracy: 0.5003673769287289\n",
      "Precision: 0.5476190476190477\n",
      "Recall: 0.40846994535519127\n",
      "ROC AUC: 0.5078915704518404\n",
      "Epoch 9 | Train Loss 2.302276372909546\n"
     ]
    },
    {
     "name": "stderr",
     "output_type": "stream",
     "text": [
      "100%|██████████| 14/14 [00:23<00:00,  1.69s/it]\n"
     ]
    },
    {
     "name": "stdout",
     "output_type": "stream",
     "text": [
      "\n",
      " Confusion matrix: \n",
      " [[361 243]\n",
      " [454 303]]\n",
      "F1 Score: 0.4650805832693784\n",
      "Accuracy: 0.4878765613519471\n",
      "Precision: 0.554945054945055\n",
      "Recall: 0.4002642007926024\n",
      "ROC AUC: 0.4989731599989502\n",
      "Epoch 10 | Train Loss 2.043456554412842\n",
      "\n",
      " Confusion matrix: \n",
      " [[424 225]\n",
      " [391 321]]\n",
      "F1 Score: 0.5103338632750398\n",
      "Accuracy: 0.547391623806025\n",
      "Precision: 0.5879120879120879\n",
      "Recall: 0.4508426966292135\n",
      "ROC AUC: 0.5520777427676115\n",
      "Epoch 10 | Test Loss 0.9852524995803833\n"
     ]
    },
    {
     "name": "stderr",
     "output_type": "stream",
     "text": [
      "100%|██████████| 14/14 [00:23<00:00,  1.71s/it]\n"
     ]
    },
    {
     "name": "stdout",
     "output_type": "stream",
     "text": [
      "\n",
      " Confusion matrix: \n",
      " [[370 231]\n",
      " [445 315]]\n",
      "F1 Score: 0.4823889739663093\n",
      "Accuracy: 0.5033063923585599\n",
      "Precision: 0.5769230769230769\n",
      "Recall: 0.4144736842105263\n",
      "ROC AUC: 0.5150571416060952\n",
      "Epoch 11 | Train Loss 2.010864734649658\n"
     ]
    },
    {
     "name": "stderr",
     "output_type": "stream",
     "text": [
      "100%|██████████| 14/14 [00:23<00:00,  1.66s/it]\n"
     ]
    },
    {
     "name": "stdout",
     "output_type": "stream",
     "text": [
      "\n",
      " Confusion matrix: \n",
      " [[353 251]\n",
      " [462 295]]\n",
      "F1 Score: 0.45280122793553335\n",
      "Accuracy: 0.4761204996326231\n",
      "Precision: 0.5402930402930403\n",
      "Recall: 0.38969616908850724\n",
      "ROC AUC: 0.48706662759061126\n",
      "Epoch 12 | Train Loss 1.8190473318099976\n"
     ]
    },
    {
     "name": "stderr",
     "output_type": "stream",
     "text": [
      "100%|██████████| 14/14 [00:23<00:00,  1.69s/it]\n"
     ]
    },
    {
     "name": "stdout",
     "output_type": "stream",
     "text": [
      "\n",
      " Confusion matrix: \n",
      " [[372 224]\n",
      " [443 322]]\n",
      "F1 Score: 0.4912280701754386\n",
      "Accuracy: 0.5099191770756797\n",
      "Precision: 0.5897435897435898\n",
      "Recall: 0.42091503267973857\n",
      "ROC AUC: 0.5225380532526209\n",
      "Epoch 13 | Train Loss 2.638753890991211\n"
     ]
    },
    {
     "name": "stderr",
     "output_type": "stream",
     "text": [
      "100%|██████████| 14/14 [00:23<00:00,  1.67s/it]\n"
     ]
    },
    {
     "name": "stdout",
     "output_type": "stream",
     "text": [
      "\n",
      " Confusion matrix: \n",
      " [[354 239]\n",
      " [461 307]]\n",
      "F1 Score: 0.467275494672755\n",
      "Accuracy: 0.4856722997795738\n",
      "Precision: 0.5622710622710623\n",
      "Recall: 0.3997395833333333\n",
      "ROC AUC: 0.4983520850899381\n",
      "Epoch 14 | Train Loss 2.3149235248565674\n"
     ]
    },
    {
     "name": "stderr",
     "output_type": "stream",
     "text": [
      "100%|██████████| 14/14 [00:22<00:00,  1.64s/it]\n"
     ]
    },
    {
     "name": "stdout",
     "output_type": "stream",
     "text": [
      "\n",
      " Confusion matrix: \n",
      " [[354 239]\n",
      " [461 307]]\n",
      "F1 Score: 0.467275494672755\n",
      "Accuracy: 0.4856722997795738\n",
      "Precision: 0.5622710622710623\n",
      "Recall: 0.3997395833333333\n",
      "ROC AUC: 0.4983520850899381\n",
      "Epoch 15 | Train Loss 2.077857494354248\n",
      "\n",
      " Confusion matrix: \n",
      " [[423 225]\n",
      " [392 321]]\n",
      "F1 Score: 0.5099285146942019\n",
      "Accuracy: 0.5466568699485672\n",
      "Precision: 0.5879120879120879\n",
      "Recall: 0.45021037868162694\n",
      "ROC AUC: 0.5514940782297024\n",
      "Epoch 15 | Test Loss 1.193892478942871\n"
     ]
    },
    {
     "name": "stderr",
     "output_type": "stream",
     "text": [
      "100%|██████████| 14/14 [00:23<00:00,  1.69s/it]\n"
     ]
    },
    {
     "name": "stdout",
     "output_type": "stream",
     "text": [
      "\n",
      " Confusion matrix: \n",
      " [[349 245]\n",
      " [466 301]]\n",
      "F1 Score: 0.45849200304645854\n",
      "Accuracy: 0.4775900073475386\n",
      "Precision: 0.5512820512820513\n",
      "Recall: 0.3924380704041721\n",
      "ROC AUC: 0.48999007897312985\n",
      "Epoch 16 | Train Loss 2.353928804397583\n"
     ]
    },
    {
     "name": "stderr",
     "output_type": "stream",
     "text": [
      "100%|██████████| 14/14 [00:22<00:00,  1.64s/it]\n"
     ]
    },
    {
     "name": "stdout",
     "output_type": "stream",
     "text": [
      "\n",
      " Confusion matrix: \n",
      " [[400 244]\n",
      " [415 302]]\n",
      "F1 Score: 0.47822644497228817\n",
      "Accuracy: 0.5157972079353417\n",
      "Precision: 0.5531135531135531\n",
      "Recall: 0.4211994421199442\n",
      "ROC AUC: 0.5211587272711523\n",
      "Epoch 17 | Train Loss 2.3988938331604004\n"
     ]
    },
    {
     "name": "stderr",
     "output_type": "stream",
     "text": [
      "100%|██████████| 14/14 [00:23<00:00,  1.68s/it]\n"
     ]
    },
    {
     "name": "stdout",
     "output_type": "stream",
     "text": [
      "\n",
      " Confusion matrix: \n",
      " [[344 256]\n",
      " [471 290]]\n",
      "F1 Score: 0.44376434583014535\n",
      "Accuracy: 0.46583394562821456\n",
      "Precision: 0.5311355311355311\n",
      "Recall: 0.38107752956636004\n",
      "ROC AUC: 0.4772054314498466\n",
      "Epoch 18 | Train Loss 2.1155002117156982\n"
     ]
    },
    {
     "name": "stderr",
     "output_type": "stream",
     "text": [
      "100%|██████████| 14/14 [00:22<00:00,  1.63s/it]\n"
     ]
    },
    {
     "name": "stdout",
     "output_type": "stream",
     "text": [
      "\n",
      " Confusion matrix: \n",
      " [[378 240]\n",
      " [437 306]]\n",
      "F1 Score: 0.4747866563227308\n",
      "Accuracy: 0.5025716385011021\n",
      "Precision: 0.5604395604395604\n",
      "Recall: 0.41184387617765816\n",
      "ROC AUC: 0.5117471808072757\n",
      "Epoch 19 | Train Loss 1.7847932577133179\n"
     ]
    },
    {
     "name": "stderr",
     "output_type": "stream",
     "text": [
      "100%|██████████| 14/14 [00:23<00:00,  1.68s/it]\n"
     ]
    },
    {
     "name": "stdout",
     "output_type": "stream",
     "text": [
      "\n",
      " Confusion matrix: \n",
      " [[352 237]\n",
      " [463 309]]\n",
      "F1 Score: 0.46889226100151743\n",
      "Accuracy: 0.4856722997795738\n",
      "Precision: 0.5659340659340659\n",
      "Recall: 0.40025906735751293\n",
      "ROC AUC: 0.49894107867026755\n",
      "Epoch 20 | Train Loss 2.080256223678589\n",
      "\n",
      " Confusion matrix: \n",
      " [[423 225]\n",
      " [392 321]]\n",
      "F1 Score: 0.5099285146942019\n",
      "Accuracy: 0.5466568699485672\n",
      "Precision: 0.5879120879120879\n",
      "Recall: 0.45021037868162694\n",
      "ROC AUC: 0.5514940782297024\n",
      "Epoch 20 | Test Loss 0.9895269870758057\n"
     ]
    },
    {
     "name": "stderr",
     "output_type": "stream",
     "text": [
      "100%|██████████| 14/14 [00:23<00:00,  1.65s/it]\n"
     ]
    },
    {
     "name": "stdout",
     "output_type": "stream",
     "text": [
      "\n",
      " Confusion matrix: \n",
      " [[371 247]\n",
      " [444 299]]\n",
      "F1 Score: 0.46392552366175327\n",
      "Accuracy: 0.4922850844966936\n",
      "Precision: 0.5476190476190477\n",
      "Recall: 0.40242261103633914\n",
      "ROC AUC: 0.5013731178159042\n",
      "Epoch 21 | Train Loss 1.9437710046768188\n"
     ]
    },
    {
     "name": "stderr",
     "output_type": "stream",
     "text": [
      "100%|██████████| 14/14 [00:23<00:00,  1.68s/it]\n"
     ]
    },
    {
     "name": "stdout",
     "output_type": "stream",
     "text": [
      "\n",
      " Confusion matrix: \n",
      " [[353 235]\n",
      " [462 311]]\n",
      "F1 Score: 0.47156937073540556\n",
      "Accuracy: 0.4878765613519471\n",
      "Precision: 0.5695970695970696\n",
      "Recall: 0.4023285899094437\n",
      "ROC AUC: 0.5013343629819328\n",
      "Epoch 22 | Train Loss 1.6646721363067627\n"
     ]
    },
    {
     "name": "stderr",
     "output_type": "stream",
     "text": [
      "100%|██████████| 14/14 [00:23<00:00,  1.66s/it]\n"
     ]
    },
    {
     "name": "stdout",
     "output_type": "stream",
     "text": [
      "\n",
      " Confusion matrix: \n",
      " [[384 228]\n",
      " [431 318]]\n",
      "F1 Score: 0.49111969111969117\n",
      "Accuracy: 0.5157972079353417\n",
      "Precision: 0.5824175824175825\n",
      "Recall: 0.42456608811748997\n",
      "ROC AUC: 0.5260085342548234\n",
      "Epoch 23 | Train Loss 2.0763943195343018\n"
     ]
    },
    {
     "name": "stderr",
     "output_type": "stream",
     "text": [
      "100%|██████████| 14/14 [00:23<00:00,  1.69s/it]\n"
     ]
    },
    {
     "name": "stdout",
     "output_type": "stream",
     "text": [
      "\n",
      " Confusion matrix: \n",
      " [[370 239]\n",
      " [445 307]]\n",
      "F1 Score: 0.4730354391371341\n",
      "Accuracy: 0.49742836149889785\n",
      "Precision: 0.5622710622710623\n",
      "Recall: 0.40824468085106386\n",
      "ROC AUC: 0.5078990235125598\n",
      "Epoch 24 | Train Loss 2.0785679817199707\n"
     ]
    },
    {
     "name": "stderr",
     "output_type": "stream",
     "text": [
      "100%|██████████| 14/14 [00:23<00:00,  1.68s/it]\n"
     ]
    },
    {
     "name": "stdout",
     "output_type": "stream",
     "text": [
      "\n",
      " Confusion matrix: \n",
      " [[371 253]\n",
      " [444 293]]\n",
      "F1 Score: 0.45674201091192523\n",
      "Accuracy: 0.4878765613519471\n",
      "Precision: 0.5366300366300366\n",
      "Recall: 0.39755766621438265\n",
      "ROC AUC: 0.4960544741328324\n",
      "Epoch 25 | Train Loss 1.9430992603302002\n",
      "\n",
      " Confusion matrix: \n",
      " [[423 225]\n",
      " [392 321]]\n",
      "F1 Score: 0.5099285146942019\n",
      "Accuracy: 0.5466568699485672\n",
      "Precision: 0.5879120879120879\n",
      "Recall: 0.45021037868162694\n",
      "ROC AUC: 0.5514940782297024\n",
      "Epoch 25 | Test Loss 0.8880850672721863\n"
     ]
    },
    {
     "name": "stderr",
     "output_type": "stream",
     "text": [
      "100%|██████████| 14/14 [00:23<00:00,  1.70s/it]\n"
     ]
    },
    {
     "name": "stdout",
     "output_type": "stream",
     "text": [
      "\n",
      " Confusion matrix: \n",
      " [[367 249]\n",
      " [448 297]]\n",
      "F1 Score: 0.46010844306738957\n",
      "Accuracy: 0.4878765613519471\n",
      "Precision: 0.5439560439560439\n",
      "Recall: 0.39865771812080536\n",
      "ROC AUC: 0.497218469450013\n",
      "Epoch 26 | Train Loss 1.8295258283615112\n"
     ]
    },
    {
     "name": "stderr",
     "output_type": "stream",
     "text": [
      "100%|██████████| 14/14 [00:22<00:00,  1.63s/it]\n"
     ]
    },
    {
     "name": "stdout",
     "output_type": "stream",
     "text": [
      "\n",
      " Confusion matrix: \n",
      " [[376 252]\n",
      " [439 294]]\n",
      "F1 Score: 0.45973416731821737\n",
      "Accuracy: 0.4922850844966936\n",
      "Precision: 0.5384615384615384\n",
      "Recall: 0.40109140518417463\n",
      "ROC AUC: 0.49990875991692807\n",
      "Epoch 27 | Train Loss 2.9824037551879883\n"
     ]
    },
    {
     "name": "stderr",
     "output_type": "stream",
     "text": [
      "100%|██████████| 14/14 [00:23<00:00,  1.67s/it]\n"
     ]
    },
    {
     "name": "stdout",
     "output_type": "stream",
     "text": [
      "\n",
      " Confusion matrix: \n",
      " [[367 256]\n",
      " [448 290]]\n",
      "F1 Score: 0.4517133956386293\n",
      "Accuracy: 0.48273328434974283\n",
      "Precision: 0.5311355311355311\n",
      "Recall: 0.39295392953929537\n",
      "ROC AUC: 0.4910195008852175\n",
      "Epoch 28 | Train Loss 1.7288787364959717\n"
     ]
    },
    {
     "name": "stderr",
     "output_type": "stream",
     "text": [
      "100%|██████████| 14/14 [00:22<00:00,  1.64s/it]\n"
     ]
    },
    {
     "name": "stdout",
     "output_type": "stream",
     "text": [
      "\n",
      " Confusion matrix: \n",
      " [[395 227]\n",
      " [420 319]]\n",
      "F1 Score: 0.49649805447470824\n",
      "Accuracy: 0.5246142542248347\n",
      "Precision: 0.5842490842490843\n",
      "Recall: 0.4316644113667118\n",
      "ROC AUC: 0.5333563214389829\n",
      "Epoch 29 | Train Loss 2.031923770904541\n"
     ]
    },
    {
     "name": "stderr",
     "output_type": "stream",
     "text": [
      "100%|██████████| 14/14 [00:23<00:00,  1.71s/it]\n"
     ]
    },
    {
     "name": "stdout",
     "output_type": "stream",
     "text": [
      "\n",
      " Confusion matrix: \n",
      " [[371 254]\n",
      " [444 292]]\n",
      "F1 Score: 0.45553822152886114\n",
      "Accuracy: 0.4871418074944893\n",
      "Precision: 0.5347985347985348\n",
      "Recall: 0.3967391304347826\n",
      "ROC AUC: 0.4951695652173913\n",
      "Epoch 30 | Train Loss 2.059772253036499\n",
      "\n",
      " Confusion matrix: \n",
      " [[423 225]\n",
      " [392 321]]\n",
      "F1 Score: 0.5099285146942019\n",
      "Accuracy: 0.5466568699485672\n",
      "Precision: 0.5879120879120879\n",
      "Recall: 0.45021037868162694\n",
      "ROC AUC: 0.5514940782297024\n",
      "Epoch 30 | Test Loss 0.8782024383544922\n"
     ]
    },
    {
     "name": "stderr",
     "output_type": "stream",
     "text": [
      "100%|██████████| 14/14 [00:22<00:00,  1.64s/it]\n"
     ]
    },
    {
     "name": "stdout",
     "output_type": "stream",
     "text": [
      "\n",
      " Confusion matrix: \n",
      " [[374 218]\n",
      " [441 328]]\n",
      "F1 Score: 0.49885931558935365\n",
      "Accuracy: 0.5157972079353417\n",
      "Precision: 0.6007326007326007\n",
      "Recall: 0.4265279583875163\n",
      "ROC AUC: 0.5291423575721366\n",
      "Epoch 31 | Train Loss 2.0696470737457275\n"
     ]
    },
    {
     "name": "stderr",
     "output_type": "stream",
     "text": [
      "100%|██████████| 14/14 [00:23<00:00,  1.67s/it]\n"
     ]
    },
    {
     "name": "stdout",
     "output_type": "stream",
     "text": [
      "\n",
      " Confusion matrix: \n",
      " [[362 230]\n",
      " [453 316]]\n",
      "F1 Score: 0.4806083650190114\n",
      "Accuracy: 0.4981631153563556\n",
      "Precision: 0.5787545787545788\n",
      "Recall: 0.41092327698309494\n",
      "ROC AUC: 0.5112048817347907\n",
      "Epoch 32 | Train Loss 2.1751933097839355\n"
     ]
    },
    {
     "name": "stderr",
     "output_type": "stream",
     "text": [
      "100%|██████████| 14/14 [00:22<00:00,  1.63s/it]\n"
     ]
    },
    {
     "name": "stdout",
     "output_type": "stream",
     "text": [
      "\n",
      " Confusion matrix: \n",
      " [[326 245]\n",
      " [489 301]]\n",
      "F1 Score: 0.45059880239520955\n",
      "Accuracy: 0.46069066862601027\n",
      "Precision: 0.5512820512820513\n",
      "Recall: 0.3810126582278481\n",
      "ROC AUC: 0.47597042718747923\n",
      "Epoch 33 | Train Loss 1.9203391075134277\n"
     ]
    },
    {
     "name": "stderr",
     "output_type": "stream",
     "text": [
      "100%|██████████| 14/14 [00:23<00:00,  1.68s/it]\n"
     ]
    },
    {
     "name": "stdout",
     "output_type": "stream",
     "text": [
      "\n",
      " Confusion matrix: \n",
      " [[361 233]\n",
      " [454 313]]\n",
      "F1 Score: 0.47677075399847674\n",
      "Accuracy: 0.4952240999265246\n",
      "Precision: 0.5732600732600732\n",
      "Recall: 0.40808344198174706\n",
      "ROC AUC: 0.5079137748629274\n",
      "Epoch 34 | Train Loss 2.2723591327667236\n"
     ]
    },
    {
     "name": "stderr",
     "output_type": "stream",
     "text": [
      "100%|██████████| 14/14 [00:23<00:00,  1.68s/it]\n"
     ]
    },
    {
     "name": "stdout",
     "output_type": "stream",
     "text": [
      "\n",
      " Confusion matrix: \n",
      " [[357 240]\n",
      " [458 306]]\n",
      "F1 Score: 0.4671755725190839\n",
      "Accuracy: 0.4871418074944893\n",
      "Precision: 0.5604395604395604\n",
      "Recall: 0.4005235602094241\n",
      "ROC AUC: 0.49925675497908395\n",
      "Epoch 35 | Train Loss 2.1370322704315186\n",
      "\n",
      " Confusion matrix: \n",
      " [[424 225]\n",
      " [391 321]]\n",
      "F1 Score: 0.5103338632750398\n",
      "Accuracy: 0.547391623806025\n",
      "Precision: 0.5879120879120879\n",
      "Recall: 0.4508426966292135\n",
      "ROC AUC: 0.5520777427676115\n",
      "Epoch 35 | Test Loss 0.9798012375831604\n"
     ]
    },
    {
     "name": "stderr",
     "output_type": "stream",
     "text": [
      "100%|██████████| 14/14 [00:22<00:00,  1.61s/it]\n"
     ]
    },
    {
     "name": "stdout",
     "output_type": "stream",
     "text": [
      "\n",
      " Confusion matrix: \n",
      " [[390 227]\n",
      " [425 319]]\n",
      "F1 Score: 0.4945736434108527\n",
      "Accuracy: 0.520940484937546\n",
      "Precision: 0.5842490842490843\n",
      "Recall: 0.42876344086021506\n",
      "ROC AUC: 0.5304271013053101\n",
      "Epoch 36 | Train Loss 2.231416702270508\n"
     ]
    },
    {
     "name": "stderr",
     "output_type": "stream",
     "text": [
      "100%|██████████| 14/14 [00:22<00:00,  1.58s/it]\n"
     ]
    },
    {
     "name": "stdout",
     "output_type": "stream",
     "text": [
      "\n",
      " Confusion matrix: \n",
      " [[366 245]\n",
      " [449 301]]\n",
      "F1 Score: 0.4645061728395062\n",
      "Accuracy: 0.49008082292432037\n",
      "Precision: 0.5512820512820513\n",
      "Recall: 0.4013333333333333\n",
      "ROC AUC: 0.5001756683033279\n",
      "Epoch 37 | Train Loss 2.2204535007476807\n"
     ]
    },
    {
     "name": "stderr",
     "output_type": "stream",
     "text": [
      "100%|██████████| 14/14 [00:22<00:00,  1.61s/it]\n"
     ]
    },
    {
     "name": "stdout",
     "output_type": "stream",
     "text": [
      "\n",
      " Confusion matrix: \n",
      " [[389 247]\n",
      " [426 299]]\n",
      "F1 Score: 0.4704956726986625\n",
      "Accuracy: 0.5055106539309331\n",
      "Precision: 0.5476190476190477\n",
      "Recall: 0.4124137931034483\n",
      "ROC AUC: 0.5120245066146172\n",
      "Epoch 38 | Train Loss 2.0137271881103516\n"
     ]
    },
    {
     "name": "stderr",
     "output_type": "stream",
     "text": [
      "100%|██████████| 14/14 [00:22<00:00,  1.59s/it]\n"
     ]
    },
    {
     "name": "stdout",
     "output_type": "stream",
     "text": [
      "\n",
      " Confusion matrix: \n",
      " [[361 233]\n",
      " [454 313]]\n",
      "F1 Score: 0.47677075399847674\n",
      "Accuracy: 0.4952240999265246\n",
      "Precision: 0.5732600732600732\n",
      "Recall: 0.40808344198174706\n",
      "ROC AUC: 0.5079137748629274\n",
      "Epoch 39 | Train Loss 2.1715245246887207\n"
     ]
    },
    {
     "name": "stderr",
     "output_type": "stream",
     "text": [
      "100%|██████████| 14/14 [00:22<00:00,  1.64s/it]\n"
     ]
    },
    {
     "name": "stdout",
     "output_type": "stream",
     "text": [
      "\n",
      " Confusion matrix: \n",
      " [[367 216]\n",
      " [448 330]]\n",
      "F1 Score: 0.49848942598187307\n",
      "Accuracy: 0.5121234386480529\n",
      "Precision: 0.6043956043956044\n",
      "Recall: 0.4241645244215938\n",
      "ROC AUC: 0.5268335486601966\n",
      "Epoch 40 | Train Loss 2.124555826187134\n",
      "\n",
      " Confusion matrix: \n",
      " [[423 225]\n",
      " [392 321]]\n",
      "F1 Score: 0.5099285146942019\n",
      "Accuracy: 0.5466568699485672\n",
      "Precision: 0.5879120879120879\n",
      "Recall: 0.45021037868162694\n",
      "ROC AUC: 0.5514940782297024\n",
      "Epoch 40 | Test Loss 0.9430896639823914\n"
     ]
    },
    {
     "name": "stderr",
     "output_type": "stream",
     "text": [
      "100%|██████████| 14/14 [00:22<00:00,  1.59s/it]\n"
     ]
    },
    {
     "name": "stdout",
     "output_type": "stream",
     "text": [
      "\n",
      " Confusion matrix: \n",
      " [[360 247]\n",
      " [455 299]]\n",
      "F1 Score: 0.4600000000000001\n",
      "Accuracy: 0.4842027920646583\n",
      "Precision: 0.5476190476190477\n",
      "Recall: 0.39655172413793105\n",
      "ROC AUC: 0.4948162245071863\n",
      "Epoch 41 | Train Loss 2.913492202758789\n"
     ]
    },
    {
     "name": "stderr",
     "output_type": "stream",
     "text": [
      "100%|██████████| 14/14 [00:22<00:00,  1.63s/it]\n"
     ]
    },
    {
     "name": "stdout",
     "output_type": "stream",
     "text": [
      "\n",
      " Confusion matrix: \n",
      " [[359 232]\n",
      " [456 314]]\n",
      "F1 Score: 0.47720364741641336\n",
      "Accuracy: 0.49448934606906686\n",
      "Precision: 0.575091575091575\n",
      "Recall: 0.4077922077922078\n",
      "ROC AUC: 0.5076186081262224\n",
      "Epoch 42 | Train Loss 1.9330681562423706\n"
     ]
    },
    {
     "name": "stderr",
     "output_type": "stream",
     "text": [
      "100%|██████████| 14/14 [00:22<00:00,  1.60s/it]\n"
     ]
    },
    {
     "name": "stdout",
     "output_type": "stream",
     "text": [
      "\n",
      " Confusion matrix: \n",
      " [[358 239]\n",
      " [457 307]]\n",
      "F1 Score: 0.4687022900763359\n",
      "Accuracy: 0.4886113152094049\n",
      "Precision: 0.5622710622710623\n",
      "Recall: 0.4018324607329843\n",
      "ROC AUC: 0.5007487261788875\n",
      "Epoch 43 | Train Loss 2.4463398456573486\n"
     ]
    },
    {
     "name": "stderr",
     "output_type": "stream",
     "text": [
      "100%|██████████| 14/14 [00:22<00:00,  1.62s/it]\n"
     ]
    },
    {
     "name": "stdout",
     "output_type": "stream",
     "text": [
      "\n",
      " Confusion matrix: \n",
      " [[385 243]\n",
      " [430 303]]\n",
      "F1 Score: 0.473807662236122\n",
      "Accuracy: 0.5055106539309331\n",
      "Precision: 0.554945054945055\n",
      "Recall: 0.41336971350613916\n",
      "ROC AUC: 0.5132135191734517\n",
      "Epoch 44 | Train Loss 2.101299285888672\n"
     ]
    },
    {
     "name": "stderr",
     "output_type": "stream",
     "text": [
      "100%|██████████| 14/14 [00:23<00:00,  1.65s/it]\n"
     ]
    },
    {
     "name": "stdout",
     "output_type": "stream",
     "text": [
      "\n",
      " Confusion matrix: \n",
      " [[379 241]\n",
      " [436 305]]\n",
      "F1 Score: 0.473970473970474\n",
      "Accuracy: 0.5025716385011021\n",
      "Precision: 0.5586080586080586\n",
      "Recall: 0.4116059379217274\n",
      "ROC AUC: 0.5114481302511863\n",
      "Epoch 45 | Train Loss 1.871286153793335\n",
      "\n",
      " Confusion matrix: \n",
      " [[424 225]\n",
      " [391 321]]\n",
      "F1 Score: 0.5103338632750398\n",
      "Accuracy: 0.547391623806025\n",
      "Precision: 0.5879120879120879\n",
      "Recall: 0.4508426966292135\n",
      "ROC AUC: 0.5520777427676115\n",
      "Epoch 45 | Test Loss 1.0895438194274902\n"
     ]
    },
    {
     "name": "stderr",
     "output_type": "stream",
     "text": [
      "100%|██████████| 14/14 [00:23<00:00,  1.64s/it]\n"
     ]
    },
    {
     "name": "stdout",
     "output_type": "stream",
     "text": [
      "\n",
      " Confusion matrix: \n",
      " [[368 239]\n",
      " [447 307]]\n",
      "F1 Score: 0.4723076923076923\n",
      "Accuracy: 0.49595885378398236\n",
      "Precision: 0.5622710622710623\n",
      "Recall: 0.40716180371352784\n",
      "ROC AUC: 0.5067110501269452\n",
      "Epoch 46 | Train Loss 2.5565476417541504\n"
     ]
    },
    {
     "name": "stderr",
     "output_type": "stream",
     "text": [
      "100%|██████████| 14/14 [00:22<00:00,  1.60s/it]\n"
     ]
    },
    {
     "name": "stdout",
     "output_type": "stream",
     "text": [
      "\n",
      " Confusion matrix: \n",
      " [[356 244]\n",
      " [459 302]]\n",
      "F1 Score: 0.46212700841622034\n",
      "Accuracy: 0.4834680382072006\n",
      "Precision: 0.5531135531135531\n",
      "Recall: 0.3968462549277267\n",
      "ROC AUC: 0.49508979413052995\n",
      "Epoch 47 | Train Loss 2.191246509552002\n"
     ]
    },
    {
     "name": "stderr",
     "output_type": "stream",
     "text": [
      "100%|██████████| 14/14 [00:22<00:00,  1.62s/it]\n"
     ]
    },
    {
     "name": "stdout",
     "output_type": "stream",
     "text": [
      "\n",
      " Confusion matrix: \n",
      " [[360 235]\n",
      " [455 311]]\n",
      "F1 Score: 0.4740853658536585\n",
      "Accuracy: 0.49301983835415136\n",
      "Precision: 0.5695970695970696\n",
      "Recall: 0.40600522193211486\n",
      "ROC AUC: 0.5055236193694188\n",
      "Epoch 48 | Train Loss 2.4374377727508545\n"
     ]
    },
    {
     "name": "stderr",
     "output_type": "stream",
     "text": [
      "100%|██████████| 14/14 [00:22<00:00,  1.63s/it]"
     ]
    },
    {
     "name": "stdout",
     "output_type": "stream",
     "text": [
      "\n",
      " Confusion matrix: \n",
      " [[383 234]\n",
      " [432 312]]\n",
      "F1 Score: 0.4837209302325581\n",
      "Accuracy: 0.5106539309331374\n",
      "Precision: 0.5714285714285714\n",
      "Recall: 0.41935483870967744\n",
      "ROC AUC: 0.5200501908297172\n",
      "Epoch 49 | Train Loss 1.8212122917175293\n",
      "Done.\n"
     ]
    },
    {
     "name": "stderr",
     "output_type": "stream",
     "text": [
      "\n"
     ]
    }
   ],
   "source": [
    "\n",
    "# %% Run the training\n",
    "with mlflow.start_run() as run:\n",
    "    for epoch in range(50):\n",
    "        # Training\n",
    "        model.train()\n",
    "        loss = train(epoch=epoch)\n",
    "        loss = loss.detach().cpu().numpy()\n",
    "        print(f\"Epoch {epoch} | Train Loss {loss}\")\n",
    "        mlflow.log_metric(key=\"Train loss\", value=float(loss), step=epoch)\n",
    "\n",
    "        # Testing\n",
    "        model.eval()\n",
    "        if epoch % 5 == 0:\n",
    "            loss = test(epoch=epoch)\n",
    "            loss = loss.detach().cpu().numpy()\n",
    "            print(f\"Epoch {epoch} | Test Loss {loss}\")\n",
    "            mlflow.log_metric(key=\"Test loss\", value=float(loss), step=epoch)\n",
    "\n",
    "        scheduler.step()\n",
    "print(\"Done.\")\n",
    "\n"
   ]
  },
  {
   "cell_type": "code",
   "execution_count": 86,
   "id": "92973361",
   "metadata": {},
   "outputs": [
    {
     "name": "stderr",
     "output_type": "stream",
     "text": [
      "2022/04/23 18:34:33 WARNING mlflow.utils.environment: Encountered an unexpected error while inferring pip requirements (model URI: C:\\Users\\JERRYJ~1\\AppData\\Local\\Temp\\tmpaw9qy73f\\model\\data, flavor: pytorch), fall back to return ['torch==1.11.0', 'cloudpickle==2.0.0']. Set logging level to DEBUG to see the full traceback.\n",
      "D:\\Anaconda3\\envs\\pytorch\\lib\\site-packages\\_distutils_hack\\__init__.py:30: UserWarning: Setuptools is replacing distutils.\n",
      "  warnings.warn(\"Setuptools is replacing distutils.\")\n"
     ]
    },
    {
     "data": {
      "text/plain": [
       "ModelInfo(artifact_path='model', flavors={'pytorch': {'model_data': 'data', 'pytorch_version': '1.11.0', 'code': None}, 'python_function': {'pickle_module_name': 'mlflow.pytorch.pickle_module', 'loader_module': 'mlflow.pytorch', 'python_version': '3.9.12', 'data': 'data', 'env': 'conda.yaml'}}, model_uri='runs:/4a9444a653db468b82897495cd082671/model', model_uuid='5f5ed8d30c9a47818c0bd060119cf360', run_id='4a9444a653db468b82897495cd082671', saved_input_example_info=None, signature_dict=None, utc_time_created='2022-04-23 13:04:23.836043', mlflow_version='1.25.1')"
      ]
     },
     "execution_count": 86,
     "metadata": {},
     "output_type": "execute_result"
    }
   ],
   "source": [
    "\n",
    "# %% Save the model \n",
    "mlflow.pytorch.log_model(model, \"model\") "
   ]
  },
  {
   "cell_type": "markdown",
   "id": "4cf9e10b",
   "metadata": {},
   "source": [
    "Confusion Matrix"
   ]
  },
  {
   "cell_type": "markdown",
   "id": "6cbe88f2",
   "metadata": {},
   "source": [
    "![asd](data:image/png;base64,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)"
   ]
  },
  {
   "cell_type": "code",
   "execution_count": 88,
   "id": "abff8d25",
   "metadata": {},
   "outputs": [],
   "source": [
    "from datetime import date\n",
    "from datetime import datetime\n"
   ]
  },
  {
   "cell_type": "code",
   "execution_count": 90,
   "id": "dbd416f2",
   "metadata": {},
   "outputs": [],
   "source": [
    "model_type_name=\"28_embed\""
   ]
  },
  {
   "cell_type": "code",
   "execution_count": 91,
   "id": "93f0f837",
   "metadata": {},
   "outputs": [],
   "source": [
    "# SAVE MODEL\n",
    "#  pls creatae a folder named model_saved if not there\n",
    "now = datetime.now()\n",
    "dt_string = now.strftime(\"%d_%m_%Y %H_%M_%S\")\n",
    "PATH_to_save_model=\"model_saved/\"+\"model_\"+dt_string+\":\"+model_type_name+\".pt\"\n",
    "PATH_to_save_model=\"model_saved/model \"+dt_string+\".pt\"\n",
    "torch.save(model, PATH_to_save_model)"
   ]
  },
  {
   "cell_type": "code",
   "execution_count": null,
   "id": "08218eff",
   "metadata": {},
   "outputs": [],
   "source": [
    "# Model class must be defined somewhere\n",
    "model2 = torch.load(PATH_to_save_model)\n",
    "model2.eval()"
   ]
  }
 ],
 "metadata": {
  "kernelspec": {
   "display_name": "pytorch",
   "language": "python",
   "name": "pytorch"
  },
  "language_info": {
   "codemirror_mode": {
    "name": "ipython",
    "version": 3
   },
   "file_extension": ".py",
   "mimetype": "text/x-python",
   "name": "python",
   "nbconvert_exporter": "python",
   "pygments_lexer": "ipython3",
   "version": "3.9.12"
  }
 },
 "nbformat": 4,
 "nbformat_minor": 5
}
