{
 "cells": [
  {
   "cell_type": "code",
   "execution_count": 1,
   "id": "932d5c0d",
   "metadata": {},
   "outputs": [],
   "source": [
    "import torch"
   ]
  },
  {
   "cell_type": "code",
   "execution_count": 2,
   "id": "9a070583",
   "metadata": {},
   "outputs": [],
   "source": [
    "import pandas as pd"
   ]
  },
  {
   "cell_type": "code",
   "execution_count": 3,
   "id": "6647fc7e",
   "metadata": {},
   "outputs": [],
   "source": [
    "import torch_geometric\n",
    "from torch_geometric.data import Dataset, Data\n",
    "import numpy as np \n",
    "import os\n",
    "from tqdm import tqdm"
   ]
  },
  {
   "cell_type": "code",
   "execution_count": 4,
   "id": "f325fd0d",
   "metadata": {},
   "outputs": [],
   "source": [
    "import torch.nn.functional as F \n",
    "from torch.nn import Linear, BatchNorm1d, ModuleList\n",
    "from torch_geometric.nn import TransformerConv, TopKPooling \n",
    "from torch_geometric.nn import global_mean_pool as gap, global_max_pool as gmp\n",
    "# torch.manual_seed(42)"
   ]
  },
  {
   "cell_type": "code",
   "execution_count": 5,
   "id": "6ab461a9",
   "metadata": {},
   "outputs": [],
   "source": [
    "import mlflow.pytorch"
   ]
  },
  {
   "cell_type": "code",
   "execution_count": 6,
   "id": "20d1afae",
   "metadata": {},
   "outputs": [
    {
     "name": "stdout",
     "output_type": "stream",
     "text": [
      "Torch version: 1.11.0\n",
      "Cuda available: True\n",
      "Torch geometric version: 2.0.4\n"
     ]
    }
   ],
   "source": [
    "print(f\"Torch version: {torch.__version__}\")\n",
    "print(f\"Cuda available: {torch.cuda.is_available()}\")\n",
    "print(f\"Torch geometric version: {torch_geometric.__version__}\")"
   ]
  },
  {
   "cell_type": "markdown",
   "id": "f2eb90cb",
   "metadata": {},
   "source": [
    "## Dataset Creation"
   ]
  },
  {
   "cell_type": "markdown",
   "id": "4933b7f1",
   "metadata": {},
   "source": [
    "https://github.com/quarkslab/dataset-call-graph-blogpost-material"
   ]
  },
  {
   "cell_type": "markdown",
   "id": "98cd4213",
   "metadata": {},
   "source": [
    "https://colab.research.google.com/drive/17JFlnMUjcsMmXQYXF8xZ3z169VDAwUls?authuser=1"
   ]
  },
  {
   "cell_type": "markdown",
   "id": "42475076",
   "metadata": {},
   "source": [
    "https://www.youtube.com/watch?v=QLIkOtKS4os&list=PLV8yxwGOxvvoNkzPfCx2i8an--Tkt7O8Z&index=9"
   ]
  },
  {
   "cell_type": "markdown",
   "id": "af53bbd4",
   "metadata": {},
   "source": [
    "https://github.com/deepfindr/gnn-project"
   ]
  },
  {
   "cell_type": "code",
   "execution_count": 7,
   "id": "7a0c3a8b",
   "metadata": {},
   "outputs": [],
   "source": [
    "# test_dataset = MoleculeDataset(root=\"data/\", filename=\"HIV_test.csv\", test=True)"
   ]
  },
  {
   "cell_type": "code",
   "execution_count": 8,
   "id": "35bff41a",
   "metadata": {},
   "outputs": [],
   "source": [
    "import pickle\n",
    "path_temp= \"dataset-call-graph-blogpost-material/dataset/\""
   ]
  },
  {
   "cell_type": "code",
   "execution_count": 9,
   "id": "39810b4a",
   "metadata": {},
   "outputs": [],
   "source": [
    "good_data=pickle.load(open(path_temp+\"goodware_graphs.p\",\"rb\"))\n",
    "bad_data=pickle.load(open(path_temp+\"malware_graphs.p\",\"rb\"))"
   ]
  },
  {
   "cell_type": "code",
   "execution_count": 10,
   "id": "374db08d",
   "metadata": {},
   "outputs": [
    {
     "name": "stdout",
     "output_type": "stream",
     "text": [
      "length of array =  546\n",
      "length of 1 item =  2\n",
      "length of first thing in one item =  464\n",
      "length of second thing in one item =  464\n"
     ]
    }
   ],
   "source": [
    "print(\"length of array = \",len(good_data))\n",
    "print(\"length of 1 item = \",len(good_data[0]))\n",
    "print(\"length of first thing in one item = \",len(good_data[0][0]))\n",
    "print(\"length of second thing in one item = \",len(good_data[0][1]))"
   ]
  },
  {
   "cell_type": "code",
   "execution_count": 11,
   "id": "8a1fde57",
   "metadata": {},
   "outputs": [],
   "source": [
    "node_feature_menu=['mov', 'call', 'lea', 'jmp', 'push', 'add', 'xor', 'cmp', 'int3', 'nop', 'pushl', 'dec', 'sub', 'insl', 'inc','jz', 'jnz', 'je', 'jne', 'ja', 'jna', 'js', 'jns', 'jl', 'jnl', 'jg', 'jng']"
   ]
  },
  {
   "cell_type": "code",
   "execution_count": 12,
   "id": "16078f68",
   "metadata": {},
   "outputs": [],
   "source": [
    "\n",
    "class MoleculeDataset(Dataset):\n",
    "    def __init__(self, root, filename,good_data, bad_data, test=False, transform=None, pre_transform=None):\n",
    "        \"\"\"\n",
    "        root = Where the dataset should be stored. This folder is split\n",
    "        into raw_dir (downloaded dataset) and processed_dir (processed data). \n",
    "        \"\"\"\n",
    "        self.test = test\n",
    "        self.filename = filename\n",
    "        self.good_data=good_data\n",
    "        self.bad_data=bad_data\n",
    "        super(MoleculeDataset, self).__init__(root, transform, pre_transform)\n",
    "        self.data_passed=self.good_data+self.bad_data\n",
    "        \n",
    "    @property\n",
    "    def raw_file_names(self):\n",
    "        \"\"\" If this file exists in raw_dir, the download is not triggered.\n",
    "            (The download func. is not implemented here)  \n",
    "        \"\"\"\n",
    "        return [\"goodware_graphs.p\",\"malware_graphs.p\"]\n",
    "\n",
    "    @property\n",
    "    def processed_file_names(self):\n",
    "        \"\"\" If these files are found in raw_dir, processing is skipped\"\"\"\n",
    "#         self.data = self.data_passed\n",
    "        return \"NOt implemented yet\"\n",
    "\n",
    "        # if self.test:\n",
    "        #     return [f'data_test_{i}.pt' for i in list(self.data.index)]\n",
    "        # else:\n",
    "        #     return [f'data_{i}.pt' for i in list(self.data.index)]\n",
    "\n",
    "    def download(self):\n",
    "        pass\n",
    "\n",
    "    def process(self):\n",
    "#         self.data = self.data_passed\n",
    "        print(\"started doing stuff\")\n",
    "        index=0\n",
    "\n",
    "        for mol in (self.good_data):\n",
    "            \n",
    "\n",
    "            feature_data=mol[0]\n",
    "            neighbour_data=mol[1]\n",
    "\n",
    "            # i need to create inst ->index\n",
    "            instr_index=dict()\n",
    "            for a,b in enumerate(feature_data):\n",
    "              instr_index[b]=a \n",
    "\n",
    "            # Get node features\n",
    "            node_feats = self._get_node_features(feature_data,instr_index)\n",
    "            # Get edge features\n",
    "            edge_feats = self._get_edge_features(neighbour_data)\n",
    "#             edge_feats = []\n",
    "            # Get adjacency info\n",
    "            edge_index = self._get_adjacency_info(neighbour_data,instr_index)\n",
    "\n",
    "            # Get labels info\n",
    "            label = 1\n",
    "\n",
    "            # Create data object\n",
    "            data = Data(x=node_feats, \n",
    "                        edge_index=edge_index,\n",
    "                        edge_attr=edge_feats,\n",
    "                        y=label,\n",
    "                        smiles=mol\n",
    "                        ) \n",
    "                        \n",
    "            torch.save(data, \n",
    "                    os.path.join(self.processed_dir, \n",
    "                                 f'data_{index}.pt'))\n",
    "\n",
    "            index+=1\n",
    "        \n",
    "        for mol in (self.bad_data):\n",
    "            \n",
    "\n",
    "            feature_data=mol[0]\n",
    "            neighbour_data=mol[1]\n",
    "\n",
    "            # i need to create inst ->index\n",
    "            instr_index=dict()\n",
    "            for a,b in enumerate(feature_data):\n",
    "              instr_index[b]=a \n",
    "\n",
    "            # Get node features\n",
    "            node_feats = self._get_node_features(feature_data,instr_index)\n",
    "            # Get edge features\n",
    "            edge_feats = self._get_edge_features(neighbour_data)\n",
    "#             edge_feats = []\n",
    "            # Get adjacency info\n",
    "            edge_index = self._get_adjacency_info(neighbour_data,instr_index)\n",
    "\n",
    "            # Get labels info\n",
    "            label = 0\n",
    "\n",
    "            # Create data object\n",
    "            data = Data(x=node_feats, \n",
    "                        edge_index=edge_index,\n",
    "                        edge_attr=edge_feats,\n",
    "                        y=label,\n",
    "                        smiles=mol\n",
    "                        ) \n",
    "                        \n",
    "            torch.save(data, \n",
    "                    os.path.join(self.processed_dir, \n",
    "                                 f'data_{index}.pt'))\n",
    "\n",
    "            index+=1\n",
    "        \n",
    "        \n",
    "\n",
    "    def process_node_features(self,val, node_feature_menu):\n",
    "      # print(\"jj\")\n",
    "      # print(val)\n",
    "      node_out=[]\n",
    "      keys=val.keys()\n",
    "      for name in node_feature_menu : \n",
    "        if(name in keys):\n",
    "          node_out.append(val[name])\n",
    "        else:\n",
    "          node_out.append(0)\n",
    "      return node_out\n",
    "\n",
    "\n",
    "    def _get_node_features(self, node_features,instr_index):\n",
    "        \"\"\" \n",
    "        This will return a matrix / 2d array of the shape\n",
    "        [Number of Nodes, Node Feature size]\n",
    "        \"\"\"\n",
    "        node_feature_menu=['mov', 'call', 'lea', 'jmp', 'push', 'add', 'xor', 'cmp', 'int3', 'nop', 'pushl', 'dec', 'sub', 'insl', 'inc','jz', 'jnz', 'je', 'jne', 'ja', 'jna', 'js', 'jns', 'jl', 'jnl', 'jg', 'jng']\n",
    "\n",
    "        all_node_feats = []\n",
    "\n",
    "        for atom in node_features:\n",
    "            # print(\"atom is\",atom)\n",
    "            \n",
    "            node_feats = []\n",
    "            node_feats = self.process_node_features(node_features[atom],node_feature_menu)\n",
    "            # Append node features to matrix\n",
    "            all_node_feats.append(node_feats)\n",
    "\n",
    "        all_node_feats = np.asarray(all_node_feats)\n",
    "        return torch.tensor(all_node_feats, dtype=torch.float)\n",
    "\n",
    "    def _get_edge_features(self, mol):\n",
    "        \"\"\" \n",
    "        This will return a matrix / 2d array of the shape\n",
    "        [Number of edges, Edge Feature size]\n",
    "        \"\"\"\n",
    "        all_edge_feats = []\n",
    "\n",
    "        # for bond in mol.GetBonds():\n",
    "        #     edge_feats = []\n",
    "        #     # Feature 1: Bond type (as double)\n",
    "        #     edge_feats.append(bond.GetBondTypeAsDouble())\n",
    "        #     # Feature 2: Rings\n",
    "        #     edge_feats.append(bond.IsInRing())\n",
    "        #     # Append node features to matrix (twice, per direction)\n",
    "        #     all_edge_feats += [edge_feats, edge_feats]\n",
    "\n",
    "        all_edge_feats = np.asarray(all_edge_feats)\n",
    "        return torch.tensor(all_edge_feats, dtype=torch.float)\n",
    "\n",
    "    def get_one_instr_adjacency(self,val,instr_index,self_instruction_number):\n",
    "        edge_val=[]\n",
    "        for a in val:\n",
    "            edge_val+=[[instr_index[self_instruction_number],instr_index[a]]]\n",
    "\n",
    "        return edge_val\n",
    "\n",
    "    def _get_adjacency_info(self, mol, instr_index):\n",
    "        \"\"\"\n",
    "        We could also use rdmolops.GetAdjacencyMatrix(mol)\n",
    "        but we want to be sure that the order of the indices\n",
    "        matches the order of the edge features\n",
    "        \"\"\"\n",
    "        edge_indices = []\n",
    "        for bond in mol:\n",
    "            edge_indices += self.get_one_instr_adjacency(mol[bond],instr_index,bond)\n",
    "\n",
    "        edge_indices = torch.tensor(edge_indices)\n",
    "        edge_indices = edge_indices.t().to(torch.long).view(2, -1)\n",
    "        return edge_indices\n",
    "\n",
    "    def _get_labels(self, label):\n",
    "        label = np.asarray([label])\n",
    "        return torch.tensor(label, dtype=torch.int64)\n",
    "\n",
    "    def len(self):\n",
    "#         return self.data_pass.shape[0]\n",
    "        return len(self.data_passed)\n",
    "\n",
    "    def get(self, idx):\n",
    "        \"\"\" - Equivalent to __getitem__ in pytorch\n",
    "            - Is not needed for PyG's InMemoryDataset\n",
    "        \"\"\"\n",
    "        data = torch.load(os.path.join(self.processed_dir, \n",
    "                             f'data_{idx}.pt'))\n",
    "        return data\n",
    "\n",
    "\n",
    "\n"
   ]
  },
  {
   "cell_type": "code",
   "execution_count": 13,
   "id": "9fbe3557",
   "metadata": {},
   "outputs": [
    {
     "name": "stderr",
     "output_type": "stream",
     "text": [
      "Processing...\n"
     ]
    },
    {
     "name": "stdout",
     "output_type": "stream",
     "text": [
      "started doing stuff\n"
     ]
    },
    {
     "name": "stderr",
     "output_type": "stream",
     "text": [
      "Done!\n"
     ]
    }
   ],
   "source": [
    "train_dataset = MoleculeDataset(root=\"data/\", filename=\"goodware_graphs.p\", good_data=good_data, bad_data=bad_data)"
   ]
  },
  {
   "cell_type": "code",
   "execution_count": 14,
   "id": "b859ca93",
   "metadata": {},
   "outputs": [],
   "source": [
    "test_cut_dataset=train_dataset[526:566]\n",
    "train_cut_dataset= train_dataset[:526]+train_dataset[566:]"
   ]
  },
  {
   "cell_type": "code",
   "execution_count": 41,
   "id": "c5f8dbe6",
   "metadata": {},
   "outputs": [
    {
     "name": "stderr",
     "output_type": "stream",
     "text": [
      "D:\\Anaconda3\\envs\\pytorch\\lib\\site-packages\\torch_geometric\\deprecation.py:12: UserWarning: 'data.DataLoader' is deprecated, use 'loader.DataLoader' instead\n",
      "  warnings.warn(out)\n"
     ]
    }
   ],
   "source": [
    "from torch_geometric.data import DataLoader\n",
    "\n",
    "#%% Prepare training\n",
    "NUM_GRAPHS_PER_BATCH = 10\n",
    "# NUM_GRAPHS_PER_BATCH = 1\n",
    "\n",
    "train_loader = DataLoader(train_cut_dataset, \n",
    "                    batch_size=NUM_GRAPHS_PER_BATCH, shuffle=True,\n",
    "                         num_workers=0)\n",
    "# test_loader = DataLoader(test_dataset, \n",
    "#                          batch_size=NUM_GRAPHS_PER_BATCH, shuffle=True)\n",
    "test_loader = DataLoader(test_cut_dataset, \n",
    "                    batch_size=NUM_GRAPHS_PER_BATCH, shuffle=True)\n"
   ]
  },
  {
   "cell_type": "markdown",
   "id": "289a1087",
   "metadata": {},
   "source": [
    "## MODEL"
   ]
  },
  {
   "cell_type": "code",
   "execution_count": 141,
   "id": "69ffcaeb",
   "metadata": {},
   "outputs": [],
   "source": [
    "import torch\n",
    "import torch.nn.functional as F \n",
    "from torch.nn import Sequential, Linear, BatchNorm1d, ReLU\n",
    "from torch_geometric.nn import TransformerConv, GATConv, TopKPooling, BatchNorm\n",
    "from torch_geometric.nn import global_mean_pool as gap, global_max_pool as gmp\n",
    "from torch_geometric.nn.conv.x_conv import XConv\n",
    "# torch.manual_seed(42)\n",
    "\n",
    "class GNN(torch.nn.Module):\n",
    "    def __init__(self, feature_size):\n",
    "        super(GNN, self).__init__()\n",
    "        num_classes = 2\n",
    "        embedding_size = 256\n",
    "\n",
    "        # GNN layers\n",
    "        self.conv1 = GATConv(feature_size, embedding_size, heads=3, dropout=0.3)\n",
    "        self.head_transform1 = Linear(embedding_size*3, embedding_size)\n",
    "        self.pool1 = TopKPooling(embedding_size, ratio=0.8)\n",
    "        self.conv2 = GATConv(embedding_size, embedding_size, heads=3, dropout=0.3)\n",
    "        self.head_transform2 = Linear(embedding_size*3, embedding_size)\n",
    "        self.pool2 = TopKPooling(embedding_size, ratio=0.5)\n",
    "        self.conv3 = GATConv(embedding_size, embedding_size, heads=3, dropout=0.3)\n",
    "        self.head_transform3 = Linear(embedding_size*3, embedding_size)\n",
    "        self.pool3 = TopKPooling(embedding_size, ratio=0.2)\n",
    "\n",
    "        # # Linear layers\n",
    "        # self.linear1 = Linear(embedding_size*2, 1024)\n",
    "        # self.linear2 = Linear(1024, 512)\n",
    "        # self.linear3 = Linear(512, num_classes)  \n",
    "\n",
    "            # Linear layers\n",
    "        self.linear1 = Linear(embedding_size*2, 1024)\n",
    "        self.linear2 = Linear(1024 , 512)  \n",
    "        self.linear3 = Linear(512, 128)  \n",
    "        self.linear4 = Linear(128, num_classes)  \n",
    "\n",
    "    def forward(self, x, edge_attr, edge_index, batch_index):\n",
    "        # First block\n",
    "        x = self.conv1(x, edge_index)\n",
    "        x = self.head_transform1(x)\n",
    "\n",
    "        x, edge_index, edge_attr, batch_index, _, _ = self.pool1(x, \n",
    "                                                        edge_index, \n",
    "                                                        None, \n",
    "                                                        batch_index)\n",
    "        x1 = torch.cat([gmp(x, batch_index), gap(x, batch_index)], dim=1)\n",
    "\n",
    "        # Second block\n",
    "        x = self.conv2(x, edge_index)\n",
    "        x = self.head_transform2(x)\n",
    "        x, edge_index, edge_attr, batch_index, _, _ = self.pool2(x, \n",
    "                                                        edge_index, \n",
    "                                                        None, \n",
    "                                                        batch_index)\n",
    "        x2 = torch.cat([gmp(x, batch_index), gap(x, batch_index)], dim=1)\n",
    "\n",
    "        # Third block\n",
    "        x = self.conv3(x, edge_index)\n",
    "        x = self.head_transform3(x)\n",
    "        x, edge_index, edge_attr, batch_index, _, _ = self.pool3(x, \n",
    "                                                        edge_index, \n",
    "                                                        None, \n",
    "                                                        batch_index)\n",
    "        x3 = torch.cat([gmp(x, batch_index), gap(x, batch_index)], dim=1)\n",
    "\n",
    "        # Concat pooled vectors\n",
    "        x = x1 + x2 + x3\n",
    "\n",
    "        # Output block\n",
    "        # x = self.linear1(x).relu()\n",
    "        # x = F.dropout(x, p=0.15, training=self.training)\n",
    "        # x = self.linear2(x)\n",
    "        # x = F.dropout(x, p=0.15, training=self.training)\n",
    "        # x = self.linear3(x)\n",
    "\n",
    "\n",
    "        x = self.linear1(x).relu()\n",
    "        x = F.dropout(x, p=0.15, training=self.training)\n",
    "        x = self.linear2(x)\n",
    "        # x = F.dropout(x, p=0.15, training=self.training)\n",
    "        x = self.linear3(x)\n",
    "        x = F.dropout(x, p=0.15, training=self.training)\n",
    "        x = self.linear4(x)\n",
    "\n",
    "         \n",
    "        #         # Linear layers\n",
    "        # self.linear1 = Linear(embedding_size*2, 1024)\n",
    "        # x = F.dropout(x, p=0.15, training=self.training)\n",
    "        # self.linear2 = Linear(1024 , 512)  \n",
    "        # x = F.dropout(x, p=0.15, training=self.training)\n",
    "        # self.linear3 = Linear(512, 128)  \n",
    "        # x = F.dropout(x, p=0.15, training=self.training)\n",
    "        # self.linear4 = Linear(128, num_classes)  \n",
    "\n",
    "        return x\n"
   ]
  },
  {
   "cell_type": "code",
   "execution_count": 142,
   "id": "ccdbe958",
   "metadata": {},
   "outputs": [],
   "source": [
    "import torch \n",
    "from torch_geometric.data import DataLoader\n",
    "from sklearn.metrics import confusion_matrix, f1_score, \\\n",
    "    accuracy_score, precision_score, recall_score, roc_auc_score\n",
    "import numpy as np\n",
    "from tqdm import tqdm\n",
    "import mlflow.pytorch\n",
    "device = torch.device(\"cuda:0\" if torch.cuda.is_available() else \"cpu\")\n",
    "\n",
    "def count_parameters(model):\n",
    "    return sum(p.numel() for p in model.parameters() if p.requires_grad)"
   ]
  },
  {
   "cell_type": "code",
   "execution_count": 143,
   "id": "10927db6",
   "metadata": {},
   "outputs": [
    {
     "name": "stdout",
     "output_type": "stream",
     "text": [
      "Number of parameters: 2128258\n"
     ]
    },
    {
     "data": {
      "text/plain": [
       "GNN(\n",
       "  (conv1): GATConv(27, 256, heads=3)\n",
       "  (head_transform1): Linear(in_features=768, out_features=256, bias=True)\n",
       "  (pool1): TopKPooling(256, ratio=0.8, multiplier=1.0)\n",
       "  (conv2): GATConv(256, 256, heads=3)\n",
       "  (head_transform2): Linear(in_features=768, out_features=256, bias=True)\n",
       "  (pool2): TopKPooling(256, ratio=0.5, multiplier=1.0)\n",
       "  (conv3): GATConv(256, 256, heads=3)\n",
       "  (head_transform3): Linear(in_features=768, out_features=256, bias=True)\n",
       "  (pool3): TopKPooling(256, ratio=0.2, multiplier=1.0)\n",
       "  (linear1): Linear(in_features=512, out_features=1024, bias=True)\n",
       "  (linear2): Linear(in_features=1024, out_features=512, bias=True)\n",
       "  (linear3): Linear(in_features=512, out_features=128, bias=True)\n",
       "  (linear4): Linear(in_features=128, out_features=2, bias=True)\n",
       ")"
      ]
     },
     "execution_count": 143,
     "metadata": {},
     "output_type": "execute_result"
    }
   ],
   "source": [
    "#%% Loading the model\n",
    "model = GNN(feature_size=train_dataset[0].x.shape[1]) \n",
    "model = model.to(device)\n",
    "print(f\"Number of parameters: {count_parameters(model)}\")\n",
    "model"
   ]
  },
  {
   "cell_type": "code",
   "execution_count": 156,
   "id": "9addbbb3",
   "metadata": {},
   "outputs": [],
   "source": [
    "#%% Loss and Optimizer\n",
    "# original loss\n",
    "weights = torch.tensor([1, 1.2], dtype=torch.float32).to(device)\n",
    "loss_fn = torch.nn.CrossEntropyLoss(weight=weights)\n",
    "\n",
    "# loss in the second gnn\n",
    "# weight  = torch.tensor([1.3], dtype=torch.float32).to(device)\n",
    "# loss_fn = torch.nn.BCEWithLogitsLoss(pos_weight=weight)\n",
    "\n",
    "\n",
    "# optimizer = torch.optim.SGD(model.parameters(), lr=0.01, momentum=0.8)  \n",
    "# optimizer = torch.optim.Adam(model.parameters(),lr=0.0005,betas=(0.9,0.999),eps=1e-08,weight_decay=0,amsgrad=False)\n",
    "optimizer = torch.optim.Adam(model.parameters(), lr=0.0001, betas=(0.9, 0.999), eps=1e-08, weight_decay=0.2, amsgrad=True)\n",
    "scheduler = torch.optim.lr_scheduler.ExponentialLR(optimizer, gamma=0.08)\n"
   ]
  },
  {
   "cell_type": "code",
   "execution_count": 157,
   "id": "2e5e0696",
   "metadata": {},
   "outputs": [],
   "source": [
    "optimizer.zero_grad()        \n",
    "# loss, hidden = model(data, hidden, targets)\n",
    "# loss.backward()\n",
    "clip_value=8\n",
    "torch.nn.utils.clip_grad_norm_(model.parameters(), clip_value)\n",
    "optimizer.step()"
   ]
  },
  {
   "cell_type": "code",
   "execution_count": 158,
   "id": "9689160d",
   "metadata": {},
   "outputs": [],
   "source": [
    "def test(epoch):\n",
    "    all_preds = []\n",
    "    all_labels = []\n",
    "    for batch in test_loader:\n",
    "        batch.to(device)  \n",
    "        pred = model(batch.x.float(), \n",
    "                        batch.edge_attr.float(),\n",
    "                        batch.edge_index, \n",
    "                        batch.batch) \n",
    "        loss = torch.sqrt(loss_fn(pred, batch.y))    \n",
    "        all_preds.append(np.argmax(pred.cpu().detach().numpy(), axis=1))\n",
    "        all_labels.append(batch.y.cpu().detach().numpy())\n",
    "\n",
    "    all_preds = np.concatenate(all_preds).ravel()\n",
    "    all_labels = np.concatenate(all_labels).ravel()\n",
    "    calculate_metrics(all_preds, all_labels, epoch, \"test\")\n",
    "    return loss\n",
    "\n",
    "\n",
    "def calculate_metrics(y_pred, y_true, epoch, type):\n",
    "    print(f\"\\n Confusion matrix: \\n {confusion_matrix(y_pred, y_true)}\")\n",
    "    print(f\"F1 Score: {f1_score(y_pred, y_true)}\")\n",
    "    print(f\"Accuracy: {accuracy_score(y_pred, y_true)}\")\n",
    "    print(f\"Precision: {precision_score(y_pred, y_true)}\")\n",
    "    print(f\"Recall: {recall_score(y_pred, y_true)}\")\n",
    "    try:\n",
    "        roc = roc_auc_score(y_pred, y_true)\n",
    "        print(f\"ROC AUC: {roc}\")\n",
    "        mlflow.log_metric(key=f\"ROC-AUC-{type}\", value=float(roc), step=epoch)\n",
    "    except:\n",
    "        mlflow.log_metric(key=f\"ROC-AUC-{type}\", value=float(0), step=epoch)\n",
    "        print(f\"ROC AUC: notdefined\")\n",
    "        \n",
    "    try:\n",
    "        mlflow.log_metric(key=f\"accuracy-{type}\", value=float(accuracy_score(y_pred, y_true)), step=epoch)\n",
    "    except:\n",
    "        mlflow.log_metric(key=f\"ROC-AUC-{type}\", value=float(0), step=epoch)\n",
    "        print(f\"Accuracy: notdefined\")"
   ]
  },
  {
   "cell_type": "code",
   "execution_count": 159,
   "id": "e09eaccc",
   "metadata": {},
   "outputs": [],
   "source": [
    "\n",
    "def train(epoch):\n",
    "    # Enumerate over the data\n",
    "    all_preds = []\n",
    "    all_labels = []\n",
    "    for _, batch in enumerate(tqdm(train_loader)):\n",
    "        # Use GPU\n",
    "        batch.to(device)  \n",
    "        # Reset gradients\n",
    "\n",
    "        optimizer.zero_grad() \n",
    "        # Passing the node features and the connection info\n",
    "        pred = model(batch.x.float(), \n",
    "                                batch.edge_attr.float(),\n",
    "                                batch.edge_index, \n",
    "                                batch.batch) \n",
    "        # Calculating the loss and gradients\n",
    "#         loss = torch.sqrt(loss_fn(pred, batch.y)) \n",
    "        loss_v1 = loss_fn(pred, batch.y) \n",
    "        loss_v2=torch.sqrt(loss_v1)\n",
    "#         print(\"batch.y\")\n",
    "#         print(batch.y)\n",
    "        \n",
    "#         print(\"pred\")\n",
    "#         print(pred)\n",
    "        \n",
    "#         print(\"loss_v1\")\n",
    "#         print(loss_v1)\n",
    "#         print(\"loss_v2\")\n",
    "#         print(loss_v2)\n",
    "        \n",
    "        loss=loss_v2\n",
    "        loss.backward()  \n",
    "        \n",
    "        # this is the additional clipping\n",
    "        torch.nn.utils.clip_grad_value_(model.parameters(), clip_value=7.0)\n",
    "        \n",
    "        \n",
    "        # Update using the gradients\n",
    "        optimizer.step()  \n",
    "\n",
    "\n",
    "        all_preds.append(np.argmax(pred.cpu().detach().numpy(), axis=1))\n",
    "        all_labels.append(batch.y.cpu().detach().numpy())\n",
    "    all_preds = np.concatenate(all_preds).ravel()\n",
    "    all_labels = np.concatenate(all_labels).ravel()\n",
    "    calculate_metrics(all_preds, all_labels, epoch, \"train\")\n",
    "    return loss\n",
    "\n",
    "\n"
   ]
  },
  {
   "cell_type": "code",
   "execution_count": 160,
   "id": "ac796c4b",
   "metadata": {},
   "outputs": [
    {
     "name": "stderr",
     "output_type": "stream",
     "text": [
      "100%|██████████| 133/133 [00:45<00:00,  2.91it/s]\n"
     ]
    },
    {
     "name": "stdout",
     "output_type": "stream",
     "text": [
      "\n",
      " Confusion matrix: \n",
      " [[743 403]\n",
      " [ 52 123]]\n",
      "F1 Score: 0.3509272467902996\n",
      "Accuracy: 0.6555639666919001\n",
      "Precision: 0.2338403041825095\n",
      "Recall: 0.7028571428571428\n",
      "ROC AUC: 0.6755996010969834\n",
      "Epoch 0 | Train Loss 0.4792582094669342\n"
     ]
    },
    {
     "name": "stderr",
     "output_type": "stream",
     "text": [
      "100%|██████████| 133/133 [00:33<00:00,  3.95it/s]\n"
     ]
    },
    {
     "name": "stdout",
     "output_type": "stream",
     "text": [
      "\n",
      " Confusion matrix: \n",
      " [[730 342]\n",
      " [ 65 184]]\n",
      "F1 Score: 0.47483870967741937\n",
      "Accuracy: 0.691900075700227\n",
      "Precision: 0.34980988593155893\n",
      "Recall: 0.7389558232931727\n",
      "ROC AUC: 0.709962986273452\n",
      "Epoch 1 | Train Loss 0.9715961813926697\n"
     ]
    },
    {
     "name": "stderr",
     "output_type": "stream",
     "text": [
      "100%|██████████| 133/133 [00:53<00:00,  2.48it/s]\n"
     ]
    },
    {
     "name": "stdout",
     "output_type": "stream",
     "text": [
      "\n",
      " Confusion matrix: \n",
      " [[719 300]\n",
      " [ 76 226]]\n",
      "F1 Score: 0.5458937198067633\n",
      "Accuracy: 0.7153671461014383\n",
      "Precision: 0.4296577946768061\n",
      "Recall: 0.7483443708609272\n",
      "ROC AUC: 0.7269690450968032\n",
      "Epoch 2 | Train Loss 0.5177447199821472\n"
     ]
    },
    {
     "name": "stderr",
     "output_type": "stream",
     "text": [
      "100%|██████████| 133/133 [00:59<00:00,  2.22it/s]\n"
     ]
    },
    {
     "name": "stdout",
     "output_type": "stream",
     "text": [
      "\n",
      " Confusion matrix: \n",
      " [[729 303]\n",
      " [ 66 223]]\n",
      "F1 Score: 0.547239263803681\n",
      "Accuracy: 0.720666161998486\n",
      "Precision: 0.42395437262357416\n",
      "Recall: 0.7716262975778547\n",
      "ROC AUC: 0.739010823207532\n",
      "Epoch 3 | Train Loss 0.8986408710479736\n"
     ]
    },
    {
     "name": "stderr",
     "output_type": "stream",
     "text": [
      "100%|██████████| 133/133 [00:42<00:00,  3.12it/s]\n"
     ]
    },
    {
     "name": "stdout",
     "output_type": "stream",
     "text": [
      "\n",
      " Confusion matrix: \n",
      " [[717 302]\n",
      " [ 78 224]]\n",
      "F1 Score: 0.5410628019323672\n",
      "Accuracy: 0.712339137017411\n",
      "Precision: 0.42585551330798477\n",
      "Recall: 0.7417218543046358\n",
      "ROC AUC: 0.7226764325497664\n",
      "Epoch 4 | Train Loss 0.8229638934135437\n"
     ]
    },
    {
     "name": "stderr",
     "output_type": "stream",
     "text": [
      "100%|██████████| 133/133 [00:33<00:00,  3.93it/s]\n"
     ]
    },
    {
     "name": "stdout",
     "output_type": "stream",
     "text": [
      "\n",
      " Confusion matrix: \n",
      " [[731 320]\n",
      " [ 64 206]]\n",
      "F1 Score: 0.5175879396984925\n",
      "Accuracy: 0.7093111279333838\n",
      "Precision: 0.3916349809885932\n",
      "Recall: 0.762962962962963\n",
      "ROC AUC: 0.7292455157345739\n",
      "Epoch 5 | Train Loss 0.8032897114753723\n"
     ]
    },
    {
     "name": "stderr",
     "output_type": "stream",
     "text": [
      "100%|██████████| 133/133 [00:33<00:00,  3.98it/s]\n"
     ]
    },
    {
     "name": "stdout",
     "output_type": "stream",
     "text": [
      "\n",
      " Confusion matrix: \n",
      " [[728 301]\n",
      " [ 67 225]]\n",
      "F1 Score: 0.550122249388753\n",
      "Accuracy: 0.7214231642694928\n",
      "Precision: 0.42775665399239543\n",
      "Recall: 0.7705479452054794\n",
      "ROC AUC: 0.7390154692013792\n",
      "Epoch 6 | Train Loss 0.8292394280433655\n"
     ]
    },
    {
     "name": "stderr",
     "output_type": "stream",
     "text": [
      "100%|██████████| 133/133 [00:33<00:00,  3.97it/s]\n"
     ]
    },
    {
     "name": "stdout",
     "output_type": "stream",
     "text": [
      "\n",
      " Confusion matrix: \n",
      " [[718 301]\n",
      " [ 77 225]]\n",
      "F1 Score: 0.5434782608695652\n",
      "Accuracy: 0.7138531415594247\n",
      "Precision: 0.42775665399239543\n",
      "Recall: 0.7450331125827815\n",
      "ROC AUC: 0.7248227388232849\n",
      "Epoch 7 | Train Loss 0.7253431677818298\n"
     ]
    },
    {
     "name": "stderr",
     "output_type": "stream",
     "text": [
      "100%|██████████| 133/133 [00:34<00:00,  3.82it/s]\n"
     ]
    },
    {
     "name": "stdout",
     "output_type": "stream",
     "text": [
      "\n",
      " Confusion matrix: \n",
      " [[729 302]\n",
      " [ 66 224]]\n",
      "F1 Score: 0.5490196078431372\n",
      "Accuracy: 0.7214231642694928\n",
      "Precision: 0.42585551330798477\n",
      "Recall: 0.7724137931034483\n",
      "ROC AUC: 0.7397471487340714\n",
      "Epoch 8 | Train Loss 1.3459547758102417\n"
     ]
    },
    {
     "name": "stderr",
     "output_type": "stream",
     "text": [
      "100%|██████████| 133/133 [00:33<00:00,  3.91it/s]\n"
     ]
    },
    {
     "name": "stdout",
     "output_type": "stream",
     "text": [
      "\n",
      " Confusion matrix: \n",
      " [[719 319]\n",
      " [ 76 207]]\n",
      "F1 Score: 0.511742892459827\n",
      "Accuracy: 0.7009841029523088\n",
      "Precision: 0.3935361216730038\n",
      "Recall: 0.7314487632508834\n",
      "ROC AUC: 0.7120634953055958\n",
      "Epoch 9 | Train Loss 0.8687307834625244\n"
     ]
    },
    {
     "name": "stderr",
     "output_type": "stream",
     "text": [
      "100%|██████████| 133/133 [00:51<00:00,  2.59it/s]\n"
     ]
    },
    {
     "name": "stdout",
     "output_type": "stream",
     "text": [
      "\n",
      " Confusion matrix: \n",
      " [[724 317]\n",
      " [ 71 209]]\n",
      "F1 Score: 0.5186104218362283\n",
      "Accuracy: 0.7062831188493566\n",
      "Precision: 0.3973384030418251\n",
      "Recall: 0.7464285714285714\n",
      "ROC AUC: 0.7209568409496363\n",
      "Epoch 10 | Train Loss 0.1702430695295334\n",
      "\n",
      " Confusion matrix: \n",
      " [[17  4]\n",
      " [ 3 16]]\n",
      "F1 Score: 0.8205128205128205\n",
      "Accuracy: 0.825\n",
      "Precision: 0.8\n",
      "Recall: 0.8421052631578947\n",
      "ROC AUC: 0.8258145363408521\n",
      "Epoch 10 | Test Loss 0.8134586215019226\n"
     ]
    },
    {
     "name": "stderr",
     "output_type": "stream",
     "text": [
      "100%|██████████| 133/133 [00:33<00:00,  4.01it/s]\n"
     ]
    },
    {
     "name": "stdout",
     "output_type": "stream",
     "text": [
      "\n",
      " Confusion matrix: \n",
      " [[727 320]\n",
      " [ 68 206]]\n",
      "F1 Score: 0.515\n",
      "Accuracy: 0.7062831188493566\n",
      "Precision: 0.3916349809885932\n",
      "Recall: 0.7518248175182481\n",
      "ROC AUC: 0.7230948347381116\n",
      "Epoch 11 | Train Loss 0.9662371873855591\n"
     ]
    },
    {
     "name": "stderr",
     "output_type": "stream",
     "text": [
      "100%|██████████| 133/133 [00:33<00:00,  3.95it/s]\n"
     ]
    },
    {
     "name": "stdout",
     "output_type": "stream",
     "text": [
      "\n",
      " Confusion matrix: \n",
      " [[717 316]\n",
      " [ 78 210]]\n",
      "F1 Score: 0.515970515970516\n",
      "Accuracy: 0.7017411052233157\n",
      "Precision: 0.39923954372623577\n",
      "Recall: 0.7291666666666666\n",
      "ROC AUC: 0.7116307679896741\n",
      "Epoch 12 | Train Loss 0.8019226789474487\n"
     ]
    },
    {
     "name": "stderr",
     "output_type": "stream",
     "text": [
      "100%|██████████| 133/133 [00:33<00:00,  4.02it/s]\n"
     ]
    },
    {
     "name": "stdout",
     "output_type": "stream",
     "text": [
      "\n",
      " Confusion matrix: \n",
      " [[716 307]\n",
      " [ 79 219]]\n",
      "F1 Score: 0.5315533980582524\n",
      "Accuracy: 0.7077971233913701\n",
      "Precision: 0.41634980988593157\n",
      "Recall: 0.7348993288590604\n",
      "ROC AUC: 0.7174007885742029\n",
      "Epoch 13 | Train Loss 0.8045046925544739\n"
     ]
    },
    {
     "name": "stderr",
     "output_type": "stream",
     "text": [
      "100%|██████████| 133/133 [00:32<00:00,  4.08it/s]"
     ]
    },
    {
     "name": "stdout",
     "output_type": "stream",
     "text": [
      "\n",
      " Confusion matrix: \n",
      " [[722 303]\n",
      " [ 73 223]]\n",
      "F1 Score: 0.5425790754257909\n",
      "Accuracy: 0.7153671461014383\n",
      "Precision: 0.42395437262357416\n",
      "Recall: 0.7533783783783784\n",
      "ROC AUC: 0.7288843111404087\n",
      "Epoch 14 | Train Loss 0.8337322473526001\n",
      "Done.\n"
     ]
    },
    {
     "name": "stderr",
     "output_type": "stream",
     "text": [
      "\n"
     ]
    }
   ],
   "source": [
    "\n",
    "# %% Run the training\n",
    "with mlflow.start_run() as run:\n",
    "    for epoch in range(15):\n",
    "        # Training\n",
    "        model.train()\n",
    "        loss = train(epoch=epoch)\n",
    "        loss = loss.detach().cpu().numpy()\n",
    "        print(f\"Epoch {epoch} | Train Loss {loss}\")\n",
    "        mlflow.log_metric(key=\"Train loss\", value=float(loss), step=epoch)\n",
    "\n",
    "        # Testing\n",
    "        model.eval()\n",
    "        if epoch % 10 == 0 and epoch !=0:\n",
    "            loss = test(epoch=epoch)\n",
    "            loss = loss.detach().cpu().numpy()\n",
    "            print(f\"Epoch {epoch} | Test Loss {loss}\")\n",
    "            mlflow.log_metric(key=\"Test loss\", value=float(loss), step=epoch)\n",
    "\n",
    "        scheduler.step()\n",
    "print(\"Done.\")\n",
    "\n"
   ]
  },
  {
   "cell_type": "code",
   "execution_count": 161,
   "id": "591d41e9",
   "metadata": {},
   "outputs": [],
   "source": [
    "mlflow.end_run()"
   ]
  },
  {
   "cell_type": "code",
   "execution_count": 162,
   "id": "92973361",
   "metadata": {},
   "outputs": [
    {
     "name": "stderr",
     "output_type": "stream",
     "text": [
      "2022/04/24 01:05:41 WARNING mlflow.utils.environment: Encountered an unexpected error while inferring pip requirements (model URI: C:\\Users\\JERRYJ~1\\AppData\\Local\\Temp\\tmpgpyxzfkq\\model\\data, flavor: pytorch), fall back to return ['torch==1.11.0', 'cloudpickle==2.0.0']. Set logging level to DEBUG to see the full traceback.\n"
     ]
    },
    {
     "data": {
      "text/plain": [
       "ModelInfo(artifact_path='model', flavors={'pytorch': {'model_data': 'data', 'pytorch_version': '1.11.0', 'code': None}, 'python_function': {'pickle_module_name': 'mlflow.pytorch.pickle_module', 'loader_module': 'mlflow.pytorch', 'python_version': '3.9.12', 'data': 'data', 'env': 'conda.yaml'}}, model_uri='runs:/d00705dd2ca048e384b8e48c1b67db7a/model', model_uuid='33ae701a20bd486395b3642730be505d', run_id='d00705dd2ca048e384b8e48c1b67db7a', saved_input_example_info=None, signature_dict=None, utc_time_created='2022-04-23 19:35:40.127740', mlflow_version='1.25.1')"
      ]
     },
     "execution_count": 162,
     "metadata": {},
     "output_type": "execute_result"
    }
   ],
   "source": [
    "\n",
    "# %% Save the model \n",
    "mlflow.pytorch.log_model(model, \"model\") "
   ]
  },
  {
   "cell_type": "markdown",
   "id": "4cf9e10b",
   "metadata": {},
   "source": [
    "Confusion Matrix"
   ]
  },
  {
   "cell_type": "markdown",
   "id": "6cbe88f2",
   "metadata": {},
   "source": [
    "![asd](data:image/png;base64,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)"
   ]
  },
  {
   "cell_type": "code",
   "execution_count": 163,
   "id": "16f4bd49",
   "metadata": {},
   "outputs": [],
   "source": [
    "model_type_name=\"crazy_adam_nightout\""
   ]
  },
  {
   "cell_type": "code",
   "execution_count": 164,
   "id": "e8d30cd3",
   "metadata": {},
   "outputs": [],
   "source": [
    "from datetime import date\n",
    "from datetime import datetime\n"
   ]
  },
  {
   "cell_type": "code",
   "execution_count": 165,
   "id": "abb55567",
   "metadata": {},
   "outputs": [],
   "source": [
    "# SAVE MODEL\n",
    "#  pls create a folder named model_saved if not there\n",
    "now = datetime.now()\n",
    "dt_string = now.strftime(\"%d_%m_%Y %H_%M_%S\")\n",
    "PATH_to_save_model=\"model_saved/\"+\"model_\"+dt_string+\":\"+model_type_name+\".pt\"\n",
    "PATH_to_save_model=\"model_saved/model \"+dt_string+model_type_name+\".pt\"\n",
    "torch.save(model, PATH_to_save_model)"
   ]
  },
  {
   "cell_type": "code",
   "execution_count": 166,
   "id": "262852dd",
   "metadata": {},
   "outputs": [],
   "source": [
    "# # Model class must be defined somewhere\n",
    "# model2 = torch.load(PATH_to_save_model)\n",
    "# model2.eval()"
   ]
  },
  {
   "cell_type": "code",
   "execution_count": 140,
   "id": "4f15e291",
   "metadata": {},
   "outputs": [
    {
     "data": {
      "text/plain": [
       "'model_saved/model 24_04_2022 00_47_21crazy_adam_acc66.pt'"
      ]
     },
     "execution_count": 140,
     "metadata": {},
     "output_type": "execute_result"
    }
   ],
   "source": [
    "PATH_to_save_model"
   ]
  },
  {
   "cell_type": "code",
   "execution_count": 168,
   "id": "59bf2d6d",
   "metadata": {},
   "outputs": [],
   "source": [
    "mlflow.end_run()"
   ]
  },
  {
   "cell_type": "code",
   "execution_count": 169,
   "id": "04dbf9e0",
   "metadata": {},
   "outputs": [
    {
     "name": "stderr",
     "output_type": "stream",
     "text": [
      "100%|██████████| 133/133 [00:43<00:00,  3.06it/s]\n"
     ]
    },
    {
     "name": "stdout",
     "output_type": "stream",
     "text": [
      "\n",
      " Confusion matrix: \n",
      " [[726 305]\n",
      " [ 69 221]]\n",
      "F1 Score: 0.5416666666666666\n",
      "Accuracy: 0.7168811506434519\n",
      "Precision: 0.42015209125475284\n",
      "Recall: 0.7620689655172413\n",
      "ROC AUC: 0.733119836783839\n",
      "Epoch 0 | Train Loss 0.7432159185409546\n"
     ]
    },
    {
     "name": "stderr",
     "output_type": "stream",
     "text": [
      "100%|██████████| 133/133 [00:32<00:00,  4.12it/s]\n"
     ]
    },
    {
     "name": "stdout",
     "output_type": "stream",
     "text": [
      "\n",
      " Confusion matrix: \n",
      " [[727 304]\n",
      " [ 68 222]]\n",
      "F1 Score: 0.5441176470588236\n",
      "Accuracy: 0.7183951551854656\n",
      "Precision: 0.4220532319391635\n",
      "Recall: 0.7655172413793103\n",
      "ROC AUC: 0.7353289407672498\n",
      "Epoch 1 | Train Loss 0.8459171056747437\n"
     ]
    },
    {
     "name": "stderr",
     "output_type": "stream",
     "text": [
      "100%|██████████| 133/133 [00:32<00:00,  4.07it/s]\n"
     ]
    },
    {
     "name": "stdout",
     "output_type": "stream",
     "text": [
      "\n",
      " Confusion matrix: \n",
      " [[716 310]\n",
      " [ 79 216]]\n",
      "F1 Score: 0.5261875761266749\n",
      "Accuracy: 0.7055261165783497\n",
      "Precision: 0.41064638783269963\n",
      "Recall: 0.7322033898305085\n",
      "ROC AUC: 0.715029570158919\n",
      "Epoch 2 | Train Loss 0.6263079643249512\n"
     ]
    },
    {
     "name": "stderr",
     "output_type": "stream",
     "text": [
      "100%|██████████| 133/133 [00:34<00:00,  3.87it/s]\n"
     ]
    },
    {
     "name": "stdout",
     "output_type": "stream",
     "text": [
      "\n",
      " Confusion matrix: \n",
      " [[722 298]\n",
      " [ 73 228]]\n",
      "F1 Score: 0.5513905683192261\n",
      "Accuracy: 0.7191521574564723\n",
      "Precision: 0.43346007604562736\n",
      "Recall: 0.7574750830564784\n",
      "ROC AUC: 0.7326591101556901\n",
      "Epoch 3 | Train Loss 0.8077403903007507\n"
     ]
    },
    {
     "name": "stderr",
     "output_type": "stream",
     "text": [
      "100%|██████████| 133/133 [00:33<00:00,  4.00it/s]\n"
     ]
    },
    {
     "name": "stdout",
     "output_type": "stream",
     "text": [
      "\n",
      " Confusion matrix: \n",
      " [[722 319]\n",
      " [ 73 207]]\n",
      "F1 Score: 0.5136476426799008\n",
      "Accuracy: 0.7032551097653293\n",
      "Precision: 0.3935361216730038\n",
      "Recall: 0.7392857142857143\n",
      "ROC AUC: 0.71642479758474\n",
      "Epoch 4 | Train Loss 0.8062477707862854\n"
     ]
    },
    {
     "name": "stderr",
     "output_type": "stream",
     "text": [
      "100%|██████████| 133/133 [00:33<00:00,  3.98it/s]\n"
     ]
    },
    {
     "name": "stdout",
     "output_type": "stream",
     "text": [
      "\n",
      " Confusion matrix: \n",
      " [[726 299]\n",
      " [ 69 227]]\n",
      "F1 Score: 0.5523114355231143\n",
      "Accuracy: 0.7214231642694928\n",
      "Precision: 0.43155893536121676\n",
      "Recall: 0.7668918918918919\n",
      "ROC AUC: 0.7375922874093604\n",
      "Epoch 5 | Train Loss 0.8313508629798889\n"
     ]
    },
    {
     "name": "stderr",
     "output_type": "stream",
     "text": [
      "100%|██████████| 133/133 [00:33<00:00,  4.02it/s]\n"
     ]
    },
    {
     "name": "stdout",
     "output_type": "stream",
     "text": [
      "\n",
      " Confusion matrix: \n",
      " [[721 319]\n",
      " [ 74 207]]\n",
      "F1 Score: 0.5130111524163569\n",
      "Accuracy: 0.7024981074943225\n",
      "Precision: 0.3935361216730038\n",
      "Recall: 0.7366548042704626\n",
      "ROC AUC: 0.7149620175198467\n",
      "Epoch 6 | Train Loss 0.7400742173194885\n"
     ]
    },
    {
     "name": "stderr",
     "output_type": "stream",
     "text": [
      "100%|██████████| 133/133 [00:33<00:00,  3.97it/s]\n"
     ]
    },
    {
     "name": "stdout",
     "output_type": "stream",
     "text": [
      "\n",
      " Confusion matrix: \n",
      " [[729 314]\n",
      " [ 66 212]]\n",
      "F1 Score: 0.5273631840796019\n",
      "Accuracy: 0.712339137017411\n",
      "Precision: 0.40304182509505704\n",
      "Recall: 0.762589928057554\n",
      "ROC AUC: 0.7307676390048077\n",
      "Epoch 7 | Train Loss 0.45770731568336487\n"
     ]
    },
    {
     "name": "stderr",
     "output_type": "stream",
     "text": [
      "100%|██████████| 133/133 [00:33<00:00,  3.98it/s]\n"
     ]
    },
    {
     "name": "stdout",
     "output_type": "stream",
     "text": [
      "\n",
      " Confusion matrix: \n",
      " [[723 308]\n",
      " [ 72 218]]\n",
      "F1 Score: 0.534313725490196\n",
      "Accuracy: 0.712339137017411\n",
      "Precision: 0.4144486692015209\n",
      "Recall: 0.7517241379310344\n",
      "ROC AUC: 0.7264925248336065\n",
      "Epoch 8 | Train Loss 0.8925846219062805\n"
     ]
    },
    {
     "name": "stderr",
     "output_type": "stream",
     "text": [
      "100%|██████████| 133/133 [00:33<00:00,  4.00it/s]\n"
     ]
    },
    {
     "name": "stdout",
     "output_type": "stream",
     "text": [
      "\n",
      " Confusion matrix: \n",
      " [[718 297]\n",
      " [ 77 229]]\n",
      "F1 Score: 0.5504807692307692\n",
      "Accuracy: 0.7168811506434519\n",
      "Precision: 0.435361216730038\n",
      "Recall: 0.7483660130718954\n",
      "ROC AUC: 0.727877587816736\n",
      "Epoch 9 | Train Loss 0.8092042207717896\n"
     ]
    },
    {
     "name": "stderr",
     "output_type": "stream",
     "text": [
      "100%|██████████| 133/133 [00:34<00:00,  3.91it/s]\n"
     ]
    },
    {
     "name": "stdout",
     "output_type": "stream",
     "text": [
      "\n",
      " Confusion matrix: \n",
      " [[718 321]\n",
      " [ 77 205]]\n",
      "F1 Score: 0.5074257425742574\n",
      "Accuracy: 0.6987130961392884\n",
      "Precision: 0.3897338403041825\n",
      "Recall: 0.7269503546099291\n",
      "ROC AUC: 0.7089997201346084\n",
      "Epoch 10 | Train Loss 0.806224524974823\n",
      "\n",
      " Confusion matrix: \n",
      " [[17  4]\n",
      " [ 3 16]]\n",
      "F1 Score: 0.8205128205128205\n",
      "Accuracy: 0.825\n",
      "Precision: 0.8\n",
      "Recall: 0.8421052631578947\n",
      "ROC AUC: 0.8258145363408521\n",
      "Epoch 10 | Test Loss 0.7822290658950806\n"
     ]
    },
    {
     "name": "stderr",
     "output_type": "stream",
     "text": [
      "100%|██████████| 133/133 [00:33<00:00,  3.95it/s]\n"
     ]
    },
    {
     "name": "stdout",
     "output_type": "stream",
     "text": [
      "\n",
      " Confusion matrix: \n",
      " [[727 310]\n",
      " [ 68 216]]\n",
      "F1 Score: 0.5333333333333333\n",
      "Accuracy: 0.7138531415594247\n",
      "Precision: 0.41064638783269963\n",
      "Recall: 0.7605633802816901\n",
      "ROC AUC: 0.7308120662257052\n",
      "Epoch 11 | Train Loss 0.8520069122314453\n"
     ]
    },
    {
     "name": "stderr",
     "output_type": "stream",
     "text": [
      "100%|██████████| 133/133 [00:32<00:00,  4.03it/s]\n"
     ]
    },
    {
     "name": "stdout",
     "output_type": "stream",
     "text": [
      "\n",
      " Confusion matrix: \n",
      " [[722 312]\n",
      " [ 73 214]]\n",
      "F1 Score: 0.5264452644526445\n",
      "Accuracy: 0.708554125662377\n",
      "Precision: 0.4068441064638783\n",
      "Recall: 0.7456445993031359\n",
      "ROC AUC: 0.7219518934620128\n",
      "Epoch 12 | Train Loss 0.865983784198761\n"
     ]
    },
    {
     "name": "stderr",
     "output_type": "stream",
     "text": [
      "100%|██████████| 133/133 [00:32<00:00,  4.08it/s]\n"
     ]
    },
    {
     "name": "stdout",
     "output_type": "stream",
     "text": [
      "\n",
      " Confusion matrix: \n",
      " [[729 312]\n",
      " [ 66 214]]\n",
      "F1 Score: 0.531017369727047\n",
      "Accuracy: 0.7138531415594247\n",
      "Precision: 0.4068441064638783\n",
      "Recall: 0.7642857142857142\n",
      "ROC AUC: 0.7322869493618773\n",
      "Epoch 13 | Train Loss 0.17807264626026154\n"
     ]
    },
    {
     "name": "stderr",
     "output_type": "stream",
     "text": [
      "100%|██████████| 133/133 [00:32<00:00,  4.14it/s]\n"
     ]
    },
    {
     "name": "stdout",
     "output_type": "stream",
     "text": [
      "\n",
      " Confusion matrix: \n",
      " [[722 305]\n",
      " [ 73 221]]\n",
      "F1 Score: 0.5390243902439025\n",
      "Accuracy: 0.7138531415594247\n",
      "Precision: 0.42015209125475284\n",
      "Recall: 0.7517006802721088\n",
      "ROC AUC: 0.727359590379482\n",
      "Epoch 14 | Train Loss 0.9000474810600281\n"
     ]
    },
    {
     "name": "stderr",
     "output_type": "stream",
     "text": [
      "100%|██████████| 133/133 [00:32<00:00,  4.05it/s]\n"
     ]
    },
    {
     "name": "stdout",
     "output_type": "stream",
     "text": [
      "\n",
      " Confusion matrix: \n",
      " [[714 291]\n",
      " [ 81 235]]\n",
      "F1 Score: 0.5581947743467933\n",
      "Accuracy: 0.7183951551854656\n",
      "Precision: 0.4467680608365019\n",
      "Recall: 0.7436708860759493\n",
      "ROC AUC: 0.7270593236349896\n",
      "Epoch 15 | Train Loss 0.5014858245849609\n"
     ]
    },
    {
     "name": "stderr",
     "output_type": "stream",
     "text": [
      "100%|██████████| 133/133 [00:32<00:00,  4.11it/s]\n"
     ]
    },
    {
     "name": "stdout",
     "output_type": "stream",
     "text": [
      "\n",
      " Confusion matrix: \n",
      " [[727 325]\n",
      " [ 68 201]]\n",
      "F1 Score: 0.5056603773584905\n",
      "Accuracy: 0.7024981074943225\n",
      "Precision: 0.3821292775665399\n",
      "Recall: 0.7472118959107806\n",
      "ROC AUC: 0.7191382673470254\n",
      "Epoch 16 | Train Loss 1.0806554555892944\n"
     ]
    },
    {
     "name": "stderr",
     "output_type": "stream",
     "text": [
      "100%|██████████| 133/133 [00:32<00:00,  4.07it/s]\n"
     ]
    },
    {
     "name": "stdout",
     "output_type": "stream",
     "text": [
      "\n",
      " Confusion matrix: \n",
      " [[724 311]\n",
      " [ 71 215]]\n",
      "F1 Score: 0.5295566502463055\n",
      "Accuracy: 0.7108251324753975\n",
      "Precision: 0.40874524714828897\n",
      "Recall: 0.7517482517482518\n",
      "ROC AUC: 0.725632579980406\n",
      "Epoch 17 | Train Loss 0.8190631866455078\n"
     ]
    },
    {
     "name": "stderr",
     "output_type": "stream",
     "text": [
      "100%|██████████| 133/133 [00:32<00:00,  4.09it/s]\n"
     ]
    },
    {
     "name": "stdout",
     "output_type": "stream",
     "text": [
      "\n",
      " Confusion matrix: \n",
      " [[715 304]\n",
      " [ 80 222]]\n",
      "F1 Score: 0.536231884057971\n",
      "Accuracy: 0.7093111279333838\n",
      "Precision: 0.4220532319391635\n",
      "Recall: 0.7350993377483444\n",
      "ROC AUC: 0.7183838200027297\n",
      "Epoch 18 | Train Loss 0.8248125314712524\n"
     ]
    },
    {
     "name": "stderr",
     "output_type": "stream",
     "text": [
      "100%|██████████| 133/133 [00:33<00:00,  4.02it/s]\n"
     ]
    },
    {
     "name": "stdout",
     "output_type": "stream",
     "text": [
      "\n",
      " Confusion matrix: \n",
      " [[719 302]\n",
      " [ 76 224]]\n",
      "F1 Score: 0.5423728813559322\n",
      "Accuracy: 0.7138531415594247\n",
      "Precision: 0.42585551330798477\n",
      "Recall: 0.7466666666666667\n",
      "ROC AUC: 0.7254391119817173\n",
      "Epoch 19 | Train Loss 0.7367161512374878\n"
     ]
    },
    {
     "name": "stderr",
     "output_type": "stream",
     "text": [
      "100%|██████████| 133/133 [00:33<00:00,  3.98it/s]\n"
     ]
    },
    {
     "name": "stdout",
     "output_type": "stream",
     "text": [
      "\n",
      " Confusion matrix: \n",
      " [[722 304]\n",
      " [ 73 222]]\n",
      "F1 Score: 0.540803897685749\n",
      "Accuracy: 0.7146101438304315\n",
      "Precision: 0.4220532319391635\n",
      "Recall: 0.752542372881356\n",
      "ROC AUC: 0.7281230382925299\n",
      "Epoch 20 | Train Loss 0.7742646336555481\n",
      "\n",
      " Confusion matrix: \n",
      " [[17  4]\n",
      " [ 3 16]]\n",
      "F1 Score: 0.8205128205128205\n",
      "Accuracy: 0.825\n",
      "Precision: 0.8\n",
      "Recall: 0.8421052631578947\n",
      "ROC AUC: 0.8258145363408521\n",
      "Epoch 20 | Test Loss 0.8000290393829346\n"
     ]
    },
    {
     "name": "stderr",
     "output_type": "stream",
     "text": [
      "100%|██████████| 133/133 [00:33<00:00,  3.99it/s]\n"
     ]
    },
    {
     "name": "stdout",
     "output_type": "stream",
     "text": [
      "\n",
      " Confusion matrix: \n",
      " [[722 293]\n",
      " [ 73 233]]\n",
      "F1 Score: 0.5600961538461539\n",
      "Accuracy: 0.7229371688115064\n",
      "Precision: 0.4429657794676806\n",
      "Recall: 0.761437908496732\n",
      "ROC AUC: 0.7363839788789078\n",
      "Epoch 21 | Train Loss 0.6835983395576477\n"
     ]
    },
    {
     "name": "stderr",
     "output_type": "stream",
     "text": [
      "100%|██████████| 133/133 [00:33<00:00,  4.02it/s]\n"
     ]
    },
    {
     "name": "stdout",
     "output_type": "stream",
     "text": [
      "\n",
      " Confusion matrix: \n",
      " [[725 307]\n",
      " [ 70 219]]\n",
      "F1 Score: 0.5374233128834356\n",
      "Accuracy: 0.7146101438304315\n",
      "Precision: 0.41634980988593157\n",
      "Recall: 0.7577854671280276\n",
      "ROC AUC: 0.7301524234864943\n",
      "Epoch 22 | Train Loss 0.8030527234077454\n"
     ]
    },
    {
     "name": "stderr",
     "output_type": "stream",
     "text": [
      "100%|██████████| 133/133 [00:32<00:00,  4.03it/s]\n"
     ]
    },
    {
     "name": "stdout",
     "output_type": "stream",
     "text": [
      "\n",
      " Confusion matrix: \n",
      " [[729 304]\n",
      " [ 66 222]]\n",
      "F1 Score: 0.5454545454545455\n",
      "Accuracy: 0.7199091597274792\n",
      "Precision: 0.4220532319391635\n",
      "Recall: 0.7708333333333334\n",
      "ROC AUC: 0.7382724265892224\n",
      "Epoch 23 | Train Loss 0.9398180246353149\n"
     ]
    },
    {
     "name": "stderr",
     "output_type": "stream",
     "text": [
      "100%|██████████| 133/133 [00:32<00:00,  4.08it/s]\n"
     ]
    },
    {
     "name": "stdout",
     "output_type": "stream",
     "text": [
      "\n",
      " Confusion matrix: \n",
      " [[723 304]\n",
      " [ 72 222]]\n",
      "F1 Score: 0.5414634146341464\n",
      "Accuracy: 0.7153671461014383\n",
      "Precision: 0.4220532319391635\n",
      "Recall: 0.7551020408163265\n",
      "ROC AUC: 0.7295471255688254\n",
      "Epoch 24 | Train Loss 0.49972954392433167\n"
     ]
    },
    {
     "name": "stderr",
     "output_type": "stream",
     "text": [
      "100%|██████████| 133/133 [00:32<00:00,  4.07it/s]\n"
     ]
    },
    {
     "name": "stdout",
     "output_type": "stream",
     "text": [
      "\n",
      " Confusion matrix: \n",
      " [[722 313]\n",
      " [ 73 213]]\n",
      "F1 Score: 0.5246305418719212\n",
      "Accuracy: 0.7077971233913701\n",
      "Precision: 0.4049429657794677\n",
      "Recall: 0.7447552447552448\n",
      "ROC AUC: 0.7211698929090233\n",
      "Epoch 25 | Train Loss 0.8501304388046265\n"
     ]
    },
    {
     "name": "stderr",
     "output_type": "stream",
     "text": [
      "100%|██████████| 133/133 [00:32<00:00,  4.06it/s]\n"
     ]
    },
    {
     "name": "stdout",
     "output_type": "stream",
     "text": [
      "\n",
      " Confusion matrix: \n",
      " [[720 307]\n",
      " [ 75 219]]\n",
      "F1 Score: 0.5341463414634147\n",
      "Accuracy: 0.7108251324753975\n",
      "Precision: 0.41634980988593157\n",
      "Recall: 0.7448979591836735\n",
      "ROC AUC: 0.7229845200007948\n",
      "Epoch 26 | Train Loss 0.8983300924301147\n"
     ]
    },
    {
     "name": "stderr",
     "output_type": "stream",
     "text": [
      "100%|██████████| 133/133 [00:34<00:00,  3.86it/s]\n"
     ]
    },
    {
     "name": "stdout",
     "output_type": "stream",
     "text": [
      "\n",
      " Confusion matrix: \n",
      " [[726 303]\n",
      " [ 69 223]]\n",
      "F1 Score: 0.5452322738386308\n",
      "Accuracy: 0.7183951551854656\n",
      "Precision: 0.42395437262357416\n",
      "Recall: 0.7636986301369864\n",
      "ROC AUC: 0.7346189943687848\n",
      "Epoch 27 | Train Loss 0.5520603060722351\n"
     ]
    },
    {
     "name": "stderr",
     "output_type": "stream",
     "text": [
      "100%|██████████| 133/133 [00:32<00:00,  4.05it/s]\n"
     ]
    },
    {
     "name": "stdout",
     "output_type": "stream",
     "text": [
      "\n",
      " Confusion matrix: \n",
      " [[720 296]\n",
      " [ 75 230]]\n",
      "F1 Score: 0.5535499398315283\n",
      "Accuracy: 0.7191521574564723\n",
      "Precision: 0.4372623574144487\n",
      "Recall: 0.7540983606557377\n",
      "ROC AUC: 0.7313798889892862\n",
      "Epoch 28 | Train Loss 0.4876890778541565\n"
     ]
    },
    {
     "name": "stderr",
     "output_type": "stream",
     "text": [
      "100%|██████████| 133/133 [00:32<00:00,  4.10it/s]\n"
     ]
    },
    {
     "name": "stdout",
     "output_type": "stream",
     "text": [
      "\n",
      " Confusion matrix: \n",
      " [[719 318]\n",
      " [ 76 208]]\n",
      "F1 Score: 0.5135802469135803\n",
      "Accuracy: 0.7017411052233157\n",
      "Precision: 0.39543726235741444\n",
      "Recall: 0.7323943661971831\n",
      "ROC AUC: 0.7128702785662868\n",
      "Epoch 29 | Train Loss 0.8224625587463379\n"
     ]
    },
    {
     "name": "stderr",
     "output_type": "stream",
     "text": [
      "100%|██████████| 133/133 [00:33<00:00,  3.99it/s]\n"
     ]
    },
    {
     "name": "stdout",
     "output_type": "stream",
     "text": [
      "\n",
      " Confusion matrix: \n",
      " [[725 309]\n",
      " [ 70 217]]\n",
      "F1 Score: 0.5338253382533825\n",
      "Accuracy: 0.7130961392884179\n",
      "Precision: 0.41254752851711024\n",
      "Recall: 0.7560975609756098\n",
      "ROC AUC: 0.7286290512808417\n",
      "Epoch 30 | Train Loss 0.7904180884361267\n",
      "\n",
      " Confusion matrix: \n",
      " [[17  4]\n",
      " [ 3 16]]\n",
      "F1 Score: 0.8205128205128205\n",
      "Accuracy: 0.825\n",
      "Precision: 0.8\n",
      "Recall: 0.8421052631578947\n",
      "ROC AUC: 0.8258145363408521\n",
      "Epoch 30 | Test Loss 0.8008142113685608\n"
     ]
    },
    {
     "name": "stderr",
     "output_type": "stream",
     "text": [
      "100%|██████████| 133/133 [00:33<00:00,  4.02it/s]\n"
     ]
    },
    {
     "name": "stdout",
     "output_type": "stream",
     "text": [
      "\n",
      " Confusion matrix: \n",
      " [[723 295]\n",
      " [ 72 231]]\n",
      "F1 Score: 0.5572979493365501\n",
      "Accuracy: 0.7221801665404997\n",
      "Precision: 0.4391634980988593\n",
      "Recall: 0.7623762376237624\n",
      "ROC AUC: 0.7362961738217044\n",
      "Epoch 31 | Train Loss 0.495766818523407\n"
     ]
    },
    {
     "name": "stderr",
     "output_type": "stream",
     "text": [
      "100%|██████████| 133/133 [00:32<00:00,  4.03it/s]\n"
     ]
    },
    {
     "name": "stdout",
     "output_type": "stream",
     "text": [
      "\n",
      " Confusion matrix: \n",
      " [[725 314]\n",
      " [ 70 212]]\n",
      "F1 Score: 0.5247524752475247\n",
      "Accuracy: 0.7093111279333838\n",
      "Precision: 0.40304182509505704\n",
      "Recall: 0.75177304964539\n",
      "ROC AUC: 0.724779691328951\n",
      "Epoch 32 | Train Loss 0.7893941402435303\n"
     ]
    },
    {
     "name": "stderr",
     "output_type": "stream",
     "text": [
      "100%|██████████| 133/133 [00:33<00:00,  3.98it/s]\n"
     ]
    },
    {
     "name": "stdout",
     "output_type": "stream",
     "text": [
      "\n",
      " Confusion matrix: \n",
      " [[722 293]\n",
      " [ 73 233]]\n",
      "F1 Score: 0.5600961538461539\n",
      "Accuracy: 0.7229371688115064\n",
      "Precision: 0.4429657794676806\n",
      "Recall: 0.761437908496732\n",
      "ROC AUC: 0.7363839788789078\n",
      "Epoch 33 | Train Loss 0.822795569896698\n"
     ]
    },
    {
     "name": "stderr",
     "output_type": "stream",
     "text": [
      "100%|██████████| 133/133 [00:33<00:00,  4.02it/s]\n"
     ]
    },
    {
     "name": "stdout",
     "output_type": "stream",
     "text": [
      "\n",
      " Confusion matrix: \n",
      " [[726 303]\n",
      " [ 69 223]]\n",
      "F1 Score: 0.5452322738386308\n",
      "Accuracy: 0.7183951551854656\n",
      "Precision: 0.42395437262357416\n",
      "Recall: 0.7636986301369864\n",
      "ROC AUC: 0.7346189943687848\n",
      "Epoch 34 | Train Loss 0.47384878993034363\n"
     ]
    },
    {
     "name": "stderr",
     "output_type": "stream",
     "text": [
      "100%|██████████| 133/133 [00:34<00:00,  3.87it/s]\n"
     ]
    },
    {
     "name": "stdout",
     "output_type": "stream",
     "text": [
      "\n",
      " Confusion matrix: \n",
      " [[727 314]\n",
      " [ 68 212]]\n",
      "F1 Score: 0.5260545905707196\n",
      "Accuracy: 0.7108251324753975\n",
      "Precision: 0.40304182509505704\n",
      "Recall: 0.7571428571428571\n",
      "ROC AUC: 0.7277549059969809\n",
      "Epoch 35 | Train Loss 0.8857590556144714\n"
     ]
    },
    {
     "name": "stderr",
     "output_type": "stream",
     "text": [
      "100%|██████████| 133/133 [00:33<00:00,  4.03it/s]\n"
     ]
    },
    {
     "name": "stdout",
     "output_type": "stream",
     "text": [
      "\n",
      " Confusion matrix: \n",
      " [[719 303]\n",
      " [ 76 223]]\n",
      "F1 Score: 0.5406060606060606\n",
      "Accuracy: 0.7130961392884179\n",
      "Precision: 0.42395437262357416\n",
      "Recall: 0.745819397993311\n",
      "ROC AUC: 0.7246709514428394\n",
      "Epoch 36 | Train Loss 0.6868487596511841\n"
     ]
    },
    {
     "name": "stderr",
     "output_type": "stream",
     "text": [
      "100%|██████████| 133/133 [00:32<00:00,  4.10it/s]\n"
     ]
    },
    {
     "name": "stdout",
     "output_type": "stream",
     "text": [
      "\n",
      " Confusion matrix: \n",
      " [[715 309]\n",
      " [ 80 217]]\n",
      "F1 Score: 0.5273390036452005\n",
      "Accuracy: 0.7055261165783497\n",
      "Precision: 0.41254752851711024\n",
      "Recall: 0.7306397306397306\n",
      "ROC AUC: 0.7144409590698653\n",
      "Epoch 37 | Train Loss 0.892385721206665\n"
     ]
    },
    {
     "name": "stderr",
     "output_type": "stream",
     "text": [
      "100%|██████████| 133/133 [00:32<00:00,  4.04it/s]\n"
     ]
    },
    {
     "name": "stdout",
     "output_type": "stream",
     "text": [
      "\n",
      " Confusion matrix: \n",
      " [[725 300]\n",
      " [ 70 226]]\n",
      "F1 Score: 0.5498783454987836\n",
      "Accuracy: 0.7199091597274792\n",
      "Precision: 0.4296577946768061\n",
      "Recall: 0.7635135135135135\n",
      "ROC AUC: 0.7354152933421226\n",
      "Epoch 38 | Train Loss 0.8859350085258484\n"
     ]
    },
    {
     "name": "stderr",
     "output_type": "stream",
     "text": [
      "100%|██████████| 133/133 [00:32<00:00,  4.05it/s]\n"
     ]
    },
    {
     "name": "stdout",
     "output_type": "stream",
     "text": [
      "\n",
      " Confusion matrix: \n",
      " [[726 318]\n",
      " [ 69 208]]\n",
      "F1 Score: 0.5180572851805728\n",
      "Accuracy: 0.7070401211203634\n",
      "Precision: 0.39543726235741444\n",
      "Recall: 0.7509025270758123\n",
      "ROC AUC: 0.7231524129631934\n",
      "Epoch 39 | Train Loss 0.8136139512062073\n"
     ]
    },
    {
     "name": "stderr",
     "output_type": "stream",
     "text": [
      "100%|██████████| 133/133 [00:32<00:00,  4.12it/s]\n"
     ]
    },
    {
     "name": "stdout",
     "output_type": "stream",
     "text": [
      "\n",
      " Confusion matrix: \n",
      " [[726 305]\n",
      " [ 69 221]]\n",
      "F1 Score: 0.5416666666666666\n",
      "Accuracy: 0.7168811506434519\n",
      "Precision: 0.42015209125475284\n",
      "Recall: 0.7620689655172413\n",
      "ROC AUC: 0.733119836783839\n",
      "Epoch 40 | Train Loss 0.5324301719665527\n",
      "\n",
      " Confusion matrix: \n",
      " [[17  4]\n",
      " [ 3 16]]\n",
      "F1 Score: 0.8205128205128205\n",
      "Accuracy: 0.825\n",
      "Precision: 0.8\n",
      "Recall: 0.8421052631578947\n",
      "ROC AUC: 0.8258145363408521\n",
      "Epoch 40 | Test Loss 0.8024901747703552\n"
     ]
    },
    {
     "name": "stderr",
     "output_type": "stream",
     "text": [
      "100%|██████████| 133/133 [00:32<00:00,  4.05it/s]\n"
     ]
    },
    {
     "name": "stdout",
     "output_type": "stream",
     "text": [
      "\n",
      " Confusion matrix: \n",
      " [[726 305]\n",
      " [ 69 221]]\n",
      "F1 Score: 0.5416666666666666\n",
      "Accuracy: 0.7168811506434519\n",
      "Precision: 0.42015209125475284\n",
      "Recall: 0.7620689655172413\n",
      "ROC AUC: 0.733119836783839\n",
      "Epoch 41 | Train Loss 0.7644392251968384\n"
     ]
    },
    {
     "name": "stderr",
     "output_type": "stream",
     "text": [
      "100%|██████████| 133/133 [00:32<00:00,  4.04it/s]\n"
     ]
    },
    {
     "name": "stdout",
     "output_type": "stream",
     "text": [
      "\n",
      " Confusion matrix: \n",
      " [[726 302]\n",
      " [ 69 224]]\n",
      "F1 Score: 0.547008547008547\n",
      "Accuracy: 0.7191521574564723\n",
      "Precision: 0.42585551330798477\n",
      "Recall: 0.764505119453925\n",
      "ROC AUC: 0.7353654001938885\n",
      "Epoch 42 | Train Loss 0.5136245489120483\n"
     ]
    },
    {
     "name": "stderr",
     "output_type": "stream",
     "text": [
      "100%|██████████| 133/133 [00:32<00:00,  4.10it/s]\n"
     ]
    },
    {
     "name": "stdout",
     "output_type": "stream",
     "text": [
      "\n",
      " Confusion matrix: \n",
      " [[719 309]\n",
      " [ 76 217]]\n",
      "F1 Score: 0.5299145299145299\n",
      "Accuracy: 0.708554125662377\n",
      "Precision: 0.41254752851711024\n",
      "Recall: 0.7406143344709898\n",
      "ROC AUC: 0.7200153384417206\n",
      "Epoch 43 | Train Loss 0.6909330487251282\n"
     ]
    },
    {
     "name": "stderr",
     "output_type": "stream",
     "text": [
      "100%|██████████| 133/133 [00:33<00:00,  4.02it/s]\n"
     ]
    },
    {
     "name": "stdout",
     "output_type": "stream",
     "text": [
      "\n",
      " Confusion matrix: \n",
      " [[719 314]\n",
      " [ 76 212]]\n",
      "F1 Score: 0.5208845208845209\n",
      "Accuracy: 0.7047691143073429\n",
      "Precision: 0.40304182509505704\n",
      "Recall: 0.7361111111111112\n",
      "ROC AUC: 0.7160710444229321\n",
      "Epoch 44 | Train Loss 0.7899301052093506\n"
     ]
    },
    {
     "name": "stderr",
     "output_type": "stream",
     "text": [
      "100%|██████████| 133/133 [00:32<00:00,  4.06it/s]\n"
     ]
    },
    {
     "name": "stdout",
     "output_type": "stream",
     "text": [
      "\n",
      " Confusion matrix: \n",
      " [[722 293]\n",
      " [ 73 233]]\n",
      "F1 Score: 0.5600961538461539\n",
      "Accuracy: 0.7229371688115064\n",
      "Precision: 0.4429657794676806\n",
      "Recall: 0.761437908496732\n",
      "ROC AUC: 0.7363839788789078\n",
      "Epoch 45 | Train Loss 0.8334877490997314\n"
     ]
    },
    {
     "name": "stderr",
     "output_type": "stream",
     "text": [
      "100%|██████████| 133/133 [00:32<00:00,  4.10it/s]\n"
     ]
    },
    {
     "name": "stdout",
     "output_type": "stream",
     "text": [
      "\n",
      " Confusion matrix: \n",
      " [[723 322]\n",
      " [ 72 204]]\n",
      "F1 Score: 0.5087281795511222\n",
      "Accuracy: 0.7017411052233157\n",
      "Precision: 0.38783269961977185\n",
      "Recall: 0.7391304347826086\n",
      "ROC AUC: 0.7154982317453713\n",
      "Epoch 46 | Train Loss 0.5115034580230713\n"
     ]
    },
    {
     "name": "stderr",
     "output_type": "stream",
     "text": [
      "100%|██████████| 133/133 [00:32<00:00,  4.07it/s]\n"
     ]
    },
    {
     "name": "stdout",
     "output_type": "stream",
     "text": [
      "\n",
      " Confusion matrix: \n",
      " [[719 313]\n",
      " [ 76 213]]\n",
      "F1 Score: 0.5226993865030675\n",
      "Accuracy: 0.7055261165783497\n",
      "Precision: 0.4049429657794677\n",
      "Recall: 0.7370242214532872\n",
      "ROC AUC: 0.7168648239049381\n",
      "Epoch 47 | Train Loss 0.8599578142166138\n"
     ]
    },
    {
     "name": "stderr",
     "output_type": "stream",
     "text": [
      "100%|██████████| 133/133 [00:33<00:00,  4.01it/s]\n"
     ]
    },
    {
     "name": "stdout",
     "output_type": "stream",
     "text": [
      "\n",
      " Confusion matrix: \n",
      " [[723 294]\n",
      " [ 72 232]]\n",
      "F1 Score: 0.5590361445783132\n",
      "Accuracy: 0.7229371688115064\n",
      "Precision: 0.44106463878326996\n",
      "Recall: 0.7631578947368421\n",
      "ROC AUC: 0.737036174507064\n",
      "Epoch 48 | Train Loss 0.8519649505615234\n"
     ]
    },
    {
     "name": "stderr",
     "output_type": "stream",
     "text": [
      "100%|██████████| 133/133 [00:32<00:00,  4.08it/s]\n"
     ]
    },
    {
     "name": "stdout",
     "output_type": "stream",
     "text": [
      "\n",
      " Confusion matrix: \n",
      " [[729 292]\n",
      " [ 66 234]]\n",
      "F1 Score: 0.5665859564164649\n",
      "Accuracy: 0.728993186979561\n",
      "Precision: 0.4448669201520912\n",
      "Recall: 0.78\n",
      "ROC AUC: 0.7470029382957885\n",
      "Epoch 49 | Train Loss 0.8106015920639038\n"
     ]
    },
    {
     "name": "stderr",
     "output_type": "stream",
     "text": [
      "100%|██████████| 133/133 [00:32<00:00,  4.06it/s]\n"
     ]
    },
    {
     "name": "stdout",
     "output_type": "stream",
     "text": [
      "\n",
      " Confusion matrix: \n",
      " [[720 306]\n",
      " [ 75 220]]\n",
      "F1 Score: 0.535931790499391\n",
      "Accuracy: 0.7115821347464042\n",
      "Precision: 0.41825095057034223\n",
      "Recall: 0.7457627118644068\n",
      "ROC AUC: 0.7237585489146595\n",
      "Epoch 50 | Train Loss 0.4682401120662689\n",
      "\n",
      " Confusion matrix: \n",
      " [[17  4]\n",
      " [ 3 16]]\n",
      "F1 Score: 0.8205128205128205\n",
      "Accuracy: 0.825\n",
      "Precision: 0.8\n",
      "Recall: 0.8421052631578947\n",
      "ROC AUC: 0.8258145363408521\n",
      "Epoch 50 | Test Loss 0.717700183391571\n"
     ]
    },
    {
     "name": "stderr",
     "output_type": "stream",
     "text": [
      "100%|██████████| 133/133 [00:32<00:00,  4.06it/s]\n"
     ]
    },
    {
     "name": "stdout",
     "output_type": "stream",
     "text": [
      "\n",
      " Confusion matrix: \n",
      " [[718 313]\n",
      " [ 77 213]]\n",
      "F1 Score: 0.5220588235294118\n",
      "Accuracy: 0.7047691143073429\n",
      "Precision: 0.4049429657794677\n",
      "Recall: 0.7344827586206897\n",
      "ROC AUC: 0.7154470049165524\n",
      "Epoch 51 | Train Loss 0.4795877933502197\n"
     ]
    },
    {
     "name": "stderr",
     "output_type": "stream",
     "text": [
      "100%|██████████| 133/133 [00:32<00:00,  4.08it/s]\n"
     ]
    },
    {
     "name": "stdout",
     "output_type": "stream",
     "text": [
      "\n",
      " Confusion matrix: \n",
      " [[725 300]\n",
      " [ 70 226]]\n",
      "F1 Score: 0.5498783454987836\n",
      "Accuracy: 0.7199091597274792\n",
      "Precision: 0.4296577946768061\n",
      "Recall: 0.7635135135135135\n",
      "ROC AUC: 0.7354152933421226\n",
      "Epoch 52 | Train Loss 0.8537243604660034\n"
     ]
    },
    {
     "name": "stderr",
     "output_type": "stream",
     "text": [
      "100%|██████████| 133/133 [00:32<00:00,  4.11it/s]\n"
     ]
    },
    {
     "name": "stdout",
     "output_type": "stream",
     "text": [
      "\n",
      " Confusion matrix: \n",
      " [[717 304]\n",
      " [ 78 222]]\n",
      "F1 Score: 0.5375302663438256\n",
      "Accuracy: 0.7108251324753975\n",
      "Precision: 0.4220532319391635\n",
      "Recall: 0.74\n",
      "ROC AUC: 0.7211263467189031\n",
      "Epoch 53 | Train Loss 0.8289493918418884\n"
     ]
    },
    {
     "name": "stderr",
     "output_type": "stream",
     "text": [
      "100%|██████████| 133/133 [00:32<00:00,  4.08it/s]\n"
     ]
    },
    {
     "name": "stdout",
     "output_type": "stream",
     "text": [
      "\n",
      " Confusion matrix: \n",
      " [[720 300]\n",
      " [ 75 226]]\n",
      "F1 Score: 0.5465538089480049\n",
      "Accuracy: 0.7161241483724451\n",
      "Precision: 0.4296577946768061\n",
      "Recall: 0.7508305647840532\n",
      "ROC AUC: 0.7283564588626148\n",
      "Epoch 54 | Train Loss 0.8050892949104309\n"
     ]
    },
    {
     "name": "stderr",
     "output_type": "stream",
     "text": [
      "100%|██████████| 133/133 [00:33<00:00,  4.01it/s]\n"
     ]
    },
    {
     "name": "stdout",
     "output_type": "stream",
     "text": [
      "\n",
      " Confusion matrix: \n",
      " [[716 314]\n",
      " [ 79 212]]\n",
      "F1 Score: 0.5189718482252141\n",
      "Accuracy: 0.7024981074943225\n",
      "Precision: 0.40304182509505704\n",
      "Recall: 0.7285223367697594\n",
      "ROC AUC: 0.7118339839188603\n",
      "Epoch 55 | Train Loss 0.8140613436698914\n"
     ]
    },
    {
     "name": "stderr",
     "output_type": "stream",
     "text": [
      "100%|██████████| 133/133 [00:32<00:00,  4.04it/s]\n"
     ]
    },
    {
     "name": "stdout",
     "output_type": "stream",
     "text": [
      "\n",
      " Confusion matrix: \n",
      " [[728 309]\n",
      " [ 67 217]]\n",
      "F1 Score: 0.5358024691358024\n",
      "Accuracy: 0.7153671461014383\n",
      "Precision: 0.41254752851711024\n",
      "Recall: 0.7640845070422535\n",
      "ROC AUC: 0.7330547896831325\n",
      "Epoch 56 | Train Loss 0.8309435844421387\n"
     ]
    },
    {
     "name": "stderr",
     "output_type": "stream",
     "text": [
      "100%|██████████| 133/133 [00:32<00:00,  4.05it/s]\n"
     ]
    },
    {
     "name": "stdout",
     "output_type": "stream",
     "text": [
      "\n",
      " Confusion matrix: \n",
      " [[723 315]\n",
      " [ 72 211]]\n",
      "F1 Score: 0.5216316440049443\n",
      "Accuracy: 0.7070401211203634\n",
      "Precision: 0.4011406844106464\n",
      "Recall: 0.7455830388692579\n",
      "ROC AUC: 0.7210574153883862\n",
      "Epoch 57 | Train Loss 0.47104281187057495\n"
     ]
    },
    {
     "name": "stderr",
     "output_type": "stream",
     "text": [
      "100%|██████████| 133/133 [00:32<00:00,  4.05it/s]\n"
     ]
    },
    {
     "name": "stdout",
     "output_type": "stream",
     "text": [
      "\n",
      " Confusion matrix: \n",
      " [[725 312]\n",
      " [ 70 214]]\n",
      "F1 Score: 0.5283950617283951\n",
      "Accuracy: 0.7108251324753975\n",
      "Precision: 0.4068441064638783\n",
      "Recall: 0.7535211267605634\n",
      "ROC AUC: 0.7263266193108506\n",
      "Epoch 58 | Train Loss 0.8995469808578491\n"
     ]
    },
    {
     "name": "stderr",
     "output_type": "stream",
     "text": [
      "100%|██████████| 133/133 [00:32<00:00,  4.06it/s]\n"
     ]
    },
    {
     "name": "stdout",
     "output_type": "stream",
     "text": [
      "\n",
      " Confusion matrix: \n",
      " [[731 303]\n",
      " [ 64 223]]\n",
      "F1 Score: 0.5485854858548587\n",
      "Accuracy: 0.7221801665404997\n",
      "Precision: 0.42395437262357416\n",
      "Recall: 0.7770034843205574\n",
      "ROC AUC: 0.7419833669184994\n",
      "Epoch 59 | Train Loss 0.8338521718978882\n"
     ]
    },
    {
     "name": "stderr",
     "output_type": "stream",
     "text": [
      "100%|██████████| 133/133 [00:33<00:00,  4.01it/s]\n"
     ]
    },
    {
     "name": "stdout",
     "output_type": "stream",
     "text": [
      "\n",
      " Confusion matrix: \n",
      " [[715 298]\n",
      " [ 80 228]]\n",
      "F1 Score: 0.5467625899280576\n",
      "Accuracy: 0.7138531415594247\n",
      "Precision: 0.43346007604562736\n",
      "Recall: 0.7402597402597403\n",
      "ROC AUC: 0.7230420122818938\n",
      "Epoch 60 | Train Loss 0.8454387784004211\n",
      "\n",
      " Confusion matrix: \n",
      " [[17  4]\n",
      " [ 3 16]]\n",
      "F1 Score: 0.8205128205128205\n",
      "Accuracy: 0.825\n",
      "Precision: 0.8\n",
      "Recall: 0.8421052631578947\n",
      "ROC AUC: 0.8258145363408521\n",
      "Epoch 60 | Test Loss 0.7819604873657227\n"
     ]
    },
    {
     "name": "stderr",
     "output_type": "stream",
     "text": [
      "100%|██████████| 133/133 [00:33<00:00,  3.99it/s]\n"
     ]
    },
    {
     "name": "stdout",
     "output_type": "stream",
     "text": [
      "\n",
      " Confusion matrix: \n",
      " [[725 295]\n",
      " [ 70 231]]\n",
      "F1 Score: 0.5586457073760581\n",
      "Accuracy: 0.7236941710825132\n",
      "Precision: 0.4391634980988593\n",
      "Recall: 0.7674418604651163\n",
      "ROC AUC: 0.7391130870953031\n",
      "Epoch 61 | Train Loss 0.9814038276672363\n"
     ]
    },
    {
     "name": "stderr",
     "output_type": "stream",
     "text": [
      "100%|██████████| 133/133 [00:32<00:00,  4.04it/s]\n"
     ]
    },
    {
     "name": "stdout",
     "output_type": "stream",
     "text": [
      "\n",
      " Confusion matrix: \n",
      " [[717 306]\n",
      " [ 78 220]]\n",
      "F1 Score: 0.5339805825242719\n",
      "Accuracy: 0.7093111279333838\n",
      "Precision: 0.41825095057034223\n",
      "Recall: 0.738255033557047\n",
      "ROC AUC: 0.7195673994764707\n",
      "Epoch 62 | Train Loss 0.8028463125228882\n"
     ]
    },
    {
     "name": "stderr",
     "output_type": "stream",
     "text": [
      "100%|██████████| 133/133 [00:32<00:00,  4.11it/s]\n"
     ]
    },
    {
     "name": "stdout",
     "output_type": "stream",
     "text": [
      "\n",
      " Confusion matrix: \n",
      " [[726 325]\n",
      " [ 69 201]]\n",
      "F1 Score: 0.5050251256281407\n",
      "Accuracy: 0.7017411052233157\n",
      "Precision: 0.3821292775665399\n",
      "Recall: 0.7444444444444445\n",
      "ROC AUC: 0.7176075695105191\n",
      "Epoch 63 | Train Loss 0.4888348877429962\n"
     ]
    },
    {
     "name": "stderr",
     "output_type": "stream",
     "text": [
      "100%|██████████| 133/133 [00:32<00:00,  4.06it/s]\n"
     ]
    },
    {
     "name": "stdout",
     "output_type": "stream",
     "text": [
      "\n",
      " Confusion matrix: \n",
      " [[723 288]\n",
      " [ 72 238]]\n",
      "F1 Score: 0.5693779904306219\n",
      "Accuracy: 0.7274791824375473\n",
      "Precision: 0.4524714828897338\n",
      "Recall: 0.7677419354838709\n",
      "ROC AUC: 0.7414377333205704\n",
      "Epoch 64 | Train Loss 0.8855272531509399\n"
     ]
    },
    {
     "name": "stderr",
     "output_type": "stream",
     "text": [
      "100%|██████████| 133/133 [00:32<00:00,  4.07it/s]\n"
     ]
    },
    {
     "name": "stdout",
     "output_type": "stream",
     "text": [
      "\n",
      " Confusion matrix: \n",
      " [[713 297]\n",
      " [ 82 229]]\n",
      "F1 Score: 0.5471923536439666\n",
      "Accuracy: 0.7130961392884179\n",
      "Precision: 0.435361216730038\n",
      "Recall: 0.7363344051446945\n",
      "ROC AUC: 0.7211374996020502\n",
      "Epoch 65 | Train Loss 0.8072863221168518\n"
     ]
    },
    {
     "name": "stderr",
     "output_type": "stream",
     "text": [
      "100%|██████████| 133/133 [00:32<00:00,  4.07it/s]\n"
     ]
    },
    {
     "name": "stdout",
     "output_type": "stream",
     "text": [
      "\n",
      " Confusion matrix: \n",
      " [[722 301]\n",
      " [ 73 225]]\n",
      "F1 Score: 0.5461165048543689\n",
      "Accuracy: 0.7168811506434519\n",
      "Precision: 0.42775665399239543\n",
      "Recall: 0.7550335570469798\n",
      "ROC AUC: 0.7304004539878105\n",
      "Epoch 66 | Train Loss 0.8334918022155762\n"
     ]
    },
    {
     "name": "stderr",
     "output_type": "stream",
     "text": [
      "100%|██████████| 133/133 [00:32<00:00,  4.05it/s]\n"
     ]
    },
    {
     "name": "stdout",
     "output_type": "stream",
     "text": [
      "\n",
      " Confusion matrix: \n",
      " [[719 326]\n",
      " [ 76 200]]\n",
      "F1 Score: 0.4987531172069825\n",
      "Accuracy: 0.6956850870552612\n",
      "Precision: 0.38022813688212925\n",
      "Recall: 0.7246376811594203\n",
      "ROC AUC: 0.7063379793356911\n",
      "Epoch 67 | Train Loss 0.6383963227272034\n"
     ]
    },
    {
     "name": "stderr",
     "output_type": "stream",
     "text": [
      "100%|██████████| 133/133 [00:32<00:00,  4.04it/s]\n"
     ]
    },
    {
     "name": "stdout",
     "output_type": "stream",
     "text": [
      "\n",
      " Confusion matrix: \n",
      " [[719 306]\n",
      " [ 76 220]]\n",
      "F1 Score: 0.5352798053527981\n",
      "Accuracy: 0.7108251324753975\n",
      "Precision: 0.41825095057034223\n",
      "Recall: 0.7432432432432432\n",
      "ROC AUC: 0.7223533289386947\n",
      "Epoch 68 | Train Loss 0.9293434619903564\n"
     ]
    },
    {
     "name": "stderr",
     "output_type": "stream",
     "text": [
      "100%|██████████| 133/133 [00:33<00:00,  3.97it/s]\n"
     ]
    },
    {
     "name": "stdout",
     "output_type": "stream",
     "text": [
      "\n",
      " Confusion matrix: \n",
      " [[714 302]\n",
      " [ 81 224]]\n",
      "F1 Score: 0.539109506618532\n",
      "Accuracy: 0.7100681302043906\n",
      "Precision: 0.42585551330798477\n",
      "Recall: 0.7344262295081967\n",
      "ROC AUC: 0.7185910675100038\n",
      "Epoch 69 | Train Loss 0.5607461333274841\n"
     ]
    },
    {
     "name": "stderr",
     "output_type": "stream",
     "text": [
      "100%|██████████| 133/133 [00:32<00:00,  4.08it/s]\n"
     ]
    },
    {
     "name": "stdout",
     "output_type": "stream",
     "text": [
      "\n",
      " Confusion matrix: \n",
      " [[720 312]\n",
      " [ 75 214]]\n",
      "F1 Score: 0.5251533742331288\n",
      "Accuracy: 0.7070401211203634\n",
      "Precision: 0.4068441064638783\n",
      "Recall: 0.740484429065744\n",
      "ROC AUC: 0.7190794238351976\n",
      "Epoch 70 | Train Loss 0.5577988624572754\n",
      "\n",
      " Confusion matrix: \n",
      " [[17  4]\n",
      " [ 3 16]]\n",
      "F1 Score: 0.8205128205128205\n",
      "Accuracy: 0.825\n",
      "Precision: 0.8\n",
      "Recall: 0.8421052631578947\n",
      "ROC AUC: 0.8258145363408521\n",
      "Epoch 70 | Test Loss 0.8183926343917847\n"
     ]
    },
    {
     "name": "stderr",
     "output_type": "stream",
     "text": [
      "100%|██████████| 133/133 [00:32<00:00,  4.09it/s]\n"
     ]
    },
    {
     "name": "stdout",
     "output_type": "stream",
     "text": [
      "\n",
      " Confusion matrix: \n",
      " [[726 306]\n",
      " [ 69 220]]\n",
      "F1 Score: 0.539877300613497\n",
      "Accuracy: 0.7161241483724451\n",
      "Precision: 0.41825095057034223\n",
      "Recall: 0.7612456747404844\n",
      "ROC AUC: 0.7323670234167537\n",
      "Epoch 71 | Train Loss 0.8988049626350403\n"
     ]
    },
    {
     "name": "stderr",
     "output_type": "stream",
     "text": [
      "100%|██████████| 133/133 [00:33<00:00,  3.98it/s]\n"
     ]
    },
    {
     "name": "stdout",
     "output_type": "stream",
     "text": [
      "\n",
      " Confusion matrix: \n",
      " [[724 318]\n",
      " [ 71 208]]\n",
      "F1 Score: 0.5167701863354037\n",
      "Accuracy: 0.7055261165783497\n",
      "Precision: 0.39543726235741444\n",
      "Recall: 0.7455197132616488\n",
      "ROC AUC: 0.7201686858054884\n",
      "Epoch 72 | Train Loss 0.48482146859169006\n"
     ]
    },
    {
     "name": "stderr",
     "output_type": "stream",
     "text": [
      "100%|██████████| 133/133 [00:32<00:00,  4.06it/s]\n"
     ]
    },
    {
     "name": "stdout",
     "output_type": "stream",
     "text": [
      "\n",
      " Confusion matrix: \n",
      " [[723 295]\n",
      " [ 72 231]]\n",
      "F1 Score: 0.5572979493365501\n",
      "Accuracy: 0.7221801665404997\n",
      "Precision: 0.4391634980988593\n",
      "Recall: 0.7623762376237624\n",
      "ROC AUC: 0.7362961738217044\n",
      "Epoch 73 | Train Loss 0.8988816738128662\n"
     ]
    },
    {
     "name": "stderr",
     "output_type": "stream",
     "text": [
      "100%|██████████| 133/133 [00:32<00:00,  4.08it/s]\n"
     ]
    },
    {
     "name": "stdout",
     "output_type": "stream",
     "text": [
      "\n",
      " Confusion matrix: \n",
      " [[713 296]\n",
      " [ 82 230]]\n",
      "F1 Score: 0.548926014319809\n",
      "Accuracy: 0.7138531415594247\n",
      "Precision: 0.4372623574144487\n",
      "Recall: 0.7371794871794872\n",
      "ROC AUC: 0.7219098625193769\n",
      "Epoch 74 | Train Loss 0.5073170065879822\n"
     ]
    },
    {
     "name": "stderr",
     "output_type": "stream",
     "text": [
      "100%|██████████| 133/133 [00:32<00:00,  4.06it/s]\n"
     ]
    },
    {
     "name": "stdout",
     "output_type": "stream",
     "text": [
      "\n",
      " Confusion matrix: \n",
      " [[722 311]\n",
      " [ 73 215]]\n",
      "F1 Score: 0.5282555282555282\n",
      "Accuracy: 0.7093111279333838\n",
      "Precision: 0.40874524714828897\n",
      "Recall: 0.7465277777777778\n",
      "ROC AUC: 0.7227314590728191\n",
      "Epoch 75 | Train Loss 0.8392993211746216\n"
     ]
    },
    {
     "name": "stderr",
     "output_type": "stream",
     "text": [
      "100%|██████████| 133/133 [00:33<00:00,  3.99it/s]\n"
     ]
    },
    {
     "name": "stdout",
     "output_type": "stream",
     "text": [
      "\n",
      " Confusion matrix: \n",
      " [[732 321]\n",
      " [ 63 205]]\n",
      "F1 Score: 0.5163727959697733\n",
      "Accuracy: 0.7093111279333838\n",
      "Precision: 0.3897338403041825\n",
      "Recall: 0.7649253731343284\n",
      "ROC AUC: 0.7300410341455119\n",
      "Epoch 76 | Train Loss 0.8022089600563049\n"
     ]
    },
    {
     "name": "stderr",
     "output_type": "stream",
     "text": [
      "100%|██████████| 133/133 [00:32<00:00,  4.05it/s]\n"
     ]
    },
    {
     "name": "stdout",
     "output_type": "stream",
     "text": [
      "\n",
      " Confusion matrix: \n",
      " [[723 306]\n",
      " [ 72 220]]\n",
      "F1 Score: 0.5378973105134474\n",
      "Accuracy: 0.7138531415594247\n",
      "Precision: 0.41825095057034223\n",
      "Recall: 0.7534246575342466\n",
      "ROC AUC: 0.7280242821198929\n",
      "Epoch 77 | Train Loss 0.7832425832748413\n"
     ]
    },
    {
     "name": "stderr",
     "output_type": "stream",
     "text": [
      "100%|██████████| 133/133 [00:32<00:00,  4.13it/s]\n"
     ]
    },
    {
     "name": "stdout",
     "output_type": "stream",
     "text": [
      "\n",
      " Confusion matrix: \n",
      " [[718 308]\n",
      " [ 77 218]]\n",
      "F1 Score: 0.5310596833130329\n",
      "Accuracy: 0.708554125662377\n",
      "Precision: 0.4144486692015209\n",
      "Recall: 0.7389830508474576\n",
      "ROC AUC: 0.7193940595367891\n",
      "Epoch 78 | Train Loss 0.8301880955696106\n"
     ]
    },
    {
     "name": "stderr",
     "output_type": "stream",
     "text": [
      "100%|██████████| 133/133 [00:32<00:00,  4.09it/s]\n"
     ]
    },
    {
     "name": "stdout",
     "output_type": "stream",
     "text": [
      "\n",
      " Confusion matrix: \n",
      " [[720 311]\n",
      " [ 75 215]]\n",
      "F1 Score: 0.5269607843137256\n",
      "Accuracy: 0.7077971233913701\n",
      "Precision: 0.40874524714828897\n",
      "Recall: 0.7413793103448276\n",
      "ROC AUC: 0.719865212883374\n",
      "Epoch 79 | Train Loss 0.8228445053100586\n"
     ]
    },
    {
     "name": "stderr",
     "output_type": "stream",
     "text": [
      "100%|██████████| 133/133 [00:32<00:00,  4.09it/s]\n"
     ]
    },
    {
     "name": "stdout",
     "output_type": "stream",
     "text": [
      "\n",
      " Confusion matrix: \n",
      " [[722 304]\n",
      " [ 73 222]]\n",
      "F1 Score: 0.540803897685749\n",
      "Accuracy: 0.7146101438304315\n",
      "Precision: 0.4220532319391635\n",
      "Recall: 0.752542372881356\n",
      "ROC AUC: 0.7281230382925299\n",
      "Epoch 80 | Train Loss 0.8319646120071411\n",
      "\n",
      " Confusion matrix: \n",
      " [[17  4]\n",
      " [ 3 16]]\n",
      "F1 Score: 0.8205128205128205\n",
      "Accuracy: 0.825\n",
      "Precision: 0.8\n",
      "Recall: 0.8421052631578947\n",
      "ROC AUC: 0.8258145363408521\n",
      "Epoch 80 | Test Loss 0.7716106176376343\n"
     ]
    },
    {
     "name": "stderr",
     "output_type": "stream",
     "text": [
      "100%|██████████| 133/133 [00:32<00:00,  4.10it/s]\n"
     ]
    },
    {
     "name": "stdout",
     "output_type": "stream",
     "text": [
      "\n",
      " Confusion matrix: \n",
      " [[719 304]\n",
      " [ 76 222]]\n",
      "F1 Score: 0.5388349514563107\n",
      "Accuracy: 0.712339137017411\n",
      "Precision: 0.4220532319391635\n",
      "Recall: 0.7449664429530202\n",
      "ROC AUC: 0.7239006212810067\n",
      "Epoch 81 | Train Loss 0.6830018162727356\n"
     ]
    },
    {
     "name": "stderr",
     "output_type": "stream",
     "text": [
      "100%|██████████| 133/133 [00:32<00:00,  4.08it/s]\n"
     ]
    },
    {
     "name": "stdout",
     "output_type": "stream",
     "text": [
      "\n",
      " Confusion matrix: \n",
      " [[717 322]\n",
      " [ 78 204]]\n",
      "F1 Score: 0.504950495049505\n",
      "Accuracy: 0.6971990915972748\n",
      "Precision: 0.38783269961977185\n",
      "Recall: 0.723404255319149\n",
      "ROC AUC: 0.7067454385354167\n",
      "Epoch 82 | Train Loss 0.8482560515403748\n"
     ]
    },
    {
     "name": "stderr",
     "output_type": "stream",
     "text": [
      "100%|██████████| 133/133 [00:33<00:00,  4.02it/s]\n"
     ]
    },
    {
     "name": "stdout",
     "output_type": "stream",
     "text": [
      "\n",
      " Confusion matrix: \n",
      " [[727 300]\n",
      " [ 68 226]]\n",
      "F1 Score: 0.5512195121951219\n",
      "Accuracy: 0.7214231642694928\n",
      "Precision: 0.4296577946768061\n",
      "Recall: 0.7687074829931972\n",
      "ROC AUC: 0.7382972663261994\n",
      "Epoch 83 | Train Loss 0.8378594517707825\n"
     ]
    },
    {
     "name": "stderr",
     "output_type": "stream",
     "text": [
      "100%|██████████| 133/133 [00:32<00:00,  4.09it/s]\n"
     ]
    },
    {
     "name": "stdout",
     "output_type": "stream",
     "text": [
      "\n",
      " Confusion matrix: \n",
      " [[723 312]\n",
      " [ 72 214]]\n",
      "F1 Score: 0.5270935960591133\n",
      "Accuracy: 0.7093111279333838\n",
      "Precision: 0.4068441064638783\n",
      "Recall: 0.7482517482517482\n",
      "ROC AUC: 0.7234012364447148\n",
      "Epoch 84 | Train Loss 0.7378813624382019\n"
     ]
    },
    {
     "name": "stderr",
     "output_type": "stream",
     "text": [
      "100%|██████████| 133/133 [00:32<00:00,  4.07it/s]\n"
     ]
    },
    {
     "name": "stdout",
     "output_type": "stream",
     "text": [
      "\n",
      " Confusion matrix: \n",
      " [[722 314]\n",
      " [ 73 212]]\n",
      "F1 Score: 0.5228113440197287\n",
      "Accuracy: 0.7070401211203634\n",
      "Precision: 0.40304182509505704\n",
      "Recall: 0.743859649122807\n",
      "ROC AUC: 0.7203854230170021\n",
      "Epoch 85 | Train Loss 0.4779069721698761\n"
     ]
    },
    {
     "name": "stderr",
     "output_type": "stream",
     "text": [
      "100%|██████████| 133/133 [00:32<00:00,  4.10it/s]\n"
     ]
    },
    {
     "name": "stdout",
     "output_type": "stream",
     "text": [
      "\n",
      " Confusion matrix: \n",
      " [[713 301]\n",
      " [ 82 225]]\n",
      "F1 Score: 0.5402160864345739\n",
      "Accuracy: 0.7100681302043906\n",
      "Precision: 0.42775665399239543\n",
      "Recall: 0.7328990228013029\n",
      "ROC AUC: 0.7180274206708683\n",
      "Epoch 86 | Train Loss 0.8081520199775696\n"
     ]
    },
    {
     "name": "stderr",
     "output_type": "stream",
     "text": [
      "100%|██████████| 133/133 [00:32<00:00,  4.06it/s]\n"
     ]
    },
    {
     "name": "stdout",
     "output_type": "stream",
     "text": [
      "\n",
      " Confusion matrix: \n",
      " [[721 309]\n",
      " [ 74 217]]\n",
      "F1 Score: 0.5312117503059975\n",
      "Accuracy: 0.7100681302043906\n",
      "Precision: 0.41254752851711024\n",
      "Recall: 0.7457044673539519\n",
      "ROC AUC: 0.7228522336769759\n",
      "Epoch 87 | Train Loss 0.4999706745147705\n"
     ]
    },
    {
     "name": "stderr",
     "output_type": "stream",
     "text": [
      "100%|██████████| 133/133 [00:32<00:00,  4.08it/s]\n"
     ]
    },
    {
     "name": "stdout",
     "output_type": "stream",
     "text": [
      "\n",
      " Confusion matrix: \n",
      " [[721 308]\n",
      " [ 74 218]]\n",
      "F1 Score: 0.5330073349633252\n",
      "Accuracy: 0.7108251324753975\n",
      "Precision: 0.4144486692015209\n",
      "Recall: 0.7465753424657534\n",
      "ROC AUC: 0.7236278072872986\n",
      "Epoch 88 | Train Loss 0.8680412769317627\n"
     ]
    },
    {
     "name": "stderr",
     "output_type": "stream",
     "text": [
      "100%|██████████| 133/133 [00:32<00:00,  4.11it/s]\n"
     ]
    },
    {
     "name": "stdout",
     "output_type": "stream",
     "text": [
      "\n",
      " Confusion matrix: \n",
      " [[724 311]\n",
      " [ 71 215]]\n",
      "F1 Score: 0.5295566502463055\n",
      "Accuracy: 0.7108251324753975\n",
      "Precision: 0.40874524714828897\n",
      "Recall: 0.7517482517482518\n",
      "ROC AUC: 0.725632579980406\n",
      "Epoch 89 | Train Loss 0.48202016949653625\n"
     ]
    },
    {
     "name": "stderr",
     "output_type": "stream",
     "text": [
      "100%|██████████| 133/133 [00:32<00:00,  4.13it/s]\n"
     ]
    },
    {
     "name": "stdout",
     "output_type": "stream",
     "text": [
      "\n",
      " Confusion matrix: \n",
      " [[717 314]\n",
      " [ 78 212]]\n",
      "F1 Score: 0.5196078431372548\n",
      "Accuracy: 0.7032551097653293\n",
      "Precision: 0.40304182509505704\n",
      "Recall: 0.7310344827586207\n",
      "ROC AUC: 0.7132379009331417\n",
      "Epoch 90 | Train Loss 0.4565883278846741\n",
      "\n",
      " Confusion matrix: \n",
      " [[17  4]\n",
      " [ 3 16]]\n",
      "F1 Score: 0.8205128205128205\n",
      "Accuracy: 0.825\n",
      "Precision: 0.8\n",
      "Recall: 0.8421052631578947\n",
      "ROC AUC: 0.8258145363408521\n",
      "Epoch 90 | Test Loss 0.8192201256752014\n"
     ]
    },
    {
     "name": "stderr",
     "output_type": "stream",
     "text": [
      "100%|██████████| 133/133 [00:32<00:00,  4.09it/s]\n"
     ]
    },
    {
     "name": "stdout",
     "output_type": "stream",
     "text": [
      "\n",
      " Confusion matrix: \n",
      " [[728 301]\n",
      " [ 67 225]]\n",
      "F1 Score: 0.550122249388753\n",
      "Accuracy: 0.7214231642694928\n",
      "Precision: 0.42775665399239543\n",
      "Recall: 0.7705479452054794\n",
      "ROC AUC: 0.7390154692013792\n",
      "Epoch 91 | Train Loss 0.808768630027771\n"
     ]
    },
    {
     "name": "stderr",
     "output_type": "stream",
     "text": [
      "100%|██████████| 133/133 [00:32<00:00,  4.12it/s]\n"
     ]
    },
    {
     "name": "stdout",
     "output_type": "stream",
     "text": [
      "\n",
      " Confusion matrix: \n",
      " [[717 296]\n",
      " [ 78 230]]\n",
      "F1 Score: 0.5515587529976019\n",
      "Accuracy: 0.7168811506434519\n",
      "Precision: 0.4372623574144487\n",
      "Recall: 0.7467532467532467\n",
      "ROC AUC: 0.7272759323598416\n",
      "Epoch 92 | Train Loss 0.8748428821563721\n"
     ]
    },
    {
     "name": "stderr",
     "output_type": "stream",
     "text": [
      "100%|██████████| 133/133 [00:32<00:00,  4.12it/s]\n"
     ]
    },
    {
     "name": "stdout",
     "output_type": "stream",
     "text": [
      "\n",
      " Confusion matrix: \n",
      " [[727 299]\n",
      " [ 68 227]]\n",
      "F1 Score: 0.5529841656516443\n",
      "Accuracy: 0.7221801665404997\n",
      "Precision: 0.43155893536121676\n",
      "Recall: 0.7694915254237288\n",
      "ROC AUC: 0.7390342617372054\n",
      "Epoch 93 | Train Loss 0.8213537931442261\n"
     ]
    },
    {
     "name": "stderr",
     "output_type": "stream",
     "text": [
      "100%|██████████| 133/133 [00:32<00:00,  4.10it/s]\n"
     ]
    },
    {
     "name": "stdout",
     "output_type": "stream",
     "text": [
      "\n",
      " Confusion matrix: \n",
      " [[729 300]\n",
      " [ 66 226]]\n",
      "F1 Score: 0.5525672371638142\n",
      "Accuracy: 0.7229371688115064\n",
      "Precision: 0.4296577946768061\n",
      "Recall: 0.773972602739726\n",
      "ROC AUC: 0.7412137066176763\n",
      "Epoch 94 | Train Loss 0.8440641164779663\n"
     ]
    },
    {
     "name": "stderr",
     "output_type": "stream",
     "text": [
      "100%|██████████| 133/133 [00:32<00:00,  4.12it/s]\n"
     ]
    },
    {
     "name": "stdout",
     "output_type": "stream",
     "text": [
      "\n",
      " Confusion matrix: \n",
      " [[716 322]\n",
      " [ 79 204]]\n",
      "F1 Score: 0.5043263288009888\n",
      "Accuracy: 0.6964420893262679\n",
      "Precision: 0.38783269961977185\n",
      "Recall: 0.7208480565371025\n",
      "ROC AUC: 0.7053180552435031\n",
      "Epoch 95 | Train Loss 0.5695753693580627\n"
     ]
    },
    {
     "name": "stderr",
     "output_type": "stream",
     "text": [
      "100%|██████████| 133/133 [00:32<00:00,  4.12it/s]\n"
     ]
    },
    {
     "name": "stdout",
     "output_type": "stream",
     "text": [
      "\n",
      " Confusion matrix: \n",
      " [[723 303]\n",
      " [ 72 223]]\n",
      "F1 Score: 0.5432399512789281\n",
      "Accuracy: 0.7161241483724451\n",
      "Precision: 0.42395437262357416\n",
      "Recall: 0.7559322033898305\n",
      "ROC AUC: 0.730305282981465\n",
      "Epoch 96 | Train Loss 0.47457611560821533\n"
     ]
    },
    {
     "name": "stderr",
     "output_type": "stream",
     "text": [
      "100%|██████████| 133/133 [00:32<00:00,  4.11it/s]\n"
     ]
    },
    {
     "name": "stdout",
     "output_type": "stream",
     "text": [
      "\n",
      " Confusion matrix: \n",
      " [[725 312]\n",
      " [ 70 214]]\n",
      "F1 Score: 0.5283950617283951\n",
      "Accuracy: 0.7108251324753975\n",
      "Precision: 0.4068441064638783\n",
      "Recall: 0.7535211267605634\n",
      "ROC AUC: 0.7263266193108506\n",
      "Epoch 97 | Train Loss 0.7438920140266418\n"
     ]
    },
    {
     "name": "stderr",
     "output_type": "stream",
     "text": [
      "100%|██████████| 133/133 [00:32<00:00,  4.15it/s]\n"
     ]
    },
    {
     "name": "stdout",
     "output_type": "stream",
     "text": [
      "\n",
      " Confusion matrix: \n",
      " [[720 311]\n",
      " [ 75 215]]\n",
      "F1 Score: 0.5269607843137256\n",
      "Accuracy: 0.7077971233913701\n",
      "Precision: 0.40874524714828897\n",
      "Recall: 0.7413793103448276\n",
      "ROC AUC: 0.719865212883374\n",
      "Epoch 98 | Train Loss 0.5476793646812439\n"
     ]
    },
    {
     "name": "stderr",
     "output_type": "stream",
     "text": [
      "100%|██████████| 133/133 [00:31<00:00,  4.17it/s]\n"
     ]
    },
    {
     "name": "stdout",
     "output_type": "stream",
     "text": [
      "\n",
      " Confusion matrix: \n",
      " [[725 315]\n",
      " [ 70 211]]\n",
      "F1 Score: 0.5229244114002479\n",
      "Accuracy: 0.708554125662377\n",
      "Precision: 0.4011406844106464\n",
      "Recall: 0.7508896797153025\n",
      "ROC AUC: 0.7240025321653436\n",
      "Epoch 99 | Train Loss 0.9733268022537231\n"
     ]
    },
    {
     "name": "stderr",
     "output_type": "stream",
     "text": [
      "100%|██████████| 133/133 [00:32<00:00,  4.10it/s]\n"
     ]
    },
    {
     "name": "stdout",
     "output_type": "stream",
     "text": [
      "\n",
      " Confusion matrix: \n",
      " [[726 299]\n",
      " [ 69 227]]\n",
      "F1 Score: 0.5523114355231143\n",
      "Accuracy: 0.7214231642694928\n",
      "Precision: 0.43155893536121676\n",
      "Recall: 0.7668918918918919\n",
      "ROC AUC: 0.7375922874093604\n",
      "Epoch 100 | Train Loss 0.805512547492981\n",
      "\n",
      " Confusion matrix: \n",
      " [[17  4]\n",
      " [ 3 16]]\n",
      "F1 Score: 0.8205128205128205\n",
      "Accuracy: 0.825\n",
      "Precision: 0.8\n",
      "Recall: 0.8421052631578947\n",
      "ROC AUC: 0.8258145363408521\n",
      "Epoch 100 | Test Loss 0.7372785806655884\n"
     ]
    },
    {
     "name": "stderr",
     "output_type": "stream",
     "text": [
      "100%|██████████| 133/133 [00:32<00:00,  4.10it/s]\n"
     ]
    },
    {
     "name": "stdout",
     "output_type": "stream",
     "text": [
      "\n",
      " Confusion matrix: \n",
      " [[715 299]\n",
      " [ 80 227]]\n",
      "F1 Score: 0.5450180072028812\n",
      "Accuracy: 0.7130961392884179\n",
      "Precision: 0.43155893536121676\n",
      "Recall: 0.739413680781759\n",
      "ROC AUC: 0.722270942954982\n",
      "Epoch 101 | Train Loss 0.8611840009689331\n"
     ]
    },
    {
     "name": "stderr",
     "output_type": "stream",
     "text": [
      "100%|██████████| 133/133 [00:31<00:00,  4.18it/s]\n"
     ]
    },
    {
     "name": "stdout",
     "output_type": "stream",
     "text": [
      "\n",
      " Confusion matrix: \n",
      " [[726 303]\n",
      " [ 69 223]]\n",
      "F1 Score: 0.5452322738386308\n",
      "Accuracy: 0.7183951551854656\n",
      "Precision: 0.42395437262357416\n",
      "Recall: 0.7636986301369864\n",
      "ROC AUC: 0.7346189943687848\n",
      "Epoch 102 | Train Loss 0.8268391489982605\n"
     ]
    },
    {
     "name": "stderr",
     "output_type": "stream",
     "text": [
      "100%|██████████| 133/133 [00:31<00:00,  4.17it/s]\n"
     ]
    },
    {
     "name": "stdout",
     "output_type": "stream",
     "text": [
      "\n",
      " Confusion matrix: \n",
      " [[723 300]\n",
      " [ 72 226]]\n",
      "F1 Score: 0.5485436893203883\n",
      "Accuracy: 0.7183951551854656\n",
      "Precision: 0.4296577946768061\n",
      "Recall: 0.7583892617449665\n",
      "ROC AUC: 0.7325670648900785\n",
      "Epoch 103 | Train Loss 0.4662865996360779\n"
     ]
    },
    {
     "name": "stderr",
     "output_type": "stream",
     "text": [
      "100%|██████████| 133/133 [00:32<00:00,  4.06it/s]\n"
     ]
    },
    {
     "name": "stdout",
     "output_type": "stream",
     "text": [
      "\n",
      " Confusion matrix: \n",
      " [[722 302]\n",
      " [ 73 224]]\n",
      "F1 Score: 0.5443499392466585\n",
      "Accuracy: 0.7161241483724451\n",
      "Precision: 0.42585551330798477\n",
      "Recall: 0.7542087542087542\n",
      "ROC AUC: 0.7296434396043772\n",
      "Epoch 104 | Train Loss 0.7500604391098022\n"
     ]
    },
    {
     "name": "stderr",
     "output_type": "stream",
     "text": [
      "100%|██████████| 133/133 [00:31<00:00,  4.17it/s]\n"
     ]
    },
    {
     "name": "stdout",
     "output_type": "stream",
     "text": [
      "\n",
      " Confusion matrix: \n",
      " [[728 302]\n",
      " [ 67 224]]\n",
      "F1 Score: 0.5483476132190942\n",
      "Accuracy: 0.720666161998486\n",
      "Precision: 0.42585551330798477\n",
      "Recall: 0.7697594501718213\n",
      "ROC AUC: 0.7382777833383378\n",
      "Epoch 105 | Train Loss 0.8369458317756653\n"
     ]
    },
    {
     "name": "stderr",
     "output_type": "stream",
     "text": [
      "100%|██████████| 133/133 [00:31<00:00,  4.19it/s]\n"
     ]
    },
    {
     "name": "stdout",
     "output_type": "stream",
     "text": [
      "\n",
      " Confusion matrix: \n",
      " [[713 310]\n",
      " [ 82 216]]\n",
      "F1 Score: 0.5242718446601942\n",
      "Accuracy: 0.7032551097653293\n",
      "Precision: 0.41064638783269963\n",
      "Recall: 0.7248322147651006\n",
      "ROC AUC: 0.7109009558673989\n",
      "Epoch 106 | Train Loss 0.9433718919754028\n"
     ]
    },
    {
     "name": "stderr",
     "output_type": "stream",
     "text": [
      "100%|██████████| 133/133 [00:32<00:00,  4.11it/s]\n"
     ]
    },
    {
     "name": "stdout",
     "output_type": "stream",
     "text": [
      "\n",
      " Confusion matrix: \n",
      " [[719 298]\n",
      " [ 76 228]]\n",
      "F1 Score: 0.5493975903614459\n",
      "Accuracy: 0.7168811506434519\n",
      "Precision: 0.43346007604562736\n",
      "Recall: 0.75\n",
      "ROC AUC: 0.7284906588003933\n",
      "Epoch 107 | Train Loss 0.4798389971256256\n"
     ]
    },
    {
     "name": "stderr",
     "output_type": "stream",
     "text": [
      "100%|██████████| 133/133 [00:32<00:00,  4.08it/s]\n"
     ]
    },
    {
     "name": "stdout",
     "output_type": "stream",
     "text": [
      "\n",
      " Confusion matrix: \n",
      " [[714 300]\n",
      " [ 81 226]]\n",
      "F1 Score: 0.5426170468187275\n",
      "Accuracy: 0.7115821347464042\n",
      "Precision: 0.4296577946768061\n",
      "Recall: 0.7361563517915309\n",
      "ROC AUC: 0.7201491818129252\n",
      "Epoch 108 | Train Loss 0.6043810844421387\n"
     ]
    },
    {
     "name": "stderr",
     "output_type": "stream",
     "text": [
      "100%|██████████| 133/133 [00:31<00:00,  4.18it/s]\n"
     ]
    },
    {
     "name": "stdout",
     "output_type": "stream",
     "text": [
      "\n",
      " Confusion matrix: \n",
      " [[726 311]\n",
      " [ 69 215]]\n",
      "F1 Score: 0.5308641975308642\n",
      "Accuracy: 0.712339137017411\n",
      "Precision: 0.40874524714828897\n",
      "Recall: 0.7570422535211268\n",
      "ROC AUC: 0.728569342768278\n",
      "Epoch 109 | Train Loss 0.8091496825218201\n"
     ]
    },
    {
     "name": "stderr",
     "output_type": "stream",
     "text": [
      "100%|██████████| 133/133 [00:31<00:00,  4.24it/s]\n"
     ]
    },
    {
     "name": "stdout",
     "output_type": "stream",
     "text": [
      "\n",
      " Confusion matrix: \n",
      " [[716 292]\n",
      " [ 79 234]]\n",
      "F1 Score: 0.5578069129916566\n",
      "Accuracy: 0.7191521574564723\n",
      "Precision: 0.4448669201520912\n",
      "Recall: 0.7476038338658147\n",
      "ROC AUC: 0.7289606470916375\n",
      "Epoch 110 | Train Loss 0.8356299996376038\n",
      "\n",
      " Confusion matrix: \n",
      " [[17  4]\n",
      " [ 3 16]]\n",
      "F1 Score: 0.8205128205128205\n",
      "Accuracy: 0.825\n",
      "Precision: 0.8\n",
      "Recall: 0.8421052631578947\n",
      "ROC AUC: 0.8258145363408521\n",
      "Epoch 110 | Test Loss 0.7746708393096924\n"
     ]
    },
    {
     "name": "stderr",
     "output_type": "stream",
     "text": [
      "100%|██████████| 133/133 [00:32<00:00,  4.13it/s]\n"
     ]
    },
    {
     "name": "stdout",
     "output_type": "stream",
     "text": [
      "\n",
      " Confusion matrix: \n",
      " [[724 307]\n",
      " [ 71 219]]\n",
      "F1 Score: 0.5367647058823529\n",
      "Accuracy: 0.7138531415594247\n",
      "Precision: 0.41634980988593157\n",
      "Recall: 0.7551724137931034\n",
      "ROC AUC: 0.7287016288170173\n",
      "Epoch 111 | Train Loss 0.8091667890548706\n"
     ]
    },
    {
     "name": "stderr",
     "output_type": "stream",
     "text": [
      "100%|██████████| 133/133 [00:31<00:00,  4.19it/s]\n"
     ]
    },
    {
     "name": "stdout",
     "output_type": "stream",
     "text": [
      "\n",
      " Confusion matrix: \n",
      " [[724 301]\n",
      " [ 71 225]]\n",
      "F1 Score: 0.5474452554744526\n",
      "Accuracy: 0.7183951551854656\n",
      "Precision: 0.42775665399239543\n",
      "Recall: 0.7601351351351351\n",
      "ROC AUC: 0.7332382992748845\n",
      "Epoch 112 | Train Loss 0.44059330224990845\n"
     ]
    },
    {
     "name": "stderr",
     "output_type": "stream",
     "text": [
      "100%|██████████| 133/133 [00:31<00:00,  4.19it/s]\n"
     ]
    },
    {
     "name": "stdout",
     "output_type": "stream",
     "text": [
      "\n",
      " Confusion matrix: \n",
      " [[727 311]\n",
      " [ 68 215]]\n",
      "F1 Score: 0.5315203955500618\n",
      "Accuracy: 0.7130961392884179\n",
      "Precision: 0.40874524714828897\n",
      "Recall: 0.7597173144876325\n",
      "ROC AUC: 0.7300513354711766\n",
      "Epoch 113 | Train Loss 0.9348196387290955\n"
     ]
    },
    {
     "name": "stderr",
     "output_type": "stream",
     "text": [
      "100%|██████████| 133/133 [00:32<00:00,  4.14it/s]\n"
     ]
    },
    {
     "name": "stdout",
     "output_type": "stream",
     "text": [
      "\n",
      " Confusion matrix: \n",
      " [[720 309]\n",
      " [ 75 217]]\n",
      "F1 Score: 0.530562347188264\n",
      "Accuracy: 0.7093111279333838\n",
      "Precision: 0.41254752851711024\n",
      "Recall: 0.7431506849315068\n",
      "ROC AUC: 0.7214295698710013\n",
      "Epoch 114 | Train Loss 0.4506966769695282\n"
     ]
    },
    {
     "name": "stderr",
     "output_type": "stream",
     "text": [
      "100%|██████████| 133/133 [00:31<00:00,  4.18it/s]\n"
     ]
    },
    {
     "name": "stdout",
     "output_type": "stream",
     "text": [
      "\n",
      " Confusion matrix: \n",
      " [[718 322]\n",
      " [ 77 204]]\n",
      "F1 Score: 0.5055762081784386\n",
      "Accuracy: 0.6979560938682816\n",
      "Precision: 0.38783269961977185\n",
      "Recall: 0.7259786476868327\n",
      "ROC AUC: 0.708181631535724\n",
      "Epoch 115 | Train Loss 0.49227356910705566\n"
     ]
    },
    {
     "name": "stderr",
     "output_type": "stream",
     "text": [
      "100%|██████████| 133/133 [00:32<00:00,  4.13it/s]\n"
     ]
    },
    {
     "name": "stdout",
     "output_type": "stream",
     "text": [
      "\n",
      " Confusion matrix: \n",
      " [[723 321]\n",
      " [ 72 205]]\n",
      "F1 Score: 0.510585305105853\n",
      "Accuracy: 0.7024981074943225\n",
      "Precision: 0.3897338403041825\n",
      "Recall: 0.740072202166065\n",
      "ROC AUC: 0.7163004688991244\n",
      "Epoch 116 | Train Loss 0.8123580813407898\n"
     ]
    },
    {
     "name": "stderr",
     "output_type": "stream",
     "text": [
      "100%|██████████| 133/133 [00:32<00:00,  4.15it/s]\n"
     ]
    },
    {
     "name": "stdout",
     "output_type": "stream",
     "text": [
      "\n",
      " Confusion matrix: \n",
      " [[717 307]\n",
      " [ 78 219]]\n",
      "F1 Score: 0.5321992709599027\n",
      "Accuracy: 0.708554125662377\n",
      "Precision: 0.41634980988593157\n",
      "Recall: 0.7373737373737373\n",
      "ROC AUC: 0.7187845249368687\n",
      "Epoch 117 | Train Loss 0.832754909992218\n"
     ]
    },
    {
     "name": "stderr",
     "output_type": "stream",
     "text": [
      "100%|██████████| 133/133 [00:32<00:00,  4.03it/s]\n"
     ]
    },
    {
     "name": "stdout",
     "output_type": "stream",
     "text": [
      "\n",
      " Confusion matrix: \n",
      " [[727 296]\n",
      " [ 68 230]]\n",
      "F1 Score: 0.5582524271844661\n",
      "Accuracy: 0.72445117335352\n",
      "Precision: 0.4372623574144487\n",
      "Recall: 0.7718120805369127\n",
      "ROC AUC: 0.7412335084991505\n",
      "Epoch 118 | Train Loss 0.815445065498352\n"
     ]
    },
    {
     "name": "stderr",
     "output_type": "stream",
     "text": [
      "100%|██████████| 133/133 [00:32<00:00,  4.13it/s]\n"
     ]
    },
    {
     "name": "stdout",
     "output_type": "stream",
     "text": [
      "\n",
      " Confusion matrix: \n",
      " [[723 309]\n",
      " [ 72 217]]\n",
      "F1 Score: 0.5325153374233129\n",
      "Accuracy: 0.7115821347464042\n",
      "Precision: 0.41254752851711024\n",
      "Recall: 0.7508650519031141\n",
      "ROC AUC: 0.7257232236259756\n",
      "Epoch 119 | Train Loss 0.8452546000480652\n"
     ]
    },
    {
     "name": "stderr",
     "output_type": "stream",
     "text": [
      "100%|██████████| 133/133 [00:32<00:00,  4.10it/s]\n"
     ]
    },
    {
     "name": "stdout",
     "output_type": "stream",
     "text": [
      "\n",
      " Confusion matrix: \n",
      " [[723 310]\n",
      " [ 72 216]]\n",
      "F1 Score: 0.5307125307125308\n",
      "Accuracy: 0.7108251324753975\n",
      "Precision: 0.41064638783269963\n",
      "Recall: 0.75\n",
      "ROC AUC: 0.7249515972894484\n",
      "Epoch 120 | Train Loss 0.35559436678886414\n",
      "\n",
      " Confusion matrix: \n",
      " [[17  4]\n",
      " [ 3 16]]\n",
      "F1 Score: 0.8205128205128205\n",
      "Accuracy: 0.825\n",
      "Precision: 0.8\n",
      "Recall: 0.8421052631578947\n",
      "ROC AUC: 0.8258145363408521\n",
      "Epoch 120 | Test Loss 0.7384364604949951\n"
     ]
    },
    {
     "name": "stderr",
     "output_type": "stream",
     "text": [
      "100%|██████████| 133/133 [00:32<00:00,  4.13it/s]\n"
     ]
    },
    {
     "name": "stdout",
     "output_type": "stream",
     "text": [
      "\n",
      " Confusion matrix: \n",
      " [[727 327]\n",
      " [ 68 199]]\n",
      "F1 Score: 0.501891551071879\n",
      "Accuracy: 0.7009841029523088\n",
      "Precision: 0.37832699619771865\n",
      "Recall: 0.7453183520599251\n",
      "ROC AUC: 0.7175358363715185\n",
      "Epoch 121 | Train Loss 0.8363837003707886\n"
     ]
    },
    {
     "name": "stderr",
     "output_type": "stream",
     "text": [
      "100%|██████████| 133/133 [00:31<00:00,  4.17it/s]\n"
     ]
    },
    {
     "name": "stdout",
     "output_type": "stream",
     "text": [
      "\n",
      " Confusion matrix: \n",
      " [[724 298]\n",
      " [ 71 228]]\n",
      "F1 Score: 0.5527272727272726\n",
      "Accuracy: 0.720666161998486\n",
      "Precision: 0.43346007604562736\n",
      "Recall: 0.7625418060200669\n",
      "ROC AUC: 0.7354783394092507\n",
      "Epoch 122 | Train Loss 0.8255558013916016\n"
     ]
    },
    {
     "name": "stderr",
     "output_type": "stream",
     "text": [
      "100%|██████████| 133/133 [00:31<00:00,  4.19it/s]\n"
     ]
    },
    {
     "name": "stdout",
     "output_type": "stream",
     "text": [
      "\n",
      " Confusion matrix: \n",
      " [[723 303]\n",
      " [ 72 223]]\n",
      "F1 Score: 0.5432399512789281\n",
      "Accuracy: 0.7161241483724451\n",
      "Precision: 0.42395437262357416\n",
      "Recall: 0.7559322033898305\n",
      "ROC AUC: 0.730305282981465\n",
      "Epoch 123 | Train Loss 0.7698720097541809\n"
     ]
    },
    {
     "name": "stderr",
     "output_type": "stream",
     "text": [
      "100%|██████████| 133/133 [00:32<00:00,  4.07it/s]\n"
     ]
    },
    {
     "name": "stdout",
     "output_type": "stream",
     "text": [
      "\n",
      " Confusion matrix: \n",
      " [[729 288]\n",
      " [ 66 238]]\n",
      "F1 Score: 0.5734939759036145\n",
      "Accuracy: 0.7320211960635882\n",
      "Precision: 0.4524714828897338\n",
      "Recall: 0.7828947368421053\n",
      "ROC AUC: 0.7498544480670704\n",
      "Epoch 124 | Train Loss 0.5128604173660278\n"
     ]
    },
    {
     "name": "stderr",
     "output_type": "stream",
     "text": [
      "100%|██████████| 133/133 [00:31<00:00,  4.17it/s]\n"
     ]
    },
    {
     "name": "stdout",
     "output_type": "stream",
     "text": [
      "\n",
      " Confusion matrix: \n",
      " [[719 318]\n",
      " [ 76 208]]\n",
      "F1 Score: 0.5135802469135803\n",
      "Accuracy: 0.7017411052233157\n",
      "Precision: 0.39543726235741444\n",
      "Recall: 0.7323943661971831\n",
      "ROC AUC: 0.7128702785662868\n",
      "Epoch 125 | Train Loss 0.8164243698120117\n"
     ]
    },
    {
     "name": "stderr",
     "output_type": "stream",
     "text": [
      "100%|██████████| 133/133 [00:32<00:00,  4.16it/s]\n"
     ]
    },
    {
     "name": "stdout",
     "output_type": "stream",
     "text": [
      "\n",
      " Confusion matrix: \n",
      " [[722 307]\n",
      " [ 73 219]]\n",
      "F1 Score: 0.5354523227383864\n",
      "Accuracy: 0.712339137017411\n",
      "Precision: 0.41634980988593157\n",
      "Recall: 0.75\n",
      "ROC AUC: 0.7258260447035957\n",
      "Epoch 126 | Train Loss 0.854351282119751\n"
     ]
    },
    {
     "name": "stderr",
     "output_type": "stream",
     "text": [
      "100%|██████████| 133/133 [00:32<00:00,  4.15it/s]\n"
     ]
    },
    {
     "name": "stdout",
     "output_type": "stream",
     "text": [
      "\n",
      " Confusion matrix: \n",
      " [[721 313]\n",
      " [ 74 213]]\n",
      "F1 Score: 0.5239852398523985\n",
      "Accuracy: 0.7070401211203634\n",
      "Precision: 0.4049429657794677\n",
      "Recall: 0.7421602787456446\n",
      "ROC AUC: 0.7197261741890698\n",
      "Epoch 127 | Train Loss 0.8316659331321716\n"
     ]
    },
    {
     "name": "stderr",
     "output_type": "stream",
     "text": [
      "100%|██████████| 133/133 [00:32<00:00,  4.12it/s]\n"
     ]
    },
    {
     "name": "stdout",
     "output_type": "stream",
     "text": [
      "\n",
      " Confusion matrix: \n",
      " [[730 298]\n",
      " [ 65 228]]\n",
      "F1 Score: 0.5567765567765568\n",
      "Accuracy: 0.7252081756245269\n",
      "Precision: 0.43346007604562736\n",
      "Recall: 0.7781569965870307\n",
      "ROC AUC: 0.7441368640522701\n",
      "Epoch 128 | Train Loss 0.48182711005210876\n"
     ]
    },
    {
     "name": "stderr",
     "output_type": "stream",
     "text": [
      "100%|██████████| 133/133 [00:31<00:00,  4.16it/s]\n"
     ]
    },
    {
     "name": "stdout",
     "output_type": "stream",
     "text": [
      "\n",
      " Confusion matrix: \n",
      " [[708 316]\n",
      " [ 87 210]]\n",
      "F1 Score: 0.5103280680437424\n",
      "Accuracy: 0.6949280847842544\n",
      "Precision: 0.39923954372623577\n",
      "Recall: 0.7070707070707071\n",
      "ROC AUC: 0.6992384785353536\n",
      "Epoch 129 | Train Loss 0.8151671290397644\n"
     ]
    },
    {
     "name": "stderr",
     "output_type": "stream",
     "text": [
      "100%|██████████| 133/133 [00:32<00:00,  4.14it/s]\n"
     ]
    },
    {
     "name": "stdout",
     "output_type": "stream",
     "text": [
      "\n",
      " Confusion matrix: \n",
      " [[725 307]\n",
      " [ 70 219]]\n",
      "F1 Score: 0.5374233128834356\n",
      "Accuracy: 0.7146101438304315\n",
      "Precision: 0.41634980988593157\n",
      "Recall: 0.7577854671280276\n",
      "ROC AUC: 0.7301524234864943\n",
      "Epoch 130 | Train Loss 0.5209397673606873\n",
      "\n",
      " Confusion matrix: \n",
      " [[17  4]\n",
      " [ 3 16]]\n",
      "F1 Score: 0.8205128205128205\n",
      "Accuracy: 0.825\n",
      "Precision: 0.8\n",
      "Recall: 0.8421052631578947\n",
      "ROC AUC: 0.8258145363408521\n",
      "Epoch 130 | Test Loss 0.7931309342384338\n"
     ]
    },
    {
     "name": "stderr",
     "output_type": "stream",
     "text": [
      "100%|██████████| 133/133 [00:32<00:00,  4.08it/s]\n"
     ]
    },
    {
     "name": "stdout",
     "output_type": "stream",
     "text": [
      "\n",
      " Confusion matrix: \n",
      " [[728 310]\n",
      " [ 67 216]]\n",
      "F1 Score: 0.5339925834363412\n",
      "Accuracy: 0.7146101438304315\n",
      "Precision: 0.41064638783269963\n",
      "Recall: 0.7632508833922261\n",
      "ROC AUC: 0.7322998154918742\n",
      "Epoch 131 | Train Loss 0.49352988600730896\n"
     ]
    },
    {
     "name": "stderr",
     "output_type": "stream",
     "text": [
      "100%|██████████| 133/133 [00:31<00:00,  4.18it/s]\n"
     ]
    },
    {
     "name": "stdout",
     "output_type": "stream",
     "text": [
      "\n",
      " Confusion matrix: \n",
      " [[728 300]\n",
      " [ 67 226]]\n",
      "F1 Score: 0.5518925518925519\n",
      "Accuracy: 0.7221801665404997\n",
      "Precision: 0.4296577946768061\n",
      "Recall: 0.7713310580204779\n",
      "ROC AUC: 0.7397511321230793\n",
      "Epoch 132 | Train Loss 0.4307735860347748\n"
     ]
    },
    {
     "name": "stderr",
     "output_type": "stream",
     "text": [
      "100%|██████████| 133/133 [00:31<00:00,  4.18it/s]\n"
     ]
    },
    {
     "name": "stdout",
     "output_type": "stream",
     "text": [
      "\n",
      " Confusion matrix: \n",
      " [[730 306]\n",
      " [ 65 220]]\n",
      "F1 Score: 0.5425400739827374\n",
      "Accuracy: 0.7191521574564723\n",
      "Precision: 0.41825095057034223\n",
      "Recall: 0.7719298245614035\n",
      "ROC AUC: 0.7382815145973041\n",
      "Epoch 133 | Train Loss 0.7648438215255737\n"
     ]
    },
    {
     "name": "stderr",
     "output_type": "stream",
     "text": [
      "100%|██████████| 133/133 [00:32<00:00,  4.15it/s]\n"
     ]
    },
    {
     "name": "stdout",
     "output_type": "stream",
     "text": [
      "\n",
      " Confusion matrix: \n",
      " [[724 299]\n",
      " [ 71 227]]\n",
      "F1 Score: 0.5509708737864077\n",
      "Accuracy: 0.7199091597274792\n",
      "Precision: 0.43155893536121676\n",
      "Recall: 0.761744966442953\n",
      "ROC AUC: 0.7347336757923465\n",
      "Epoch 134 | Train Loss 0.8156890273094177\n"
     ]
    },
    {
     "name": "stderr",
     "output_type": "stream",
     "text": [
      "100%|██████████| 133/133 [00:31<00:00,  4.21it/s]\n"
     ]
    },
    {
     "name": "stdout",
     "output_type": "stream",
     "text": [
      "\n",
      " Confusion matrix: \n",
      " [[724 311]\n",
      " [ 71 215]]\n",
      "F1 Score: 0.5295566502463055\n",
      "Accuracy: 0.7108251324753975\n",
      "Precision: 0.40874524714828897\n",
      "Recall: 0.7517482517482518\n",
      "ROC AUC: 0.725632579980406\n",
      "Epoch 135 | Train Loss 0.5692290663719177\n"
     ]
    },
    {
     "name": "stderr",
     "output_type": "stream",
     "text": [
      "100%|██████████| 133/133 [00:32<00:00,  4.13it/s]\n"
     ]
    },
    {
     "name": "stdout",
     "output_type": "stream",
     "text": [
      "\n",
      " Confusion matrix: \n",
      " [[725 324]\n",
      " [ 70 202]]\n",
      "F1 Score: 0.506265664160401\n",
      "Accuracy: 0.7017411052233157\n",
      "Precision: 0.3840304182509506\n",
      "Recall: 0.7426470588235294\n",
      "ROC AUC: 0.7168907362754444\n",
      "Epoch 136 | Train Loss 0.8097460865974426\n"
     ]
    },
    {
     "name": "stderr",
     "output_type": "stream",
     "text": [
      "100%|██████████| 133/133 [00:31<00:00,  4.17it/s]\n"
     ]
    },
    {
     "name": "stdout",
     "output_type": "stream",
     "text": [
      "\n",
      " Confusion matrix: \n",
      " [[722 303]\n",
      " [ 73 223]]\n",
      "F1 Score: 0.5425790754257909\n",
      "Accuracy: 0.7153671461014383\n",
      "Precision: 0.42395437262357416\n",
      "Recall: 0.7533783783783784\n",
      "ROC AUC: 0.7288843111404087\n",
      "Epoch 137 | Train Loss 0.9115986824035645\n"
     ]
    },
    {
     "name": "stderr",
     "output_type": "stream",
     "text": [
      "100%|██████████| 133/133 [00:31<00:00,  4.17it/s]\n"
     ]
    },
    {
     "name": "stdout",
     "output_type": "stream",
     "text": [
      "\n",
      " Confusion matrix: \n",
      " [[723 305]\n",
      " [ 72 221]]\n",
      "F1 Score: 0.5396825396825397\n",
      "Accuracy: 0.7146101438304315\n",
      "Precision: 0.42015209125475284\n",
      "Recall: 0.7542662116040956\n",
      "ROC AUC: 0.7287868023001022\n",
      "Epoch 138 | Train Loss 0.19932053983211517\n"
     ]
    },
    {
     "name": "stderr",
     "output_type": "stream",
     "text": [
      "100%|██████████| 133/133 [00:32<00:00,  4.07it/s]\n"
     ]
    },
    {
     "name": "stdout",
     "output_type": "stream",
     "text": [
      "\n",
      " Confusion matrix: \n",
      " [[724 297]\n",
      " [ 71 229]]\n",
      "F1 Score: 0.5544794188861984\n",
      "Accuracy: 0.7214231642694928\n",
      "Precision: 0.435361216730038\n",
      "Recall: 0.7633333333333333\n",
      "ROC AUC: 0.7362210251387528\n",
      "Epoch 139 | Train Loss 0.7855694890022278\n"
     ]
    },
    {
     "name": "stderr",
     "output_type": "stream",
     "text": [
      "100%|██████████| 133/133 [00:32<00:00,  4.10it/s]\n"
     ]
    },
    {
     "name": "stdout",
     "output_type": "stream",
     "text": [
      "\n",
      " Confusion matrix: \n",
      " [[722 300]\n",
      " [ 73 226]]\n",
      "F1 Score: 0.5478787878787879\n",
      "Accuracy: 0.7176381529144588\n",
      "Precision: 0.4296577946768061\n",
      "Recall: 0.7558528428093646\n",
      "ROC AUC: 0.7311553842226862\n",
      "Epoch 140 | Train Loss 0.8083732724189758\n",
      "\n",
      " Confusion matrix: \n",
      " [[17  4]\n",
      " [ 3 16]]\n",
      "F1 Score: 0.8205128205128205\n",
      "Accuracy: 0.825\n",
      "Precision: 0.8\n",
      "Recall: 0.8421052631578947\n",
      "ROC AUC: 0.8258145363408521\n",
      "Epoch 140 | Test Loss 0.7952132225036621\n"
     ]
    },
    {
     "name": "stderr",
     "output_type": "stream",
     "text": [
      "100%|██████████| 133/133 [00:31<00:00,  4.18it/s]\n"
     ]
    },
    {
     "name": "stdout",
     "output_type": "stream",
     "text": [
      "\n",
      " Confusion matrix: \n",
      " [[716 307]\n",
      " [ 79 219]]\n",
      "F1 Score: 0.5315533980582524\n",
      "Accuracy: 0.7077971233913701\n",
      "Precision: 0.41634980988593157\n",
      "Recall: 0.7348993288590604\n",
      "ROC AUC: 0.7174007885742029\n",
      "Epoch 141 | Train Loss 0.7311239838600159\n"
     ]
    },
    {
     "name": "stderr",
     "output_type": "stream",
     "text": [
      "100%|██████████| 133/133 [00:32<00:00,  4.14it/s]\n"
     ]
    },
    {
     "name": "stdout",
     "output_type": "stream",
     "text": [
      "\n",
      " Confusion matrix: \n",
      " [[723 301]\n",
      " [ 72 225]]\n",
      "F1 Score: 0.5467800729040098\n",
      "Accuracy: 0.7176381529144588\n",
      "Precision: 0.42775665399239543\n",
      "Recall: 0.7575757575757576\n",
      "ROC AUC: 0.7318152225378788\n",
      "Epoch 142 | Train Loss 0.8283350467681885\n"
     ]
    },
    {
     "name": "stderr",
     "output_type": "stream",
     "text": [
      "100%|██████████| 133/133 [00:31<00:00,  4.16it/s]\n"
     ]
    },
    {
     "name": "stdout",
     "output_type": "stream",
     "text": [
      "\n",
      " Confusion matrix: \n",
      " [[715 291]\n",
      " [ 80 235]]\n",
      "F1 Score: 0.558858501783591\n",
      "Accuracy: 0.7191521574564723\n",
      "Precision: 0.4467680608365019\n",
      "Recall: 0.746031746031746\n",
      "ROC AUC: 0.7283836662564297\n",
      "Epoch 143 | Train Loss 0.8132379651069641\n"
     ]
    },
    {
     "name": "stderr",
     "output_type": "stream",
     "text": [
      "100%|██████████| 133/133 [00:32<00:00,  4.13it/s]\n"
     ]
    },
    {
     "name": "stdout",
     "output_type": "stream",
     "text": [
      "\n",
      " Confusion matrix: \n",
      " [[731 301]\n",
      " [ 64 225]]\n",
      "F1 Score: 0.5521472392638037\n",
      "Accuracy: 0.7236941710825132\n",
      "Precision: 0.42775665399239543\n",
      "Recall: 0.7785467128027682\n",
      "ROC AUC: 0.7434400230680508\n",
      "Epoch 144 | Train Loss 0.8041462302207947\n"
     ]
    },
    {
     "name": "stderr",
     "output_type": "stream",
     "text": [
      "100%|██████████| 133/133 [00:32<00:00,  4.13it/s]\n"
     ]
    },
    {
     "name": "stdout",
     "output_type": "stream",
     "text": [
      "\n",
      " Confusion matrix: \n",
      " [[715 296]\n",
      " [ 80 230]]\n",
      "F1 Score: 0.5502392344497608\n",
      "Accuracy: 0.7153671461014383\n",
      "Precision: 0.4372623574144487\n",
      "Recall: 0.7419354838709677\n",
      "ROC AUC: 0.724578028780192\n",
      "Epoch 145 | Train Loss 0.4898405373096466\n"
     ]
    },
    {
     "name": "stderr",
     "output_type": "stream",
     "text": [
      "100%|██████████| 133/133 [00:32<00:00,  4.10it/s]\n"
     ]
    },
    {
     "name": "stdout",
     "output_type": "stream",
     "text": [
      "\n",
      " Confusion matrix: \n",
      " [[715 307]\n",
      " [ 80 219]]\n",
      "F1 Score: 0.5309090909090909\n",
      "Accuracy: 0.7070401211203634\n",
      "Precision: 0.41634980988593157\n",
      "Recall: 0.7324414715719063\n",
      "ROC AUC: 0.7160250410697104\n",
      "Epoch 146 | Train Loss 0.8605591654777527\n"
     ]
    },
    {
     "name": "stderr",
     "output_type": "stream",
     "text": [
      "100%|██████████| 133/133 [00:32<00:00,  4.13it/s]\n"
     ]
    },
    {
     "name": "stdout",
     "output_type": "stream",
     "text": [
      "\n",
      " Confusion matrix: \n",
      " [[723 310]\n",
      " [ 72 216]]\n",
      "F1 Score: 0.5307125307125308\n",
      "Accuracy: 0.7108251324753975\n",
      "Precision: 0.41064638783269963\n",
      "Recall: 0.75\n",
      "ROC AUC: 0.7249515972894484\n",
      "Epoch 147 | Train Loss 0.7584646344184875\n"
     ]
    },
    {
     "name": "stderr",
     "output_type": "stream",
     "text": [
      "100%|██████████| 133/133 [00:31<00:00,  4.18it/s]\n"
     ]
    },
    {
     "name": "stdout",
     "output_type": "stream",
     "text": [
      "\n",
      " Confusion matrix: \n",
      " [[728 317]\n",
      " [ 67 209]]\n",
      "F1 Score: 0.5211970074812967\n",
      "Accuracy: 0.7093111279333838\n",
      "Precision: 0.3973384030418251\n",
      "Recall: 0.7572463768115942\n",
      "ROC AUC: 0.7269485472574718\n",
      "Epoch 148 | Train Loss 0.9437768459320068\n"
     ]
    },
    {
     "name": "stderr",
     "output_type": "stream",
     "text": [
      "100%|██████████| 133/133 [00:32<00:00,  4.14it/s]"
     ]
    },
    {
     "name": "stdout",
     "output_type": "stream",
     "text": [
      "\n",
      " Confusion matrix: \n",
      " [[726 304]\n",
      " [ 69 222]]\n",
      "F1 Score: 0.543451652386781\n",
      "Accuracy: 0.7176381529144588\n",
      "Precision: 0.4220532319391635\n",
      "Recall: 0.7628865979381443\n",
      "ROC AUC: 0.7338704834350915\n",
      "Epoch 149 | Train Loss 0.828301191329956\n",
      "Done.\n"
     ]
    },
    {
     "name": "stderr",
     "output_type": "stream",
     "text": [
      "\n"
     ]
    }
   ],
   "source": [
    "\n",
    "# %% Run the training\n",
    "with mlflow.start_run() as run:\n",
    "    for epoch in range(150):\n",
    "        # Training\n",
    "        model.train()\n",
    "        loss = train(epoch=epoch)\n",
    "        loss = loss.detach().cpu().numpy()\n",
    "        print(f\"Epoch {epoch} | Train Loss {loss}\")\n",
    "        mlflow.log_metric(key=\"Train loss\", value=float(loss), step=epoch)\n",
    "\n",
    "        # Testing\n",
    "        model.eval()\n",
    "        if epoch % 10 == 0 and epoch !=0:\n",
    "            loss = test(epoch=epoch)\n",
    "            loss = loss.detach().cpu().numpy()\n",
    "            print(f\"Epoch {epoch} | Test Loss {loss}\")\n",
    "            mlflow.log_metric(key=\"Test loss\", value=float(loss), step=epoch)\n",
    "\n",
    "        scheduler.step()\n",
    "print(\"Done.\")\n",
    "\n"
   ]
  },
  {
   "cell_type": "code",
   "execution_count": 170,
   "id": "13351bf3",
   "metadata": {},
   "outputs": [],
   "source": [
    "# SAVE MODEL\n",
    "#  pls create a folder named model_saved if not there\n",
    "now = datetime.now()\n",
    "dt_string = now.strftime(\"%d_%m_%Y %H_%M_%S\")\n",
    "PATH_to_save_model=\"model_saved/\"+\"model_\"+dt_string+\":\"+model_type_name+\".pt\"\n",
    "PATH_to_save_model=\"model_saved/model \"+dt_string+model_type_name+\"checkpoint2.pt\"\n",
    "torch.save(model, PATH_to_save_model)"
   ]
  },
  {
   "cell_type": "code",
   "execution_count": 171,
   "id": "8196ca47",
   "metadata": {},
   "outputs": [
    {
     "name": "stderr",
     "output_type": "stream",
     "text": [
      "2022/04/24 02:28:45 WARNING mlflow.utils.environment: Encountered an unexpected error while inferring pip requirements (model URI: C:\\Users\\JERRYJ~1\\AppData\\Local\\Temp\\tmpkwtxu9u_\\model\\data, flavor: pytorch), fall back to return ['torch==1.11.0', 'cloudpickle==2.0.0']. Set logging level to DEBUG to see the full traceback.\n"
     ]
    },
    {
     "data": {
      "text/plain": [
       "ModelInfo(artifact_path='model', flavors={'pytorch': {'model_data': 'data', 'pytorch_version': '1.11.0', 'code': None}, 'python_function': {'pickle_module_name': 'mlflow.pytorch.pickle_module', 'loader_module': 'mlflow.pytorch', 'python_version': '3.9.12', 'data': 'data', 'env': 'conda.yaml'}}, model_uri='runs:/e9c04e769a934cb49381603d9418d7cb/model', model_uuid='35fd636a4c654b8f849690cd5fd4b714', run_id='e9c04e769a934cb49381603d9418d7cb', saved_input_example_info=None, signature_dict=None, utc_time_created='2022-04-23 20:58:44.932102', mlflow_version='1.25.1')"
      ]
     },
     "execution_count": 171,
     "metadata": {},
     "output_type": "execute_result"
    }
   ],
   "source": [
    "\n",
    "# %% Save the model \n",
    "mlflow.pytorch.log_model(model, \"model\") "
   ]
  },
  {
   "cell_type": "code",
   "execution_count": 172,
   "id": "f93c9d77",
   "metadata": {},
   "outputs": [],
   "source": [
    "mlflow.end_run()"
   ]
  },
  {
   "cell_type": "code",
   "execution_count": 173,
   "id": "827fc8fc",
   "metadata": {},
   "outputs": [],
   "source": [
    "!shutdown -a"
   ]
  },
  {
   "cell_type": "code",
   "execution_count": 174,
   "id": "1db5104e",
   "metadata": {},
   "outputs": [],
   "source": [
    "!shutdown -s -t 10"
   ]
  },
  {
   "cell_type": "code",
   "execution_count": null,
   "id": "84aa8f23",
   "metadata": {},
   "outputs": [],
   "source": []
  }
 ],
 "metadata": {
  "kernelspec": {
   "display_name": "pytorch",
   "language": "python",
   "name": "pytorch"
  },
  "language_info": {
   "codemirror_mode": {
    "name": "ipython",
    "version": 3
   },
   "file_extension": ".py",
   "mimetype": "text/x-python",
   "name": "python",
   "nbconvert_exporter": "python",
   "pygments_lexer": "ipython3",
   "version": "3.9.12"
  }
 },
 "nbformat": 4,
 "nbformat_minor": 5
}
