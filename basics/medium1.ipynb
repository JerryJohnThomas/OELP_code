{
 "cells": [
  {
   "cell_type": "code",
   "execution_count": 3,
   "metadata": {},
   "outputs": [],
   "source": [
    "import torch"
   ]
  },
  {
   "cell_type": "code",
   "execution_count": 4,
   "metadata": {},
   "outputs": [],
   "source": [
    "import torch.nn as nn\n",
    "import torch.nn.functional as F\n",
    "from torch_geometric.nn import GCNConv"
   ]
  },
  {
   "cell_type": "code",
   "execution_count": 10,
   "metadata": {},
   "outputs": [
    {
     "name": "stderr",
     "output_type": "stream",
     "text": [
      "C:\\Users\\Jerry John Thomas\\AppData\\Local\\Temp\\ipykernel_16808\\1989985841.py:13: DeprecationWarning: \n",
      "\n",
      "The scipy.sparse array containers will be used instead of matrices\n",
      "in Networkx 3.0. Use `to_scipy_sparse_array` instead.\n",
      "  adj = nx.to_scipy_sparse_matrix(G).tocoo()\n"
     ]
    },
    {
     "ename": "AttributeError",
     "evalue": "module 'scipy.sparse' has no attribute 'coo_array'",
     "output_type": "error",
     "traceback": [
      "\u001b[1;31m---------------------------------------------------------------------------\u001b[0m",
      "\u001b[1;31mAttributeError\u001b[0m                            Traceback (most recent call last)",
      "\u001b[1;32md:\\code\\OELP_bigger\\basics\\medium1.ipynb Cell 3'\u001b[0m in \u001b[0;36m<cell line: 13>\u001b[1;34m()\u001b[0m\n\u001b[0;32m     <a href='vscode-notebook-cell:/d%3A/code/OELP_bigger/basics/medium1.ipynb#ch0000007?line=9'>10</a>\u001b[0m labels \u001b[39m=\u001b[39m np\u001b[39m.\u001b[39masarray([G\u001b[39m.\u001b[39mnodes[i][\u001b[39m'\u001b[39m\u001b[39mclub\u001b[39m\u001b[39m'\u001b[39m] \u001b[39m!=\u001b[39m \u001b[39m'\u001b[39m\u001b[39mMr. Hi\u001b[39m\u001b[39m'\u001b[39m \u001b[39mfor\u001b[39;00m i \u001b[39min\u001b[39;00m G\u001b[39m.\u001b[39mnodes])\u001b[39m.\u001b[39mastype(np\u001b[39m.\u001b[39mint64)\n\u001b[0;32m     <a href='vscode-notebook-cell:/d%3A/code/OELP_bigger/basics/medium1.ipynb#ch0000007?line=11'>12</a>\u001b[0m \u001b[39m# create edge index from \u001b[39;00m\n\u001b[1;32m---> <a href='vscode-notebook-cell:/d%3A/code/OELP_bigger/basics/medium1.ipynb#ch0000007?line=12'>13</a>\u001b[0m adj \u001b[39m=\u001b[39m nx\u001b[39m.\u001b[39;49mto_scipy_sparse_matrix(G)\u001b[39m.\u001b[39mtocoo()\n\u001b[0;32m     <a href='vscode-notebook-cell:/d%3A/code/OELP_bigger/basics/medium1.ipynb#ch0000007?line=13'>14</a>\u001b[0m row \u001b[39m=\u001b[39m torch\u001b[39m.\u001b[39mfrom_numpy(adj\u001b[39m.\u001b[39mrow\u001b[39m.\u001b[39mastype(np\u001b[39m.\u001b[39mint64))\u001b[39m.\u001b[39mto(torch\u001b[39m.\u001b[39mlong)\n\u001b[0;32m     <a href='vscode-notebook-cell:/d%3A/code/OELP_bigger/basics/medium1.ipynb#ch0000007?line=14'>15</a>\u001b[0m col \u001b[39m=\u001b[39m torch\u001b[39m.\u001b[39mfrom_numpy(adj\u001b[39m.\u001b[39mcol\u001b[39m.\u001b[39mastype(np\u001b[39m.\u001b[39mint64))\u001b[39m.\u001b[39mto(torch\u001b[39m.\u001b[39mlong)\n",
      "File \u001b[1;32md:\\Anaconda3\\envs\\pytorch\\lib\\site-packages\\networkx\\convert_matrix.py:1019\u001b[0m, in \u001b[0;36mto_scipy_sparse_matrix\u001b[1;34m(G, nodelist, dtype, weight, format)\u001b[0m\n\u001b[0;32m   <a href='file:///d%3A/Anaconda3/envs/pytorch/lib/site-packages/networkx/convert_matrix.py?line=1008'>1009</a>\u001b[0m \u001b[39mimport\u001b[39;00m \u001b[39mscipy\u001b[39;00m\u001b[39m.\u001b[39;00m\u001b[39msparse\u001b[39;00m\n\u001b[0;32m   <a href='file:///d%3A/Anaconda3/envs/pytorch/lib/site-packages/networkx/convert_matrix.py?line=1010'>1011</a>\u001b[0m warnings\u001b[39m.\u001b[39mwarn(\n\u001b[0;32m   <a href='file:///d%3A/Anaconda3/envs/pytorch/lib/site-packages/networkx/convert_matrix.py?line=1011'>1012</a>\u001b[0m     (\n\u001b[0;32m   <a href='file:///d%3A/Anaconda3/envs/pytorch/lib/site-packages/networkx/convert_matrix.py?line=1012'>1013</a>\u001b[0m         \u001b[39m\"\u001b[39m\u001b[39m\\n\u001b[39;00m\u001b[39m\\n\u001b[39;00m\u001b[39mThe scipy.sparse array containers will be used instead of matrices\u001b[39m\u001b[39m\\n\u001b[39;00m\u001b[39m\"\u001b[39m\n\u001b[1;32m   (...)\u001b[0m\n\u001b[0;32m   <a href='file:///d%3A/Anaconda3/envs/pytorch/lib/site-packages/networkx/convert_matrix.py?line=1016'>1017</a>\u001b[0m     stacklevel\u001b[39m=\u001b[39m\u001b[39m2\u001b[39m,\n\u001b[0;32m   <a href='file:///d%3A/Anaconda3/envs/pytorch/lib/site-packages/networkx/convert_matrix.py?line=1017'>1018</a>\u001b[0m )\n\u001b[1;32m-> <a href='file:///d%3A/Anaconda3/envs/pytorch/lib/site-packages/networkx/convert_matrix.py?line=1018'>1019</a>\u001b[0m A \u001b[39m=\u001b[39m to_scipy_sparse_array(\n\u001b[0;32m   <a href='file:///d%3A/Anaconda3/envs/pytorch/lib/site-packages/networkx/convert_matrix.py?line=1019'>1020</a>\u001b[0m     G, nodelist\u001b[39m=\u001b[39;49mnodelist, dtype\u001b[39m=\u001b[39;49mdtype, weight\u001b[39m=\u001b[39;49mweight, \u001b[39mformat\u001b[39;49m\u001b[39m=\u001b[39;49m\u001b[39mformat\u001b[39;49m\n\u001b[0;32m   <a href='file:///d%3A/Anaconda3/envs/pytorch/lib/site-packages/networkx/convert_matrix.py?line=1020'>1021</a>\u001b[0m )\n\u001b[0;32m   <a href='file:///d%3A/Anaconda3/envs/pytorch/lib/site-packages/networkx/convert_matrix.py?line=1021'>1022</a>\u001b[0m \u001b[39mreturn\u001b[39;00m sp\u001b[39m.\u001b[39msparse\u001b[39m.\u001b[39mcsr_matrix(A)\u001b[39m.\u001b[39masformat(\u001b[39mformat\u001b[39m)\n",
      "File \u001b[1;32md:\\Anaconda3\\envs\\pytorch\\lib\\site-packages\\networkx\\convert_matrix.py:921\u001b[0m, in \u001b[0;36mto_scipy_sparse_array\u001b[1;34m(G, nodelist, dtype, weight, format)\u001b[0m\n\u001b[0;32m    <a href='file:///d%3A/Anaconda3/envs/pytorch/lib/site-packages/networkx/convert_matrix.py?line=918'>919</a>\u001b[0m         r \u001b[39m+\u001b[39m\u001b[39m=\u001b[39m diag_index\n\u001b[0;32m    <a href='file:///d%3A/Anaconda3/envs/pytorch/lib/site-packages/networkx/convert_matrix.py?line=919'>920</a>\u001b[0m         c \u001b[39m+\u001b[39m\u001b[39m=\u001b[39m diag_index\n\u001b[1;32m--> <a href='file:///d%3A/Anaconda3/envs/pytorch/lib/site-packages/networkx/convert_matrix.py?line=920'>921</a>\u001b[0m     A \u001b[39m=\u001b[39m sp\u001b[39m.\u001b[39;49msparse\u001b[39m.\u001b[39;49mcoo_array((d, (r, c)), shape\u001b[39m=\u001b[39m(nlen, nlen), dtype\u001b[39m=\u001b[39mdtype)\n\u001b[0;32m    <a href='file:///d%3A/Anaconda3/envs/pytorch/lib/site-packages/networkx/convert_matrix.py?line=921'>922</a>\u001b[0m \u001b[39mtry\u001b[39;00m:\n\u001b[0;32m    <a href='file:///d%3A/Anaconda3/envs/pytorch/lib/site-packages/networkx/convert_matrix.py?line=922'>923</a>\u001b[0m     \u001b[39mreturn\u001b[39;00m A\u001b[39m.\u001b[39masformat(\u001b[39mformat\u001b[39m)\n",
      "\u001b[1;31mAttributeError\u001b[0m: module 'scipy.sparse' has no attribute 'coo_array'"
     ]
    }
   ],
   "source": [
    "import networkx as nx\n",
    "import numpy as np\n",
    "import torch\n",
    "from sklearn.preprocessing import StandardScaler\n",
    "\n",
    "# load graph from networkx library\n",
    "G = nx.karate_club_graph()\n",
    "\n",
    "# retrieve the labels for each node\n",
    "labels = np.asarray([G.nodes[i]['club'] != 'Mr. Hi' for i in G.nodes]).astype(np.int64)\n",
    "\n",
    "# create edge index from \n",
    "adj = nx.to_scipy_sparse_matrix(G).tocoo()\n",
    "row = torch.from_numpy(adj.row.astype(np.int64)).to(torch.long)\n",
    "col = torch.from_numpy(adj.col.astype(np.int64)).to(torch.long)\n",
    "edge_index = torch.stack([row, col], dim=0)\n",
    "\n",
    "# using degree as embedding\n",
    "embeddings = np.array(list(dict(G.degree()).values()))\n",
    "\n",
    "# normalizing degree values\n",
    "scale = StandardScaler()\n",
    "embeddings = scale.fit_transform(embeddings.reshape(-1,1))"
   ]
  },
  {
   "cell_type": "code",
   "execution_count": null,
   "metadata": {},
   "outputs": [
    {
     "ename": "NameError",
     "evalue": "name 'edge_index' is not defined",
     "output_type": "error",
     "traceback": [
      "\u001b[1;31m---------------------------------------------------------------------------\u001b[0m",
      "\u001b[1;31mNameError\u001b[0m                                 Traceback (most recent call last)",
      "\u001b[1;32md:\\code\\OELP_bigger\\basics\\medium1.ipynb Cell 3'\u001b[0m in \u001b[0;36m<cell line: 52>\u001b[1;34m()\u001b[0m\n\u001b[0;32m     <a href='vscode-notebook-cell:/d%3A/code/OELP_bigger/basics/medium1.ipynb#ch0000005?line=48'>49</a>\u001b[0m     \u001b[39mdef\u001b[39;00m \u001b[39m__repr__\u001b[39m(\u001b[39mself\u001b[39m):\n\u001b[0;32m     <a href='vscode-notebook-cell:/d%3A/code/OELP_bigger/basics/medium1.ipynb#ch0000005?line=49'>50</a>\u001b[0m         \u001b[39mreturn\u001b[39;00m \u001b[39m'\u001b[39m\u001b[39m{}\u001b[39;00m\u001b[39m()\u001b[39m\u001b[39m'\u001b[39m\u001b[39m.\u001b[39mformat(\u001b[39mself\u001b[39m\u001b[39m.\u001b[39m\u001b[39m__class__\u001b[39m\u001b[39m.\u001b[39m\u001b[39m__name__\u001b[39m)\n\u001b[1;32m---> <a href='vscode-notebook-cell:/d%3A/code/OELP_bigger/basics/medium1.ipynb#ch0000005?line=51'>52</a>\u001b[0m dataset \u001b[39m=\u001b[39m KarateDataset()\n\u001b[0;32m     <a href='vscode-notebook-cell:/d%3A/code/OELP_bigger/basics/medium1.ipynb#ch0000005?line=52'>53</a>\u001b[0m data \u001b[39m=\u001b[39m dataset[\u001b[39m0\u001b[39m]\n",
      "\u001b[1;32md:\\code\\OELP_bigger\\basics\\medium1.ipynb Cell 3'\u001b[0m in \u001b[0;36mKarateDataset.__init__\u001b[1;34m(self, transform)\u001b[0m\n\u001b[0;32m      <a href='vscode-notebook-cell:/d%3A/code/OELP_bigger/basics/medium1.ipynb#ch0000005?line=8'>9</a>\u001b[0m \u001b[39mdef\u001b[39;00m \u001b[39m__init__\u001b[39m(\u001b[39mself\u001b[39m, transform\u001b[39m=\u001b[39m\u001b[39mNone\u001b[39;00m):\n\u001b[0;32m     <a href='vscode-notebook-cell:/d%3A/code/OELP_bigger/basics/medium1.ipynb#ch0000005?line=9'>10</a>\u001b[0m     \u001b[39msuper\u001b[39m(KarateDataset, \u001b[39mself\u001b[39m)\u001b[39m.\u001b[39m\u001b[39m__init__\u001b[39m(\u001b[39m'\u001b[39m\u001b[39m.\u001b[39m\u001b[39m'\u001b[39m, transform, \u001b[39mNone\u001b[39;00m, \u001b[39mNone\u001b[39;00m)\n\u001b[1;32m---> <a href='vscode-notebook-cell:/d%3A/code/OELP_bigger/basics/medium1.ipynb#ch0000005?line=11'>12</a>\u001b[0m     data \u001b[39m=\u001b[39m Data(edge_index\u001b[39m=\u001b[39medge_index)\n\u001b[0;32m     <a href='vscode-notebook-cell:/d%3A/code/OELP_bigger/basics/medium1.ipynb#ch0000005?line=13'>14</a>\u001b[0m     data\u001b[39m.\u001b[39mnum_nodes \u001b[39m=\u001b[39m G\u001b[39m.\u001b[39mnumber_of_nodes()\n\u001b[0;32m     <a href='vscode-notebook-cell:/d%3A/code/OELP_bigger/basics/medium1.ipynb#ch0000005?line=15'>16</a>\u001b[0m     \u001b[39m# embedding \u001b[39;00m\n",
      "\u001b[1;31mNameError\u001b[0m: name 'edge_index' is not defined"
     ]
    }
   ],
   "source": [
    "import torch\n",
    "import pandas as pd\n",
    "from torch_geometric.data import InMemoryDataset, Data\n",
    "from sklearn.model_selection import train_test_split\n",
    "import torch_geometric.transforms as T\n",
    "\n",
    "# custom dataset\n",
    "class KarateDataset(InMemoryDataset):\n",
    "    def __init__(self, transform=None):\n",
    "        super(KarateDataset, self).__init__('.', transform, None, None)\n",
    "\n",
    "        data = Data(edge_index=edge_index)\n",
    "        \n",
    "        data.num_nodes = G.number_of_nodes()\n",
    "        \n",
    "        # embedding \n",
    "        data.x = torch.from_numpy(embeddings).type(torch.float32)\n",
    "        \n",
    "        # labels\n",
    "        y = torch.from_numpy(labels).type(torch.long)\n",
    "        data.y = y.clone().detach()\n",
    "        \n",
    "        data.num_classes = 2\n",
    "\n",
    "        # splitting the data into train, validation and test\n",
    "        X_train, X_test, y_train, y_test = train_test_split(pd.Series(list(G.nodes())), \n",
    "                                                            pd.Series(labels),\n",
    "                                                            test_size=0.30, \n",
    "                                                            random_state=42)\n",
    "        \n",
    "        n_nodes = G.number_of_nodes()\n",
    "        \n",
    "        # create train and test masks for data\n",
    "        train_mask = torch.zeros(n_nodes, dtype=torch.bool)\n",
    "        test_mask = torch.zeros(n_nodes, dtype=torch.bool)\n",
    "        train_mask[X_train.index] = True\n",
    "        test_mask[X_test.index] = True\n",
    "        data['train_mask'] = train_mask\n",
    "        data['test_mask'] = test_mask\n",
    "\n",
    "        self.data, self.slices = self.collate([data])\n",
    "\n",
    "    def _download(self):\n",
    "        return\n",
    "\n",
    "    def _process(self):\n",
    "        return\n",
    "\n",
    "    def __repr__(self):\n",
    "        return '{}()'.format(self.__class__.__name__)\n",
    "    \n",
    "dataset = KarateDataset()\n",
    "data = dataset[0]"
   ]
  },
  {
   "cell_type": "code",
   "execution_count": null,
   "metadata": {},
   "outputs": [],
   "source": [
    "dataset"
   ]
  },
  {
   "cell_type": "code",
   "execution_count": 7,
   "metadata": {},
   "outputs": [
    {
     "ename": "NameError",
     "evalue": "name 'data' is not defined",
     "output_type": "error",
     "traceback": [
      "\u001b[1;31m---------------------------------------------------------------------------\u001b[0m",
      "\u001b[1;31mNameError\u001b[0m                                 Traceback (most recent call last)",
      "\u001b[1;32md:\\code\\OELP_bigger\\basics\\medium1.ipynb Cell 3'\u001b[0m in \u001b[0;36m<cell line: 17>\u001b[1;34m()\u001b[0m\n\u001b[0;32m     <a href='vscode-notebook-cell:/d%3A/code/OELP_bigger/basics/medium1.ipynb#ch0000001?line=12'>13</a>\u001b[0m         \u001b[39mreturn\u001b[39;00m F\u001b[39m.\u001b[39mlog_softmax(x, dim\u001b[39m=\u001b[39m\u001b[39m1\u001b[39m)\n\u001b[0;32m     <a href='vscode-notebook-cell:/d%3A/code/OELP_bigger/basics/medium1.ipynb#ch0000001?line=14'>15</a>\u001b[0m device \u001b[39m=\u001b[39m torch\u001b[39m.\u001b[39mdevice(\u001b[39m'\u001b[39m\u001b[39mcuda\u001b[39m\u001b[39m'\u001b[39m \u001b[39mif\u001b[39;00m torch\u001b[39m.\u001b[39mcuda\u001b[39m.\u001b[39mis_available() \u001b[39melse\u001b[39;00m \u001b[39m'\u001b[39m\u001b[39mcpu\u001b[39m\u001b[39m'\u001b[39m)\n\u001b[1;32m---> <a href='vscode-notebook-cell:/d%3A/code/OELP_bigger/basics/medium1.ipynb#ch0000001?line=16'>17</a>\u001b[0m data \u001b[39m=\u001b[39m  data\u001b[39m.\u001b[39mto(device)\n\u001b[0;32m     <a href='vscode-notebook-cell:/d%3A/code/OELP_bigger/basics/medium1.ipynb#ch0000001?line=18'>19</a>\u001b[0m model \u001b[39m=\u001b[39m Net()\u001b[39m.\u001b[39mto(device)\n",
      "\u001b[1;31mNameError\u001b[0m: name 'data' is not defined"
     ]
    }
   ],
   "source": [
    "# GCN model with 2 layers \n",
    "class Net(torch.nn.Module):\n",
    "    def __init__(self):\n",
    "        super(Net, self).__init__()\n",
    "        self.conv1 = GCNConv(data.num_features, 16)\n",
    "        self.conv2 = GCNConv(16, int(data.num_classes))\n",
    "\n",
    "    def forward(self):\n",
    "        x, edge_index = data.x, data.edge_index\n",
    "        x = F.relu(self.conv1(x, edge_index))\n",
    "        x = F.dropout(x, training=self.training)\n",
    "        x = self.conv2(x, edge_index)\n",
    "        return F.log_softmax(x, dim=1)\n",
    "\n",
    "device = torch.device('cuda' if torch.cuda.is_available() else 'cpu')\n",
    "\n",
    "data =  data.to(device)\n",
    "\n",
    "model = Net().to(device) "
   ]
  },
  {
   "cell_type": "code",
   "execution_count": 6,
   "metadata": {},
   "outputs": [
    {
     "ename": "NameError",
     "evalue": "name 'model' is not defined",
     "output_type": "error",
     "traceback": [
      "\u001b[1;31m---------------------------------------------------------------------------\u001b[0m",
      "\u001b[1;31mNameError\u001b[0m                                 Traceback (most recent call last)",
      "\u001b[1;32md:\\code\\OELP_bigger\\basics\\medium1.ipynb Cell 4'\u001b[0m in \u001b[0;36m<cell line: 5>\u001b[1;34m()\u001b[0m\n\u001b[0;32m      <a href='vscode-notebook-cell:/d%3A/code/OELP_bigger/basics/medium1.ipynb#ch0000002?line=2'>3</a>\u001b[0m optimizer_name \u001b[39m=\u001b[39m \u001b[39m\"\u001b[39m\u001b[39mAdam\u001b[39m\u001b[39m\"\u001b[39m\n\u001b[0;32m      <a href='vscode-notebook-cell:/d%3A/code/OELP_bigger/basics/medium1.ipynb#ch0000002?line=3'>4</a>\u001b[0m lr \u001b[39m=\u001b[39m \u001b[39m1e-1\u001b[39m\n\u001b[1;32m----> <a href='vscode-notebook-cell:/d%3A/code/OELP_bigger/basics/medium1.ipynb#ch0000002?line=4'>5</a>\u001b[0m optimizer \u001b[39m=\u001b[39m \u001b[39mgetattr\u001b[39m(torch\u001b[39m.\u001b[39moptim, optimizer_name)(model\u001b[39m.\u001b[39mparameters(), lr\u001b[39m=\u001b[39mlr)\n\u001b[0;32m      <a href='vscode-notebook-cell:/d%3A/code/OELP_bigger/basics/medium1.ipynb#ch0000002?line=5'>6</a>\u001b[0m epochs \u001b[39m=\u001b[39m \u001b[39m200\u001b[39m\n\u001b[0;32m      <a href='vscode-notebook-cell:/d%3A/code/OELP_bigger/basics/medium1.ipynb#ch0000002?line=7'>8</a>\u001b[0m \u001b[39mdef\u001b[39;00m \u001b[39mtrain\u001b[39m():\n",
      "\u001b[1;31mNameError\u001b[0m: name 'model' is not defined"
     ]
    }
   ],
   "source": [
    "\n",
    "torch.manual_seed(42)\n",
    "\n",
    "optimizer_name = \"Adam\"\n",
    "lr = 1e-1\n",
    "optimizer = getattr(torch.optim, optimizer_name)(model.parameters(), lr=lr)\n",
    "epochs = 200\n",
    "\n",
    "def train():\n",
    "  model.train()\n",
    "  optimizer.zero_grad()\n",
    "  F.nll_loss(model()[data.train_mask], data.y[data.train_mask]).backward()\n",
    "  optimizer.step()\n",
    "\n",
    "@torch.no_grad()\n",
    "def test():\n",
    "  model.eval()\n",
    "  logits = model()\n",
    "  mask1 = data['train_mask']\n",
    "  pred1 = logits[mask1].max(1)[1]\n",
    "  acc1 = pred1.eq(data.y[mask1]).sum().item() / mask1.sum().item()\n",
    "  mask = data['test_mask']\n",
    "  pred = logits[mask].max(1)[1]\n",
    "  acc = pred.eq(data.y[mask]).sum().item() / mask.sum().item()\n",
    "  return acc1,acc\n",
    "\n"
   ]
  },
  {
   "cell_type": "code",
   "execution_count": null,
   "metadata": {},
   "outputs": [],
   "source": [
    "for epoch in range(1, epochs):\n",
    "  train()\n",
    "\n",
    "train_acc,test_acc = test()\n",
    "\n",
    "print('#' * 70)\n",
    "print('Train Accuracy: %s' %train_acc )\n",
    "print('Test Accuracy: %s' % test_acc)\n",
    "print('#' * 70)"
   ]
  }
 ],
 "metadata": {
  "interpreter": {
   "hash": "719f98299ccca36a884f9d141671719e20aaacc8082e234f139e455a4a5b836e"
  },
  "kernelspec": {
   "display_name": "Python 3.9.12 ('pytorch')",
   "language": "python",
   "name": "python3"
  },
  "language_info": {
   "codemirror_mode": {
    "name": "ipython",
    "version": 3
   },
   "file_extension": ".py",
   "mimetype": "text/x-python",
   "name": "python",
   "nbconvert_exporter": "python",
   "pygments_lexer": "ipython3",
   "version": "3.9.12"
  },
  "orig_nbformat": 4
 },
 "nbformat": 4,
 "nbformat_minor": 2
}
